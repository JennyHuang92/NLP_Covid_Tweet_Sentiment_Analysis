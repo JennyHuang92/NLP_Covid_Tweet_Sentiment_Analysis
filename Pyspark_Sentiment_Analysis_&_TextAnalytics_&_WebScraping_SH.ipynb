{
 "cells": [
  {
   "cell_type": "code",
   "execution_count": 1,
   "metadata": {
    "ExecuteTime": {
     "end_time": "2022-02-21T16:33:05.574988Z",
     "start_time": "2022-02-21T16:33:05.268237Z"
    }
   },
   "outputs": [
    {
     "name": "stdout",
     "output_type": "stream",
     "text": [
      "Ticket cache: FILE:/tmp/krb5cc_4581700\r\n",
      "Default principal: AC27802@CTL.INTRANET\r\n",
      "\r\n",
      "Valid starting       Expires              Service principal\r\n",
      "02/21/2022 10:33:05  02/21/2022 20:33:05  krbtgt/CTL.INTRANET@CTL.INTRANET\r\n",
      "\trenew until 02/28/2022 10:33:05\r\n"
     ]
    },
    {
     "data": {
      "text/plain": [
       "'application_1640810621319_359004'"
      ]
     },
     "execution_count": 1,
     "metadata": {},
     "output_type": "execute_result"
    }
   ],
   "source": [
    "# Initialzied SparkContext/SparkSesion\n",
    "\n",
    "!kinit AC27802@CTL.INTRANET -k -t AC27802.keytab;\n",
    "!klist\n",
    "\n",
    "#sc = spark.sparkContext\n",
    "sc.applicationId"
   ]
  },
  {
   "cell_type": "code",
   "execution_count": 2,
   "metadata": {
    "ExecuteTime": {
     "end_time": "2022-02-21T16:33:05.809801Z",
     "start_time": "2022-02-21T16:33:05.797365Z"
    }
   },
   "outputs": [
    {
     "data": {
      "text/html": [
       "\n",
       "        <div>\n",
       "            <p><b>SparkContext</b></p>\n",
       "\n",
       "            <p><a href=\"http://poldcdhen005.dev.intranet:4046\">Spark UI</a></p>\n",
       "\n",
       "            <dl>\n",
       "              <dt>Version</dt>\n",
       "                <dd><code>v2.4.0-cdh6.3.4</code></dd>\n",
       "              <dt>Master</dt>\n",
       "                <dd><code>yarn</code></dd>\n",
       "              <dt>AppName</dt>\n",
       "                <dd><code>JupyterHub Notebook PySpark 2.4</code></dd>\n",
       "            </dl>\n",
       "        </div>\n",
       "        "
      ],
      "text/plain": [
       "<SparkContext master=yarn appName=JupyterHub Notebook PySpark 2.4>"
      ]
     },
     "execution_count": 2,
     "metadata": {},
     "output_type": "execute_result"
    }
   ],
   "source": [
    "# Check Spark Version \n",
    "\n",
    "spark.version\n",
    "\n",
    "#sqlContext #<pyspark.sql.context.SQLContext at 0x7f8969e88b00>\n",
    "#spark\n",
    "#sc\n",
    "\n",
    "spark.sparkContext #SparkContext is retrieved from the Spark session object by using sparkSession.sparkContext."
   ]
  },
  {
   "cell_type": "code",
   "execution_count": 3,
   "metadata": {
    "ExecuteTime": {
     "end_time": "2022-02-18T17:10:38.347700Z",
     "start_time": "2022-02-18T17:10:38.343941Z"
    }
   },
   "outputs": [],
   "source": [
    "# %pip install -U textblob"
   ]
  },
  {
   "cell_type": "markdown",
   "metadata": {},
   "source": [
    "# Import Packages"
   ]
  },
  {
   "cell_type": "code",
   "execution_count": 1,
   "metadata": {
    "ExecuteTime": {
     "end_time": "2022-02-21T19:00:08.050196Z",
     "start_time": "2022-02-21T19:00:05.787948Z"
    }
   },
   "outputs": [],
   "source": [
    "#######################################################################################\n",
    "# Install new package \n",
    "#%pip install -tweepy #run in terminal\n",
    "#%pip install vaderSentiment #run in terminal\n",
    "#%pip install --upgrade vaderSentiment\n",
    "#%pip install emoji --upgrade\n",
    "#%pip install -U textblob\n",
    "#%pip install lxml\n",
    "\n",
    "#######################################################################################\n",
    "# Pandas \n",
    "import os\n",
    "import pandas as pd\n",
    "import numpy as np\n",
    "\n",
    "\n",
    "#######################################################################################\n",
    "# Tweepy, NLP libraries & Image  \n",
    "import tweepy # For parsing tweets\n",
    "import nltk\n",
    "from nltk import RegexpParser\n",
    "from nltk import word_tokenize, pos_tag, pos_tag_sents # use pos_tag_sents() for efficient tagging of more than one sentence\n",
    "from nltk.tokenize import RegexpTokenizer\n",
    "from nltk.tokenize import TweetTokenizer # tokenizers written specifically for twitter text\n",
    "from nltk.corpus import stopwords\n",
    "from nltk.stem import PorterStemmer\n",
    "from nltk.stem.snowball import SnowballStemmer\n",
    "from nltk.stem.wordnet import WordNetLemmatizer\n",
    "from collections import Counter # To count the tags A counter is a dictionary subclass works on principle of key-value operation \n",
    "# It is an unordered collection where elements are stored as a dictionary key while the count is their value.\n",
    "from wordcloud import WordCloud, STOPWORDS\n",
    "from textblob import TextBlob, Word, Blobber\n",
    "from textblob.sentiments import NaiveBayesAnalyzer #Importing the NaiveBayesAnalyzer classifier from NLTK\n",
    "from textblob.classifiers import NaiveBayesClassifier\n",
    "from textblob.taggers import NLTKTagger\n",
    "from vaderSentiment.vaderSentiment import SentimentIntensityAnalyzer\n",
    "from PIL import Image\n",
    "import re # regular expression\n",
    "import emoji \n",
    "from emoji import emojize\n",
    "import string\n",
    "from string import punctuation\n",
    "\n",
    "\n",
    "\n",
    "\n",
    "#######################################################################################\n",
    "# Web Scraping \n",
    "import requests # it is used to get the content from a web page\n",
    "from bs4 import BeautifulSoup\n",
    "\n",
    "\n",
    "\n",
    "\n",
    "#######################################################################################\n",
    "# Python Sklearn ML libraries  \n",
    "from sklearn.feature_extraction.text import CountVectorizer, TfidfVectorizer  \n",
    "from sklearn.metrics.pairwise import cosine_similarity\n",
    "from sklearn.cluster import KMeans\n",
    "\n",
    "\n",
    "\n",
    "#######################################################################################\n",
    "# Pyspark SQL and functions\n",
    "from pyspark import SparkFiles\n",
    "from pyspark import SparkConf, SparkContext\n",
    "from pyspark.sql import SparkSession, SQLContext\n",
    "from pyspark.sql.functions import *\n",
    "from pyspark.sql.types import *\n",
    "import pyspark.sql.functions as F\n",
    "from pyspark.sql.functions import udf, col #user defined functions  (UDF)\n",
    "\n",
    "\n",
    "\n",
    "\n",
    "#######################################################################################\n",
    "# Pyspark ML Libraries\n",
    "from pyspark.ml.regression import LinearRegression\n",
    "from pyspark.mllib.evaluation import RegressionMetrics\n",
    "from pyspark.ml.tuning import ParamGridBuilder, CrossValidator, CrossValidatorModel\n",
    "from pyspark.ml.feature import VectorAssembler, StandardScaler\n",
    "from pyspark.ml.evaluation import RegressionEvaluator\n",
    "\n",
    "\n",
    "\n",
    "#######################################################################################\n",
    "# Credentials and RDBMS Connections\n",
    "import cx_Oracle\n",
    "import os\n",
    "import keyrings\n",
    "from keyrings.cryptfile.cryptfile import CryptFileKeyring\n",
    "kr = CryptFileKeyring()\n",
    "\n",
    "\n",
    "\n",
    "#######################################################################################\n",
    "# Visualization\n",
    "import seaborn as sns\n",
    "import matplotlib as plt\n",
    "import matplotlib.pyplot as plt\n",
    "import matplotlib.ticker as mtick\n",
    "\n",
    "from IPython.core.interactiveshell import InteractiveShell\n",
    "InteractiveShell.ast_node_interactivity = \"all\"\n",
    "\n",
    "pd.set_option('display.max_columns', 200)\n",
    "pd.set_option('display.max_colwidth', 400)\n",
    "\n",
    "\n",
    "from matplotlib import rcParams\n",
    "sns.set(context='notebook', style='whitegrid', rc={'figure.figsize': (18,4)})\n",
    "rcParams['figure.figsize'] = 18,4\n",
    "\n",
    "%matplotlib inline\n",
    "%config InlineBackend.figure_format = 'retina'\n",
    "\n",
    "\n",
    "\n",
    "#######################################################################################\n",
    "# Disable Warnings\n",
    "import warnings\n",
    "warnings.filterwarnings('ignore', '.*do not.*', )\n",
    "warnings.warn('Do not show this message')\n"
   ]
  },
  {
   "cell_type": "markdown",
   "metadata": {},
   "source": [
    "Example for Advanced Pyspark for Data Exploratory\n",
    "https://www.kaggle.com/tientd95/advanced-pyspark-for-exploratory-data-analysis"
   ]
  },
  {
   "cell_type": "markdown",
   "metadata": {},
   "source": [
    "# Connect Kaggle APl using spark"
   ]
  },
  {
   "cell_type": "code",
   "execution_count": 5,
   "metadata": {
    "ExecuteTime": {
     "end_time": "2022-02-15T20:21:18.079519Z",
     "start_time": "2022-02-15T20:21:17.928789Z"
    }
   },
   "outputs": [
    {
     "name": "stdout",
     "output_type": "stream",
     "text": [
      "{\"username\":\"jennysmh\",\"key\":\"a01da1a07a7c40872229bac4149ecdb6\"}"
     ]
    }
   ],
   "source": [
    "# Retrieve API Key \n",
    "!cat /home/AC27802/.kaggle.json"
   ]
  },
  {
   "cell_type": "code",
   "execution_count": 6,
   "metadata": {
    "ExecuteTime": {
     "end_time": "2022-02-15T20:21:18.225666Z",
     "start_time": "2022-02-15T20:21:18.082866Z"
    }
   },
   "outputs": [],
   "source": [
    "!chmod 600 /home/AC27802/.kaggle.json\n",
    "#!chmod 600 /home/AC27802/.kaggle/kaggle.json"
   ]
  },
  {
   "cell_type": "code",
   "execution_count": 7,
   "metadata": {
    "ExecuteTime": {
     "end_time": "2022-02-15T20:21:18.293538Z",
     "start_time": "2022-02-15T20:21:18.229191Z"
    }
   },
   "outputs": [
    {
     "name": "stdout",
     "output_type": "stream",
     "text": [
      "Warning: Your Kaggle API key is readable by other users on this system! To fix this, you can run 'chmod 600 /home/AC27802/.kaggle/kaggle.json'\n"
     ]
    }
   ],
   "source": [
    "import kaggle\n",
    "from kaggle.api.kaggle_api_extended import KaggleApi"
   ]
  },
  {
   "cell_type": "code",
   "execution_count": 8,
   "metadata": {
    "ExecuteTime": {
     "end_time": "2022-02-15T20:21:18.322336Z",
     "start_time": "2022-02-15T20:21:18.296793Z"
    }
   },
   "outputs": [
    {
     "name": "stdout",
     "output_type": "stream",
     "text": [
      "Warning: Your Kaggle API key is readable by other users on this system! To fix this, you can run 'chmod 600 /home/AC27802/.kaggle/kaggle.json'\n"
     ]
    }
   ],
   "source": [
    "# initialize API and authenticate/ connect with API\n",
    "\n",
    "api = KaggleApi()\n",
    "api.authenticate()"
   ]
  },
  {
   "cell_type": "markdown",
   "metadata": {},
   "source": [
    "# Pull Kaggle Dataset "
   ]
  },
  {
   "cell_type": "markdown",
   "metadata": {
    "ExecuteTime": {
     "start_time": "2022-01-28T15:20:22.999Z"
    }
   },
   "source": [
    "## Information about the user who tweeted\n",
    "#### user_name: Twitter handle\n",
    "#### user_location: where in the world the person tweets from \n",
    "#### user_description: user-written biography\n",
    "#### user_created: when they created their Twitter account\n",
    "#### user_followers: number of followers\n",
    "#### user_friends: number of accounts the user is following\n",
    "#### user_favourites: number of tweets the user has liked\n",
    "#### user_verified: indicates if the user is a well-known figure (boolean)\n",
    "    \n",
    "## Information about the tweet itself\n",
    "#### id: indexing value for Twitter API\n",
    "#### date: a datetime object in the form of YYYY-MM-DD HH:MM:SS\n",
    "#### text: the tweet itself (**MOST IMPORTANT**)\n",
    "#### hashtags: list of hashtags used in the tweet (without ‘#’ character)\n",
    "#### source: which device was used for the tweet\n",
    "#### retweets: number of retweets received at the time the data was collected\n",
    "#### favorites: number of likes received at the time the data was collected\n",
    "#### is_retweet: indicates if the tweet is original or a retweet (boolean)"
   ]
  },
  {
   "cell_type": "code",
   "execution_count": 9,
   "metadata": {
    "ExecuteTime": {
     "end_time": "2022-02-15T20:21:18.370311Z",
     "start_time": "2022-02-15T20:21:18.325903Z"
    }
   },
   "outputs": [],
   "source": [
    "# Read Competition Dataset \n",
    "#api.competition_download_file('g-research-crypto-forecasting', \n",
    " #                             'asset_details.csv')"
   ]
  },
  {
   "cell_type": "code",
   "execution_count": 10,
   "metadata": {
    "ExecuteTime": {
     "end_time": "2022-02-15T20:21:19.278476Z",
     "start_time": "2022-02-15T20:21:18.373150Z"
    }
   },
   "outputs": [
    {
     "data": {
      "text/plain": [
       "False"
      ]
     },
     "execution_count": 10,
     "metadata": {},
     "output_type": "execute_result"
    }
   ],
   "source": [
    "# Read Standalone Dataset\n",
    "\n",
    "## download dataset onto home directory\n",
    "api.dataset_download_file('gpreda/all-covid19-vaccines-tweets', \n",
    "                          file_name='vaccination_all_tweets.csv')"
   ]
  },
  {
   "cell_type": "code",
   "execution_count": 11,
   "metadata": {
    "ExecuteTime": {
     "end_time": "2022-02-15T20:21:20.073360Z",
     "start_time": "2022-02-15T20:21:19.280494Z"
    }
   },
   "outputs": [],
   "source": [
    "import zipfile\n",
    "\n",
    "# unzip csv file in home directory \n",
    "with zipfile.ZipFile('vaccination_all_tweets.csv.zip', 'r') as zipref:\n",
    "    zipref.extractall()"
   ]
  },
  {
   "cell_type": "code",
   "execution_count": 12,
   "metadata": {
    "ExecuteTime": {
     "end_time": "2022-02-15T20:21:23.396046Z",
     "start_time": "2022-02-15T20:21:20.076164Z"
    }
   },
   "outputs": [],
   "source": [
    "# Copy csv file onto Hadoop file system from home directory\n",
    "\n",
    "!hdfs dfs -copyFromLocal -f /home/AC27802/vaccination_all_tweets.csv /user/AC27802"
   ]
  },
  {
   "cell_type": "code",
   "execution_count": 13,
   "metadata": {
    "ExecuteTime": {
     "end_time": "2022-02-15T20:22:07.234645Z",
     "start_time": "2022-02-15T20:21:23.399988Z"
    }
   },
   "outputs": [
    {
     "data": {
      "text/html": [
       "<div>\n",
       "<style scoped>\n",
       "    .dataframe tbody tr th:only-of-type {\n",
       "        vertical-align: middle;\n",
       "    }\n",
       "\n",
       "    .dataframe tbody tr th {\n",
       "        vertical-align: top;\n",
       "    }\n",
       "\n",
       "    .dataframe thead th {\n",
       "        text-align: right;\n",
       "    }\n",
       "</style>\n",
       "<table border=\"1\" class=\"dataframe\">\n",
       "  <thead>\n",
       "    <tr style=\"text-align: right;\">\n",
       "      <th></th>\n",
       "      <th>id</th>\n",
       "      <th>user_name</th>\n",
       "      <th>user_location</th>\n",
       "      <th>user_description</th>\n",
       "      <th>user_created</th>\n",
       "      <th>user_followers</th>\n",
       "      <th>user_friends</th>\n",
       "      <th>user_favourites</th>\n",
       "      <th>user_verified</th>\n",
       "      <th>date</th>\n",
       "      <th>text</th>\n",
       "      <th>hashtags</th>\n",
       "      <th>source</th>\n",
       "      <th>retweets</th>\n",
       "      <th>favorites</th>\n",
       "      <th>is_retweet</th>\n",
       "    </tr>\n",
       "  </thead>\n",
       "  <tbody>\n",
       "    <tr>\n",
       "      <th>0</th>\n",
       "      <td>1340539111971516416</td>\n",
       "      <td>Rachel Roh</td>\n",
       "      <td>La Crescenta-Montrose, CA</td>\n",
       "      <td>Aggregator of Asian American news; scanning diverse sources 24/7/365. RT's, Follows and 'Likes' will fuel me 👩‍💻</td>\n",
       "      <td>2009-04-08 17:52:46</td>\n",
       "      <td>405</td>\n",
       "      <td>1692</td>\n",
       "      <td>3247</td>\n",
       "      <td>False</td>\n",
       "      <td>2020-12-20 06:06:44</td>\n",
       "      <td>Same folks said daikon paste could treat a cytokine storm #PfizerBioNTech https://t.co/xeHhIMg1kF</td>\n",
       "      <td>['PfizerBioNTech']</td>\n",
       "      <td>Twitter for Android</td>\n",
       "      <td>0</td>\n",
       "      <td>0</td>\n",
       "      <td>False</td>\n",
       "    </tr>\n",
       "    <tr>\n",
       "      <th>1</th>\n",
       "      <td>1338158543359250433</td>\n",
       "      <td>Albert Fong</td>\n",
       "      <td>San Francisco, CA</td>\n",
       "      <td>Marketing dude, tech geek, heavy metal &amp; '80s music junkie. Fascinated by meteorology and all things in the cloud. Opinions are my own.</td>\n",
       "      <td>2009-09-21 15:27:30</td>\n",
       "      <td>834</td>\n",
       "      <td>666</td>\n",
       "      <td>178</td>\n",
       "      <td>False</td>\n",
       "      <td>2020-12-13 16:27:13</td>\n",
       "      <td>While the world has been on the wrong side of history this year, hopefully, the biggest vaccination effort we've ev… https://t.co/dlCHrZjkhm</td>\n",
       "      <td>None</td>\n",
       "      <td>Twitter Web App</td>\n",
       "      <td>1</td>\n",
       "      <td>1</td>\n",
       "      <td>False</td>\n",
       "    </tr>\n",
       "    <tr>\n",
       "      <th>2</th>\n",
       "      <td>1337858199140118533</td>\n",
       "      <td>eli🇱🇹🇪🇺👌</td>\n",
       "      <td>Your Bed</td>\n",
       "      <td>heil, hydra 🖐☺</td>\n",
       "      <td>2020-06-25 23:30:28</td>\n",
       "      <td>10</td>\n",
       "      <td>88</td>\n",
       "      <td>155</td>\n",
       "      <td>False</td>\n",
       "      <td>2020-12-12 20:33:45</td>\n",
       "      <td>#coronavirus #SputnikV #AstraZeneca #PfizerBioNTech #Moderna #Covid_19 Russian vaccine is created to last 2-4 years… https://t.co/ieYlCKBr8P</td>\n",
       "      <td>['coronavirus', 'SputnikV', 'AstraZeneca', 'PfizerBioNTech', 'Moderna', 'Covid_19']</td>\n",
       "      <td>Twitter for Android</td>\n",
       "      <td>0</td>\n",
       "      <td>0</td>\n",
       "      <td>False</td>\n",
       "    </tr>\n",
       "    <tr>\n",
       "      <th>3</th>\n",
       "      <td>1337855739918835717</td>\n",
       "      <td>Charles Adler</td>\n",
       "      <td>Vancouver, BC - Canada</td>\n",
       "      <td>\"Hosting \"\"CharlesAdlerTonight\"\" Global News Radio Network. Weeknights 7 Pacific-10 Eastern - Email comments/ideas to charles@charlesadlertonight.ca\"</td>\n",
       "      <td>2008-09-10 11:28:53</td>\n",
       "      <td>49165</td>\n",
       "      <td>3933</td>\n",
       "      <td>21853</td>\n",
       "      <td>True</td>\n",
       "      <td>2020-12-12 20:23:59</td>\n",
       "      <td>Facts are immutable, Senator, even when you're not ethically sturdy enough to acknowledge them. (1) You were born i… https://t.co/jqgV18kch4</td>\n",
       "      <td>None</td>\n",
       "      <td>Twitter Web App</td>\n",
       "      <td>446</td>\n",
       "      <td>2129</td>\n",
       "      <td>False</td>\n",
       "    </tr>\n",
       "    <tr>\n",
       "      <th>4</th>\n",
       "      <td>1337854064604966912</td>\n",
       "      <td>Citizen News Channel</td>\n",
       "      <td>None</td>\n",
       "      <td>Citizen News Channel bringing you an alternative news source from citizen journalists that haven't sold out. Real news &amp; real views</td>\n",
       "      <td>2020-04-23 17:58:42</td>\n",
       "      <td>152</td>\n",
       "      <td>580</td>\n",
       "      <td>1473</td>\n",
       "      <td>False</td>\n",
       "      <td>2020-12-12 20:17:19</td>\n",
       "      <td>Explain to me again why we need a vaccine @BorisJohnson @MattHancock #whereareallthesickpeople #PfizerBioNTech… https://t.co/KxbSRoBEHq</td>\n",
       "      <td>['whereareallthesickpeople', 'PfizerBioNTech']</td>\n",
       "      <td>Twitter for iPhone</td>\n",
       "      <td>0</td>\n",
       "      <td>0</td>\n",
       "      <td>False</td>\n",
       "    </tr>\n",
       "    <tr>\n",
       "      <th>...</th>\n",
       "      <td>...</td>\n",
       "      <td>...</td>\n",
       "      <td>...</td>\n",
       "      <td>...</td>\n",
       "      <td>...</td>\n",
       "      <td>...</td>\n",
       "      <td>...</td>\n",
       "      <td>...</td>\n",
       "      <td>...</td>\n",
       "      <td>...</td>\n",
       "      <td>...</td>\n",
       "      <td>...</td>\n",
       "      <td>...</td>\n",
       "      <td>...</td>\n",
       "      <td>...</td>\n",
       "      <td>...</td>\n",
       "    </tr>\n",
       "    <tr>\n",
       "      <th>541723</th>\n",
       "      <td>#SputnikV https://t.co/nD1J8NvqfA\"</td>\n",
       "      <td>['SputnikV']</td>\n",
       "      <td>Twitter for Android</td>\n",
       "      <td>0</td>\n",
       "      <td>0</td>\n",
       "      <td>False</td>\n",
       "      <td>None</td>\n",
       "      <td>None</td>\n",
       "      <td>None</td>\n",
       "      <td>None</td>\n",
       "      <td>None</td>\n",
       "      <td>None</td>\n",
       "      <td>None</td>\n",
       "      <td>None</td>\n",
       "      <td>None</td>\n",
       "      <td>None</td>\n",
       "    </tr>\n",
       "    <tr>\n",
       "      <th>541724</th>\n",
       "      <td>1460155671140134912</td>\n",
       "      <td>VaxBLR</td>\n",
       "      <td>Bengaluru, India</td>\n",
       "      <td>Hourly updates on FREE and PAID 18+ and 45+ vaccine slot availability across #Bengaluru BBMP,URBAN &amp; RURAL</td>\n",
       "      <td>2021-06-21 08:44:34</td>\n",
       "      <td>31</td>\n",
       "      <td>0</td>\n",
       "      <td>0</td>\n",
       "      <td>False</td>\n",
       "      <td>2021-11-15 08:00:15</td>\n",
       "      <td>45+ #URBAN #Bengaluru #CovidVaccine Availability for 15/11 at 01:30PM</td>\n",
       "      <td>None</td>\n",
       "      <td>None</td>\n",
       "      <td>None</td>\n",
       "      <td>None</td>\n",
       "      <td>None</td>\n",
       "    </tr>\n",
       "    <tr>\n",
       "      <th>541725</th>\n",
       "      <td>FREE Slots 0</td>\n",
       "      <td>None</td>\n",
       "      <td>None</td>\n",
       "      <td>None</td>\n",
       "      <td>None</td>\n",
       "      <td>None</td>\n",
       "      <td>None</td>\n",
       "      <td>None</td>\n",
       "      <td>None</td>\n",
       "      <td>None</td>\n",
       "      <td>None</td>\n",
       "      <td>None</td>\n",
       "      <td>None</td>\n",
       "      <td>None</td>\n",
       "      <td>None</td>\n",
       "      <td>None</td>\n",
       "    </tr>\n",
       "    <tr>\n",
       "      <th>541726</th>\n",
       "      <td>PAID Slots</td>\n",
       "      <td>None</td>\n",
       "      <td>None</td>\n",
       "      <td>None</td>\n",
       "      <td>None</td>\n",
       "      <td>None</td>\n",
       "      <td>None</td>\n",
       "      <td>None</td>\n",
       "      <td>None</td>\n",
       "      <td>None</td>\n",
       "      <td>None</td>\n",
       "      <td>None</td>\n",
       "      <td>None</td>\n",
       "      <td>None</td>\n",
       "      <td>None</td>\n",
       "      <td>None</td>\n",
       "    </tr>\n",
       "    <tr>\n",
       "      <th>541727</th>\n",
       "      <td>#COVISHIELD - Dose1:… https://t.co/MbtsiIZ2Ph\"</td>\n",
       "      <td>['URBAN', 'Bengaluru', 'CovidVaccine', 'COVISHIELD']</td>\n",
       "      <td>VaxBlr</td>\n",
       "      <td>0</td>\n",
       "      <td>0</td>\n",
       "      <td>False</td>\n",
       "      <td>None</td>\n",
       "      <td>None</td>\n",
       "      <td>None</td>\n",
       "      <td>None</td>\n",
       "      <td>None</td>\n",
       "      <td>None</td>\n",
       "      <td>None</td>\n",
       "      <td>None</td>\n",
       "      <td>None</td>\n",
       "      <td>None</td>\n",
       "    </tr>\n",
       "  </tbody>\n",
       "</table>\n",
       "<p>541728 rows × 16 columns</p>\n",
       "</div>"
      ],
      "text/plain": [
       "                                                    id  \\\n",
       "0                                  1340539111971516416   \n",
       "1                                  1338158543359250433   \n",
       "2                                  1337858199140118533   \n",
       "3                                  1337855739918835717   \n",
       "4                                  1337854064604966912   \n",
       "...                                                ...   \n",
       "541723              #SputnikV https://t.co/nD1J8NvqfA\"   \n",
       "541724                             1460155671140134912   \n",
       "541725                                    FREE Slots 0   \n",
       "541726                                     PAID Slots    \n",
       "541727  #COVISHIELD - Dose1:… https://t.co/MbtsiIZ2Ph\"   \n",
       "\n",
       "                                                   user_name  \\\n",
       "0                                                 Rachel Roh   \n",
       "1                                                Albert Fong   \n",
       "2                                                   eli🇱🇹🇪🇺👌   \n",
       "3                                              Charles Adler   \n",
       "4                                       Citizen News Channel   \n",
       "...                                                      ...   \n",
       "541723                                          ['SputnikV']   \n",
       "541724                                                VaxBLR   \n",
       "541725                                                  None   \n",
       "541726                                                  None   \n",
       "541727  ['URBAN', 'Bengaluru', 'CovidVaccine', 'COVISHIELD']   \n",
       "\n",
       "                    user_location  \\\n",
       "0       La Crescenta-Montrose, CA   \n",
       "1               San Francisco, CA   \n",
       "2                        Your Bed   \n",
       "3          Vancouver, BC - Canada   \n",
       "4                            None   \n",
       "...                           ...   \n",
       "541723        Twitter for Android   \n",
       "541724           Bengaluru, India   \n",
       "541725                       None   \n",
       "541726                       None   \n",
       "541727                     VaxBlr   \n",
       "\n",
       "                                                                                                                                             user_description  \\\n",
       "0                                            Aggregator of Asian American news; scanning diverse sources 24/7/365. RT's, Follows and 'Likes' will fuel me 👩‍💻   \n",
       "1                     Marketing dude, tech geek, heavy metal & '80s music junkie. Fascinated by meteorology and all things in the cloud. Opinions are my own.   \n",
       "2                                                                                                                                              heil, hydra 🖐☺   \n",
       "3       \"Hosting \"\"CharlesAdlerTonight\"\" Global News Radio Network. Weeknights 7 Pacific-10 Eastern - Email comments/ideas to charles@charlesadlertonight.ca\"   \n",
       "4                         Citizen News Channel bringing you an alternative news source from citizen journalists that haven't sold out. Real news & real views   \n",
       "...                                                                                                                                                       ...   \n",
       "541723                                                                                                                                                      0   \n",
       "541724                                             Hourly updates on FREE and PAID 18+ and 45+ vaccine slot availability across #Bengaluru BBMP,URBAN & RURAL   \n",
       "541725                                                                                                                                                   None   \n",
       "541726                                                                                                                                                   None   \n",
       "541727                                                                                                                                                      0   \n",
       "\n",
       "               user_created user_followers user_friends user_favourites  \\\n",
       "0       2009-04-08 17:52:46            405         1692            3247   \n",
       "1       2009-09-21 15:27:30            834          666             178   \n",
       "2       2020-06-25 23:30:28             10           88             155   \n",
       "3       2008-09-10 11:28:53          49165         3933           21853   \n",
       "4       2020-04-23 17:58:42            152          580            1473   \n",
       "...                     ...            ...          ...             ...   \n",
       "541723                    0          False         None            None   \n",
       "541724  2021-06-21 08:44:34             31            0               0   \n",
       "541725                 None           None         None            None   \n",
       "541726                 None           None         None            None   \n",
       "541727                    0          False         None            None   \n",
       "\n",
       "       user_verified                 date  \\\n",
       "0              False  2020-12-20 06:06:44   \n",
       "1              False  2020-12-13 16:27:13   \n",
       "2              False  2020-12-12 20:33:45   \n",
       "3               True  2020-12-12 20:23:59   \n",
       "4              False  2020-12-12 20:17:19   \n",
       "...              ...                  ...   \n",
       "541723          None                 None   \n",
       "541724         False  2021-11-15 08:00:15   \n",
       "541725          None                 None   \n",
       "541726          None                 None   \n",
       "541727          None                 None   \n",
       "\n",
       "                                                                                                                                                text  \\\n",
       "0                                                  Same folks said daikon paste could treat a cytokine storm #PfizerBioNTech https://t.co/xeHhIMg1kF   \n",
       "1       While the world has been on the wrong side of history this year, hopefully, the biggest vaccination effort we've ev… https://t.co/dlCHrZjkhm   \n",
       "2       #coronavirus #SputnikV #AstraZeneca #PfizerBioNTech #Moderna #Covid_19 Russian vaccine is created to last 2-4 years… https://t.co/ieYlCKBr8P   \n",
       "3       Facts are immutable, Senator, even when you're not ethically sturdy enough to acknowledge them. (1) You were born i… https://t.co/jqgV18kch4   \n",
       "4            Explain to me again why we need a vaccine @BorisJohnson @MattHancock #whereareallthesickpeople #PfizerBioNTech… https://t.co/KxbSRoBEHq   \n",
       "...                                                                                                                                              ...   \n",
       "541723                                                                                                                                          None   \n",
       "541724                                                                         45+ #URBAN #Bengaluru #CovidVaccine Availability for 15/11 at 01:30PM   \n",
       "541725                                                                                                                                          None   \n",
       "541726                                                                                                                                          None   \n",
       "541727                                                                                                                                          None   \n",
       "\n",
       "                                                                                   hashtags  \\\n",
       "0                                                                        ['PfizerBioNTech']   \n",
       "1                                                                                      None   \n",
       "2       ['coronavirus', 'SputnikV', 'AstraZeneca', 'PfizerBioNTech', 'Moderna', 'Covid_19']   \n",
       "3                                                                                      None   \n",
       "4                                            ['whereareallthesickpeople', 'PfizerBioNTech']   \n",
       "...                                                                                     ...   \n",
       "541723                                                                                 None   \n",
       "541724                                                                                 None   \n",
       "541725                                                                                 None   \n",
       "541726                                                                                 None   \n",
       "541727                                                                                 None   \n",
       "\n",
       "                     source retweets favorites is_retweet  \n",
       "0       Twitter for Android        0         0      False  \n",
       "1           Twitter Web App        1         1      False  \n",
       "2       Twitter for Android        0         0      False  \n",
       "3           Twitter Web App      446      2129      False  \n",
       "4        Twitter for iPhone        0         0      False  \n",
       "...                     ...      ...       ...        ...  \n",
       "541723                 None     None      None       None  \n",
       "541724                 None     None      None       None  \n",
       "541725                 None     None      None       None  \n",
       "541726                 None     None      None       None  \n",
       "541727                 None     None      None       None  \n",
       "\n",
       "[541728 rows x 16 columns]"
      ]
     },
     "execution_count": 13,
     "metadata": {},
     "output_type": "execute_result"
    },
    {
     "data": {
      "text/plain": [
       "541728"
      ]
     },
     "execution_count": 13,
     "metadata": {},
     "output_type": "execute_result"
    },
    {
     "data": {
      "text/plain": [
       "410660"
      ]
     },
     "execution_count": 13,
     "metadata": {},
     "output_type": "execute_result"
    }
   ],
   "source": [
    "path = '/user/AC27802/vaccination_all_tweets.csv'\n",
    "df_vaccine_tweets = spark.read.options(delimiter=\",\", header=True).csv(path)\n",
    "df_vaccine_tweets.toPandas()\n",
    "\n",
    "\n",
    "# Count number of rows \n",
    "df_vaccine_tweets.count()\n",
    "df_vaccine_tweets.distinct().count()"
   ]
  },
  {
   "cell_type": "code",
   "execution_count": 14,
   "metadata": {
    "ExecuteTime": {
     "end_time": "2022-02-15T20:22:07.244449Z",
     "start_time": "2022-02-15T20:22:07.237462Z"
    }
   },
   "outputs": [
    {
     "name": "stdout",
     "output_type": "stream",
     "text": [
      "== Physical Plan ==\n",
      "*(1) FileScan csv [id#10,user_name#11,user_location#12,user_description#13,user_created#14,user_followers#15,user_friends#16,user_favourites#17,user_verified#18,date#19,text#20,hashtags#21,source#22,retweets#23,favorites#24,is_retweet#25] Batched: false, Format: CSV, Location: InMemoryFileIndex[hdfs://nameservicedev/user/AC27802/vaccination_all_tweets.csv], PartitionFilters: [], PushedFilters: [], ReadSchema: struct<id:string,user_name:string,user_location:string,user_description:string,user_created:strin...\n"
     ]
    }
   ],
   "source": [
    "df_vaccine_tweets.explain() #Print the (logical and physical) plans"
   ]
  },
  {
   "cell_type": "code",
   "execution_count": 15,
   "metadata": {
    "ExecuteTime": {
     "end_time": "2022-02-15T20:22:25.118862Z",
     "start_time": "2022-02-15T20:22:07.247855Z"
    }
   },
   "outputs": [
    {
     "data": {
      "text/plain": [
       "DataFrame[summary: string, id: string, user_name: string, user_location: string, user_description: string, user_created: string, user_followers: string, user_friends: string, user_favourites: string, user_verified: string, date: string, text: string, hashtags: string, source: string, retweets: string, favorites: string, is_retweet: string]"
      ]
     },
     "execution_count": 15,
     "metadata": {},
     "output_type": "execute_result"
    },
    {
     "data": {
      "text/plain": [
       "[('id', 'string'),\n",
       " ('user_name', 'string'),\n",
       " ('user_location', 'string'),\n",
       " ('user_description', 'string'),\n",
       " ('user_created', 'string'),\n",
       " ('user_followers', 'string'),\n",
       " ('user_friends', 'string'),\n",
       " ('user_favourites', 'string'),\n",
       " ('user_verified', 'string'),\n",
       " ('date', 'string'),\n",
       " ('text', 'string'),\n",
       " ('hashtags', 'string'),\n",
       " ('source', 'string'),\n",
       " ('retweets', 'string'),\n",
       " ('favorites', 'string'),\n",
       " ('is_retweet', 'string')]"
      ]
     },
     "execution_count": 15,
     "metadata": {},
     "output_type": "execute_result"
    },
    {
     "name": "stdout",
     "output_type": "stream",
     "text": [
      "root\n",
      " |-- id: string (nullable = true)\n",
      " |-- user_name: string (nullable = true)\n",
      " |-- user_location: string (nullable = true)\n",
      " |-- user_description: string (nullable = true)\n",
      " |-- user_created: string (nullable = true)\n",
      " |-- user_followers: string (nullable = true)\n",
      " |-- user_friends: string (nullable = true)\n",
      " |-- user_favourites: string (nullable = true)\n",
      " |-- user_verified: string (nullable = true)\n",
      " |-- date: string (nullable = true)\n",
      " |-- text: string (nullable = true)\n",
      " |-- hashtags: string (nullable = true)\n",
      " |-- source: string (nullable = true)\n",
      " |-- retweets: string (nullable = true)\n",
      " |-- favorites: string (nullable = true)\n",
      " |-- is_retweet: string (nullable = true)\n",
      "\n",
      "Columns overview\n"
     ]
    },
    {
     "data": {
      "text/html": [
       "<div>\n",
       "<style scoped>\n",
       "    .dataframe tbody tr th:only-of-type {\n",
       "        vertical-align: middle;\n",
       "    }\n",
       "\n",
       "    .dataframe tbody tr th {\n",
       "        vertical-align: top;\n",
       "    }\n",
       "\n",
       "    .dataframe thead th {\n",
       "        text-align: right;\n",
       "    }\n",
       "</style>\n",
       "<table border=\"1\" class=\"dataframe\">\n",
       "  <thead>\n",
       "    <tr style=\"text-align: right;\">\n",
       "      <th></th>\n",
       "      <th>Column Name</th>\n",
       "      <th>Data type</th>\n",
       "    </tr>\n",
       "  </thead>\n",
       "  <tbody>\n",
       "    <tr>\n",
       "      <th>0</th>\n",
       "      <td>id</td>\n",
       "      <td>string</td>\n",
       "    </tr>\n",
       "    <tr>\n",
       "      <th>1</th>\n",
       "      <td>user_name</td>\n",
       "      <td>string</td>\n",
       "    </tr>\n",
       "    <tr>\n",
       "      <th>2</th>\n",
       "      <td>user_location</td>\n",
       "      <td>string</td>\n",
       "    </tr>\n",
       "    <tr>\n",
       "      <th>3</th>\n",
       "      <td>user_description</td>\n",
       "      <td>string</td>\n",
       "    </tr>\n",
       "    <tr>\n",
       "      <th>4</th>\n",
       "      <td>user_created</td>\n",
       "      <td>string</td>\n",
       "    </tr>\n",
       "    <tr>\n",
       "      <th>5</th>\n",
       "      <td>user_followers</td>\n",
       "      <td>string</td>\n",
       "    </tr>\n",
       "    <tr>\n",
       "      <th>6</th>\n",
       "      <td>user_friends</td>\n",
       "      <td>string</td>\n",
       "    </tr>\n",
       "    <tr>\n",
       "      <th>7</th>\n",
       "      <td>user_favourites</td>\n",
       "      <td>string</td>\n",
       "    </tr>\n",
       "    <tr>\n",
       "      <th>8</th>\n",
       "      <td>user_verified</td>\n",
       "      <td>string</td>\n",
       "    </tr>\n",
       "    <tr>\n",
       "      <th>9</th>\n",
       "      <td>date</td>\n",
       "      <td>string</td>\n",
       "    </tr>\n",
       "    <tr>\n",
       "      <th>10</th>\n",
       "      <td>text</td>\n",
       "      <td>string</td>\n",
       "    </tr>\n",
       "    <tr>\n",
       "      <th>11</th>\n",
       "      <td>hashtags</td>\n",
       "      <td>string</td>\n",
       "    </tr>\n",
       "    <tr>\n",
       "      <th>12</th>\n",
       "      <td>source</td>\n",
       "      <td>string</td>\n",
       "    </tr>\n",
       "    <tr>\n",
       "      <th>13</th>\n",
       "      <td>retweets</td>\n",
       "      <td>string</td>\n",
       "    </tr>\n",
       "    <tr>\n",
       "      <th>14</th>\n",
       "      <td>favorites</td>\n",
       "      <td>string</td>\n",
       "    </tr>\n",
       "    <tr>\n",
       "      <th>15</th>\n",
       "      <td>is_retweet</td>\n",
       "      <td>string</td>\n",
       "    </tr>\n",
       "  </tbody>\n",
       "</table>\n",
       "</div>"
      ],
      "text/plain": [
       "         Column Name Data type\n",
       "0                 id    string\n",
       "1          user_name    string\n",
       "2      user_location    string\n",
       "3   user_description    string\n",
       "4       user_created    string\n",
       "5     user_followers    string\n",
       "6       user_friends    string\n",
       "7    user_favourites    string\n",
       "8      user_verified    string\n",
       "9               date    string\n",
       "10              text    string\n",
       "11          hashtags    string\n",
       "12            source    string\n",
       "13          retweets    string\n",
       "14         favorites    string\n",
       "15        is_retweet    string"
      ]
     },
     "execution_count": 15,
     "metadata": {},
     "output_type": "execute_result"
    }
   ],
   "source": [
    "# Check datatype and columns\n",
    "\n",
    "df_vaccine_tweets.describe()\n",
    "#df_vaccine_tweets.columns\n",
    "#df_vaccine_tweets.summary().show()\n",
    "df_vaccine_tweets.dtypes\n",
    "\n",
    "# show the schema of the dataframe\n",
    "df_vaccine_tweets.printSchema()\n",
    "\n",
    "\n",
    "print('Columns overview')\n",
    "pd.DataFrame(df_vaccine_tweets.dtypes, columns = ['Column Name','Data type'])"
   ]
  },
  {
   "cell_type": "markdown",
   "metadata": {},
   "source": [
    "https://sparkbyexamples.com/spark/spark-sql-dataframe-data-types/"
   ]
  },
  {
   "cell_type": "code",
   "execution_count": 16,
   "metadata": {
    "ExecuteTime": {
     "end_time": "2022-02-15T20:22:25.420754Z",
     "start_time": "2022-02-15T20:22:25.120697Z"
    }
   },
   "outputs": [
    {
     "name": "stdout",
     "output_type": "stream",
     "text": [
      "+-------------------+--------------------+-------------------+--------------+------------+---------------+--------+---------+----------+\n",
      "|                 id|    user_description|       user_created|user_followers|user_friends|user_favourites|retweets|favorites|is_retweet|\n",
      "+-------------------+--------------------+-------------------+--------------+------------+---------------+--------+---------+----------+\n",
      "|1340539111971516416|Aggregator of Asi...|2009-04-08 17:52:46|           405|        1692|           3247|       0|        0|     False|\n",
      "|1338158543359250433|Marketing dude, t...|2009-09-21 15:27:30|           834|         666|            178|       1|        1|     False|\n",
      "|1337858199140118533|     heil, hydra 🖐☺|2020-06-25 23:30:28|            10|          88|            155|       0|        0|     False|\n",
      "|1337855739918835717|\"Hosting \"\"Charle...|2008-09-10 11:28:53|         49165|        3933|          21853|     446|     2129|     False|\n",
      "|1337854064604966912|Citizen News Chan...|2020-04-23 17:58:42|           152|         580|           1473|       0|        0|     False|\n",
      "+-------------------+--------------------+-------------------+--------------+------------+---------------+--------+---------+----------+\n",
      "only showing top 5 rows\n",
      "\n"
     ]
    }
   ],
   "source": [
    "df_vaccine_tweets.select('id', 'user_description', 'user_created', 'user_followers', 'user_friends', 'user_favourites', 'retweets', 'favorites', 'is_retweet').show(5)"
   ]
  },
  {
   "cell_type": "markdown",
   "metadata": {},
   "source": [
    "# Data Cleaning and Transformation"
   ]
  },
  {
   "cell_type": "code",
   "execution_count": 17,
   "metadata": {
    "ExecuteTime": {
     "end_time": "2022-02-15T20:22:25.430618Z",
     "start_time": "2022-02-15T20:22:25.422558Z"
    }
   },
   "outputs": [],
   "source": [
    "# Create Spark Dataframe Schema and read data using defined schema rather than default schema inference\n",
    "\n",
    "tweets_schema = StructType([\n",
    "     StructField(\"id\", StringType(), nullable=True), \n",
    "     StructField(\"user_name\", StringType(), nullable=True), \n",
    "     StructField(\"user_location\", StringType(), nullable=True),\n",
    "     StructField(\"user_description\", StringType(), nullable=True),\n",
    "     StructField(\"user_created\", DateType(), nullable=True),\n",
    "     StructField(\"user_followers\", FloatType(), nullable=True),\n",
    "     StructField(\"user_friends\", FloatType(), nullable=True), \n",
    "     StructField(\"user_favourites\", FloatType(), nullable=True),\n",
    "     StructField(\"user_verified\", BooleanType(), nullable=True),\n",
    "     StructField(\"date\", TimestampType(), nullable=True),\n",
    "     StructField(\"text\", StringType(), nullable=True),\n",
    "     StructField(\"hashtags\", StringType(), nullable=True),\n",
    "     StructField(\"source\", StringType(), nullable=True),\n",
    "     StructField(\"retweets\", FloatType(), nullable=True),\n",
    "     StructField(\"favorites\", FloatType(), nullable=True),\n",
    "     StructField(\"is_retweet\", BooleanType(), nullable=True)]\n",
    ")"
   ]
  },
  {
   "cell_type": "code",
   "execution_count": 18,
   "metadata": {
    "ExecuteTime": {
     "end_time": "2022-02-15T20:22:25.670210Z",
     "start_time": "2022-02-15T20:22:25.432349Z"
    }
   },
   "outputs": [
    {
     "name": "stdout",
     "output_type": "stream",
     "text": [
      "root\n",
      " |-- id: string (nullable = true)\n",
      " |-- user_name: string (nullable = true)\n",
      " |-- user_location: string (nullable = true)\n",
      " |-- user_description: string (nullable = true)\n",
      " |-- user_created: date (nullable = true)\n",
      " |-- user_followers: float (nullable = true)\n",
      " |-- user_friends: float (nullable = true)\n",
      " |-- user_favourites: float (nullable = true)\n",
      " |-- user_verified: boolean (nullable = true)\n",
      " |-- date: timestamp (nullable = true)\n",
      " |-- text: string (nullable = true)\n",
      " |-- hashtags: string (nullable = true)\n",
      " |-- source: string (nullable = true)\n",
      " |-- retweets: float (nullable = true)\n",
      " |-- favorites: float (nullable = true)\n",
      " |-- is_retweet: boolean (nullable = true)\n",
      "\n"
     ]
    },
    {
     "data": {
      "text/plain": [
       "[('id', 'string'),\n",
       " ('user_name', 'string'),\n",
       " ('user_location', 'string'),\n",
       " ('user_description', 'string'),\n",
       " ('user_created', 'date'),\n",
       " ('user_followers', 'float'),\n",
       " ('user_friends', 'float'),\n",
       " ('user_favourites', 'float'),\n",
       " ('user_verified', 'boolean'),\n",
       " ('date', 'timestamp'),\n",
       " ('text', 'string'),\n",
       " ('hashtags', 'string'),\n",
       " ('source', 'string'),\n",
       " ('retweets', 'float'),\n",
       " ('favorites', 'float'),\n",
       " ('is_retweet', 'boolean')]"
      ]
     },
     "execution_count": 18,
     "metadata": {},
     "output_type": "execute_result"
    }
   ],
   "source": [
    "# Overwrite inferrd schema\n",
    "\n",
    "path = '/user/AC27802/vaccination_all_tweets.csv'\n",
    "df_vaccine_tweets = spark.read.options(delimiter=\",\", header=True).csv(path, schema=tweets_schema)\n",
    "#df_vaccine_tweets.show(2)\n",
    "\n",
    "df_vaccine_tweets.printSchema()\n",
    "df_vaccine_tweets.dtypes"
   ]
  },
  {
   "cell_type": "markdown",
   "metadata": {},
   "source": [
    "# Data Exploration"
   ]
  },
  {
   "cell_type": "markdown",
   "metadata": {
    "ExecuteTime": {
     "end_time": "2022-01-27T17:31:17.272794Z",
     "start_time": "2022-01-27T17:31:17.266071Z"
    }
   },
   "source": [
    "https://www.datasciencemadesimple.com/descriptive-statistics-or-summary-statistics-of-dataframe-in-pyspark/"
   ]
  },
  {
   "cell_type": "code",
   "execution_count": 19,
   "metadata": {
    "ExecuteTime": {
     "end_time": "2022-02-15T20:22:48.707457Z",
     "start_time": "2022-02-15T20:22:25.672464Z"
    }
   },
   "outputs": [
    {
     "data": {
      "text/plain": [
       "DataFrame[summary: string, id: string, user_name: string, user_location: string, user_description: string, user_followers: string, user_friends: string, user_favourites: string, text: string, hashtags: string, source: string, retweets: string, favorites: string]"
      ]
     },
     "execution_count": 19,
     "metadata": {},
     "output_type": "execute_result"
    },
    {
     "name": "stdout",
     "output_type": "stream",
     "text": [
      "+-------+--------------------+--------------------+--------------------+--------------------+-----------------+------------------+------------------+--------------------+--------------------+--------------------+------------------+------------------+\n",
      "|summary|                  id|           user_name|       user_location|    user_description|   user_followers|      user_friends|   user_favourites|                text|            hashtags|              source|          retweets|         favorites|\n",
      "+-------+--------------------+--------------------+--------------------+--------------------+-----------------+------------------+------------------+--------------------+--------------------+--------------------+------------------+------------------+\n",
      "|  count|              391349|              245199|              162468|              210965|           169580|            169580|            169580|              169580|               93992|              118027|            118052|            118052|\n",
      "|   mean|1.406558627696573...| 8.275385936189381E8|7.780871578555626E10|1.8214461035901827E8|97373.55063097064|1092.1798443212642|12696.851002476707|                 2.4|                null|                null|2.9556381933385287|12.648790363568597|\n",
      "| stddev|4.758156434467682...|1.884877788401036E10|2.550435821647396E11|1.2225144536769607E9|803032.4449545384| 5815.926282712338| 40071.45860884255|    1.51657508881031|                null|                null| 67.33523814468207|246.86316334215837|\n",
      "|    min|                    |                    |  \tᴿⁱᵍʰᵗ ᵇᵉʰⁱⁿᵈ ʸᵒᵘ |                    |              0.0|               0.0|               0.0|! After #Moderna ...|                    | #Moderna Making ...|               0.0|               0.0|\n",
      "|    max|🪟  Condo Livin'  🪟|                  🫀|         🪐Jupiter⚡️|󠁧󠁢󠁳󠁣See thing...|      1.4042998E7|          516578.0|         1299600.0|🩺Call RMC to sch...|that is the quest...|                Оwly|           12294.0|           54017.0|\n",
      "+-------+--------------------+--------------------+--------------------+--------------------+-----------------+------------------+------------------+--------------------+--------------------+--------------------+------------------+------------------+\n",
      "\n"
     ]
    }
   ],
   "source": [
    "# Descriptive Analysis (Summery Statistics) for Numeric Variables \n",
    "df_vaccine_tweets.describe()\n",
    "\n",
    "## summary statistics or descriptive statistics of dataframe\n",
    "df_vaccine_tweets.describe().show()"
   ]
  },
  {
   "cell_type": "code",
   "execution_count": 20,
   "metadata": {
    "ExecuteTime": {
     "end_time": "2022-02-15T20:23:09.171896Z",
     "start_time": "2022-02-15T20:22:48.709796Z"
    }
   },
   "outputs": [
    {
     "data": {
      "text/plain": [
       "541728"
      ]
     },
     "execution_count": 20,
     "metadata": {},
     "output_type": "execute_result"
    },
    {
     "data": {
      "text/plain": [
       "273233"
      ]
     },
     "execution_count": 20,
     "metadata": {},
     "output_type": "execute_result"
    },
    {
     "data": {
      "text/plain": [
       "166422"
      ]
     },
     "execution_count": 20,
     "metadata": {},
     "output_type": "execute_result"
    },
    {
     "data": {
      "text/plain": [
       "139951"
      ]
     },
     "execution_count": 20,
     "metadata": {},
     "output_type": "execute_result"
    }
   ],
   "source": [
    "# Count number of rows \n",
    "\n",
    "df_vaccine_tweets.count()\n",
    "df_vaccine_tweets.distinct().count()\n",
    "df_vaccine_tweets.select(\"text\").distinct().count()\n",
    "df_vaccine_tweets.select(\"user_name\").distinct().count()"
   ]
  },
  {
   "cell_type": "markdown",
   "metadata": {},
   "source": [
    "### Numeric Columns Summary Descriptions"
   ]
  },
  {
   "cell_type": "code",
   "execution_count": 21,
   "metadata": {
    "ExecuteTime": {
     "end_time": "2022-02-15T20:23:09.181693Z",
     "start_time": "2022-02-15T20:23:09.174774Z"
    }
   },
   "outputs": [
    {
     "data": {
      "text/plain": [
       "['user_followers', 'user_friends', 'user_favourites', 'retweets', 'favorites']"
      ]
     },
     "execution_count": 21,
     "metadata": {},
     "output_type": "execute_result"
    }
   ],
   "source": [
    "# Alternate way to get column names by data type\n",
    "#numericCols = [field for (field, dataType) in df_vaccine_tweets.dtypes if dataType == \"float\"]\n",
    "#numericCols\n",
    "\n",
    "numericCols2 = [item[0] for item in df_vaccine_tweets.dtypes if item[1].startswith('float')]\n",
    "numericCols2"
   ]
  },
  {
   "cell_type": "code",
   "execution_count": 22,
   "metadata": {
    "ExecuteTime": {
     "end_time": "2022-02-15T20:23:09.368809Z",
     "start_time": "2022-02-15T20:23:09.184168Z"
    }
   },
   "outputs": [],
   "source": [
    "# change all columns to double type \n",
    "\n",
    "#for col in df.columns:\n",
    " # df = df.withColumn(\n",
    "  #  col,\n",
    "  #  F.col(col).cast(\"double\")\n",
    "  #)\n"
   ]
  },
  {
   "cell_type": "code",
   "execution_count": 23,
   "metadata": {
    "ExecuteTime": {
     "end_time": "2022-02-15T20:23:23.340202Z",
     "start_time": "2022-02-15T20:23:09.377279Z"
    }
   },
   "outputs": [
    {
     "name": "stdout",
     "output_type": "stream",
     "text": [
      "+-------+-----------------+------------------+------------------+------------------+------------------+\n",
      "|summary|   user_followers|      user_friends|   user_favourites|          retweets|         favorites|\n",
      "+-------+-----------------+------------------+------------------+------------------+------------------+\n",
      "|  count|           169580|            169580|            169580|            118052|            118052|\n",
      "|   mean|97373.55063097064|1092.1798443212642|12696.851002476707|2.9556381933385287|12.648790363568597|\n",
      "| stddev|803032.4449545398| 5815.926282712359| 40071.45860884247| 67.33523814468192|246.86316334215863|\n",
      "|    min|              0.0|               0.0|               0.0|               0.0|               0.0|\n",
      "|    25%|             65.0|              68.0|             110.0|               0.0|               0.0|\n",
      "|    75%|           1853.0|             879.0|            7805.0|               1.0|               3.0|\n",
      "|    max|      1.4042998E7|          516578.0|         1299600.0|           12294.0|           54017.0|\n",
      "+-------+-----------------+------------------+------------------+------------------+------------------+\n",
      "\n",
      "+-------+-----------------+------------------+------------------+------------------+------------------+\n",
      "|summary|   user_followers|      user_friends|   user_favourites|          retweets|         favorites|\n",
      "+-------+-----------------+------------------+------------------+------------------+------------------+\n",
      "|  count|           169580|            169580|            169580|            118052|            118052|\n",
      "|   mean|97373.55063097064|1092.1798443212642|12696.851002476707|2.9556381933385287|12.648790363568597|\n",
      "| stddev|803032.4449545398| 5815.926282712359| 40071.45860884247| 67.33523814468192|246.86316334215863|\n",
      "|    min|              0.0|               0.0|               0.0|               0.0|               0.0|\n",
      "|    max|      1.4042998E7|          516578.0|         1299600.0|           12294.0|           54017.0|\n",
      "+-------+-----------------+------------------+------------------+------------------+------------------+\n",
      "\n",
      "+-------+-----------------+\n",
      "|summary|   user_followers|\n",
      "+-------+-----------------+\n",
      "|  count|           182502|\n",
      "|   mean|91423.60445364982|\n",
      "| stddev| 777315.523158655|\n",
      "|    min|              0.0|\n",
      "|    max|      1.4042998E7|\n",
      "+-------+-----------------+\n",
      "\n"
     ]
    }
   ],
   "source": [
    "df_vaccine_tweets.select('user_followers','user_friends', 'user_favourites', 'retweets', 'favorites').summary(\"count\", \"mean\", \"stddev\", \"min\", \"25%\", \"75%\", \"max\").show()\n",
    "df_vaccine_tweets.select('user_followers','user_friends', 'user_favourites', 'retweets', 'favorites').describe().show()\n",
    "df_vaccine_tweets.describe('user_followers').show()"
   ]
  },
  {
   "cell_type": "markdown",
   "metadata": {},
   "source": [
    "As seen from above, there're lot of variation in the dataset (stddev)"
   ]
  },
  {
   "cell_type": "code",
   "execution_count": 24,
   "metadata": {
    "ExecuteTime": {
     "end_time": "2022-02-15T20:23:27.042693Z",
     "start_time": "2022-02-15T20:23:23.343814Z"
    }
   },
   "outputs": [
    {
     "data": {
      "text/plain": [
       "Row(max(user_friends)=516578.0, max(user_favourites)=1299600.0, max(user_followers)=14042998.0)"
      ]
     },
     "execution_count": 24,
     "metadata": {},
     "output_type": "execute_result"
    }
   ],
   "source": [
    "row1 = df_vaccine_tweets.agg({\"user_followers\": \"max\", \"user_favourites\": \"max\", \"user_friends\": \"max\"}).collect()[0]\n",
    "row1"
   ]
  },
  {
   "cell_type": "markdown",
   "metadata": {
    "ExecuteTime": {
     "end_time": "2022-01-27T17:29:24.644978Z",
     "start_time": "2022-01-27T17:29:06.542927Z"
    }
   },
   "source": [
    "### Categorical Columns Summary Descriptions"
   ]
  },
  {
   "cell_type": "code",
   "execution_count": 25,
   "metadata": {
    "ExecuteTime": {
     "end_time": "2022-02-15T20:23:41.114248Z",
     "start_time": "2022-02-15T20:23:27.045407Z"
    }
   },
   "outputs": [
    {
     "name": "stdout",
     "output_type": "stream",
     "text": [
      "+-------+--------------------+\n",
      "|summary|              source|\n",
      "+-------+--------------------+\n",
      "|  count|              136500|\n",
      "|   mean|   325.6354515050167|\n",
      "| stddev|   4418.195189847064|\n",
      "|    min| \"\"my excellent a...|\n",
      "|    max|… https://t.co/XL...|\n",
      "+-------+--------------------+\n",
      "\n",
      "+-------+--------------------+\n",
      "|summary|              source|\n",
      "+-------+--------------------+\n",
      "|  count|              136500|\n",
      "|   mean|   325.6354515050167|\n",
      "| stddev|   4418.195189847064|\n",
      "|    min| \"\"my excellent a...|\n",
      "|    max|… https://t.co/XL...|\n",
      "+-------+--------------------+\n",
      "\n"
     ]
    },
    {
     "data": {
      "text/html": [
       "<div>\n",
       "<style scoped>\n",
       "    .dataframe tbody tr th:only-of-type {\n",
       "        vertical-align: middle;\n",
       "    }\n",
       "\n",
       "    .dataframe tbody tr th {\n",
       "        vertical-align: top;\n",
       "    }\n",
       "\n",
       "    .dataframe thead th {\n",
       "        text-align: right;\n",
       "    }\n",
       "</style>\n",
       "<table border=\"1\" class=\"dataframe\">\n",
       "  <thead>\n",
       "    <tr style=\"text-align: right;\">\n",
       "      <th></th>\n",
       "      <th>text</th>\n",
       "    </tr>\n",
       "  </thead>\n",
       "  <tbody>\n",
       "    <tr>\n",
       "      <th>0</th>\n",
       "      <td>🩺Call RMC to schedule your #vaccinebooster🩺</td>\n",
       "    </tr>\n",
       "    <tr>\n",
       "      <th>1</th>\n",
       "      <td>🩹First dose of vaccine 💉</td>\n",
       "    </tr>\n",
       "    <tr>\n",
       "      <th>2</th>\n",
       "      <td>🩹 I GOT MY COVID-19 VACCINE!</td>\n",
       "    </tr>\n",
       "    <tr>\n",
       "      <th>3</th>\n",
       "      <td>🩹 1st dose #Sinovac ✅ Thanks @Mayora_Abby</td>\n",
       "    </tr>\n",
       "    <tr>\n",
       "      <th>4</th>\n",
       "      <td>🧵on #Covaxin and the safety-and-efficacy-focused process which is necessary for @WHO Emergency Use Listing. https://t.co/41F2XQpwCC</td>\n",
       "    </tr>\n",
       "    <tr>\n",
       "      <th>5</th>\n",
       "      <td>🧵by @josh_greenberg:</td>\n",
       "    </tr>\n",
       "    <tr>\n",
       "      <th>6</th>\n",
       "      <td>🧵To put in more perspective on how dire it is in Indonesia:</td>\n",
       "    </tr>\n",
       "    <tr>\n",
       "      <th>7</th>\n",
       "      <td>🧵: @CDCgov now recommends #COVID19 #BoosterShots for all eligible Americans.</td>\n",
       "    </tr>\n",
       "    <tr>\n",
       "      <th>8</th>\n",
       "      <td>🧵 An important thread. ht @HelenClarkNZ.</td>\n",
       "    </tr>\n",
       "    <tr>\n",
       "      <th>9</th>\n",
       "      <td>🧵</td>\n",
       "    </tr>\n",
       "    <tr>\n",
       "      <th>10</th>\n",
       "      <td>🧲 💪🏻</td>\n",
       "    </tr>\n",
       "    <tr>\n",
       "      <th>11</th>\n",
       "      <td>🧬💊💉 PHARMAGEDDON 🧬💊💉</td>\n",
       "    </tr>\n",
       "    <tr>\n",
       "      <th>12</th>\n",
       "      <td>🧪 On Feb 22, Ukraine’s healthcare ministry registered #oxfordastrazeneca vaccine for emergency use, @Ukrinform_News… https://t.co/XA0dHCV0FQ</td>\n",
       "    </tr>\n",
       "    <tr>\n",
       "      <th>13</th>\n",
       "      <td>🧡💚💜❤💙</td>\n",
       "    </tr>\n",
       "    <tr>\n",
       "      <th>14</th>\n",
       "      <td>🧐This analogy between birth control and Covid Vaccine makes a valid point 😏🤓#COVID19 #CovidVaccine #Fauci… https://t.co/xprZ2QwOMf</td>\n",
       "    </tr>\n",
       "    <tr>\n",
       "      <th>15</th>\n",
       "      <td>🦠💉⚕️</td>\n",
       "    </tr>\n",
       "    <tr>\n",
       "      <th>16</th>\n",
       "      <td>🦠💉⚕️</td>\n",
       "    </tr>\n",
       "    <tr>\n",
       "      <th>17</th>\n",
       "      <td>🦠💉More than 80% of the elderly population in #Israel got the first shot💉🦠</td>\n",
       "    </tr>\n",
       "    <tr>\n",
       "      <th>18</th>\n",
       "      <td>🦠💉All 16 States That Have Hit Biden’s Vaccine Goal Voted For Him In 2020😷 @Forbes</td>\n",
       "    </tr>\n",
       "    <tr>\n",
       "      <th>19</th>\n",
       "      <td>🦠💉 Pfizer COVID-19 vaccine to be administered to children aged between 15-19, and those over 12 with disabilities… https://t.co/yhfQEDmrjz</td>\n",
       "    </tr>\n",
       "  </tbody>\n",
       "</table>\n",
       "</div>"
      ],
      "text/plain": [
       "                                                                                                                                            text\n",
       "0                                                                                                    🩺Call RMC to schedule your #vaccinebooster🩺\n",
       "1                                                                                                                       🩹First dose of vaccine 💉\n",
       "2                                                                                                                  🩹 I GOT MY COVID-19 VACCINE! \n",
       "3                                                                                                      🩹 1st dose #Sinovac ✅ Thanks @Mayora_Abby\n",
       "4            🧵on #Covaxin and the safety-and-efficacy-focused process which is necessary for @WHO Emergency Use Listing. https://t.co/41F2XQpwCC\n",
       "5                                                                                                                          🧵by @josh_greenberg: \n",
       "6                                                                                   🧵To put in more perspective on how dire it is in Indonesia: \n",
       "7                                                                  🧵: @CDCgov now recommends #COVID19 #BoosterShots for all eligible Americans. \n",
       "8                                                                                                       🧵 An important thread. ht @HelenClarkNZ.\n",
       "9                                                                                                                                              🧵\n",
       "10                                                                                                                                          🧲 💪🏻\n",
       "11                                                                                                                          🧬💊💉 PHARMAGEDDON 🧬💊💉\n",
       "12  🧪 On Feb 22, Ukraine’s healthcare ministry registered #oxfordastrazeneca vaccine for emergency use, @Ukrinform_News… https://t.co/XA0dHCV0FQ\n",
       "13                                                                                                                                         🧡💚💜❤💙\n",
       "14            🧐This analogy between birth control and Covid Vaccine makes a valid point 😏🤓#COVID19 #CovidVaccine #Fauci… https://t.co/xprZ2QwOMf\n",
       "15                                                                                                                                          🦠💉⚕️\n",
       "16                                                                                                                                          🦠💉⚕️\n",
       "17                                                                     🦠💉More than 80% of the elderly population in #Israel got the first shot💉🦠\n",
       "18                                                            🦠💉All 16 States That Have Hit Biden’s Vaccine Goal Voted For Him In 2020😷 @Forbes \n",
       "19    🦠💉 Pfizer COVID-19 vaccine to be administered to children aged between 15-19, and those over 12 with disabilities… https://t.co/yhfQEDmrjz"
      ]
     },
     "execution_count": 25,
     "metadata": {},
     "output_type": "execute_result"
    }
   ],
   "source": [
    "# summary statistics of a column (character column)\n",
    "\n",
    "df_vaccine_tweets.select('source').describe().show()\n",
    "df_vaccine_tweets.select('source', 'user_verified', 'is_retweet').describe().show()\n",
    "\n",
    "#df_vaccine_tweets.select('user_location').show(20)\n",
    "\n",
    "df_vaccine_tweets.select('text').orderBy(col(\"text\").desc()).toPandas().head(20)"
   ]
  },
  {
   "cell_type": "code",
   "execution_count": 26,
   "metadata": {
    "ExecuteTime": {
     "end_time": "2022-02-15T20:23:43.636081Z",
     "start_time": "2022-02-15T20:23:41.116700Z"
    }
   },
   "outputs": [
    {
     "name": "stdout",
     "output_type": "stream",
     "text": [
      "+--------------------+-----+\n",
      "|              source|count|\n",
      "+--------------------+-----+\n",
      "|… https://t.co/XL...|    1|\n",
      "|… https://t.co/Bk...|    1|\n",
      "|… https://t.co/BA...|    1|\n",
      "|” said Leocadia L...|    1|\n",
      "|“We therefore imp...|    1|\n",
      "|                Оwly|    1|\n",
      "|             zzposts|    1|\n",
      "|          xh_scitech|    4|\n",
      "|welle \"\" you will...|    1|\n",
      "|        tweetvaccine|   23|\n",
      "|         tickwatcher|   18|\n",
      "|study suggests #C...|    1|\n",
      "|simple: #pfizer a...|    1|\n",
      "|science faction t...|    2|\n",
      "|       recurpost.com|    4|\n",
      "|      presshub_usbot|   21|\n",
      "| organiZm :: Network|    1|\n",
      "|           newslink7|    2|\n",
      "|           newsgovhk|    3|\n",
      "|               newsR|    1|\n",
      "+--------------------+-----+\n",
      "only showing top 20 rows\n",
      "\n"
     ]
    }
   ],
   "source": [
    "#  Distribution of users by source\n",
    "\n",
    "df_vaccine_tweets.groupBy(\"source\")\\\n",
    ".count()\\\n",
    ".sort(\"source\", ascending=False)\\\n",
    ".show()"
   ]
  },
  {
   "cell_type": "markdown",
   "metadata": {},
   "source": [
    "#### A high retweet count indicates that the tweet was likely informative enough to be shared widely or was relatable enough to “go viral,” in Twitter speak. "
   ]
  },
  {
   "cell_type": "code",
   "execution_count": 27,
   "metadata": {
    "ExecuteTime": {
     "end_time": "2022-02-15T20:24:16.588744Z",
     "start_time": "2022-02-15T20:23:43.638668Z"
    }
   },
   "outputs": [
    {
     "data": {
      "text/html": [
       "<div>\n",
       "<style scoped>\n",
       "    .dataframe tbody tr th:only-of-type {\n",
       "        vertical-align: middle;\n",
       "    }\n",
       "\n",
       "    .dataframe tbody tr th {\n",
       "        vertical-align: top;\n",
       "    }\n",
       "\n",
       "    .dataframe thead th {\n",
       "        text-align: right;\n",
       "    }\n",
       "</style>\n",
       "<table border=\"1\" class=\"dataframe\">\n",
       "  <thead>\n",
       "    <tr style=\"text-align: right;\">\n",
       "      <th></th>\n",
       "      <th>retweets</th>\n",
       "      <th>text</th>\n",
       "      <th>date</th>\n",
       "      <th>user_name</th>\n",
       "      <th>user_verified</th>\n",
       "      <th>user_location</th>\n",
       "      <th>hashtags</th>\n",
       "      <th>user_favourites</th>\n",
       "      <th>user_friends</th>\n",
       "    </tr>\n",
       "  </thead>\n",
       "  <tbody>\n",
       "    <tr>\n",
       "      <th>0</th>\n",
       "      <td>12294.0</td>\n",
       "      <td>This video fits the last almost 2 years into 2 minutes. At #SputnikV we strongly believe that it is only through Va… https://t.co/Ggi7X5qO8x</td>\n",
       "      <td>2021-11-11 14:08:00</td>\n",
       "      <td>Sputnik V</td>\n",
       "      <td>True</td>\n",
       "      <td>Moscow, Russia</td>\n",
       "      <td>['SputnikV']</td>\n",
       "      <td>3657.0</td>\n",
       "      <td>154.0</td>\n",
       "    </tr>\n",
       "    <tr>\n",
       "      <th>1</th>\n",
       "      <td>11288.0</td>\n",
       "      <td>RDIF, Laboratorios Richmond launched production of #SputnikV in Argentina, the first country in Latin America to ma… https://t.co/oEMaUwVR92</td>\n",
       "      <td>2021-04-20 15:30:23</td>\n",
       "      <td>Sputnik V</td>\n",
       "      <td>True</td>\n",
       "      <td>Moscow, Russia</td>\n",
       "      <td>['SputnikV']</td>\n",
       "      <td>1069.0</td>\n",
       "      <td>142.0</td>\n",
       "    </tr>\n",
       "    <tr>\n",
       "      <th>2</th>\n",
       "      <td>7695.0</td>\n",
       "      <td>Why we need Two Doses of mRNA Vaccine 💉 #vaccines #COVID19 #Pfizer #moderna #VaccinesSaveLives #vaccinated https://t.co/RFRmPAyubD</td>\n",
       "      <td>2021-04-01 21:17:51</td>\n",
       "      <td>hotvickkrishna</td>\n",
       "      <td>False</td>\n",
       "      <td>Manhattan, NY</td>\n",
       "      <td>['vaccines', 'COVID19', 'Pfizer', 'moderna', 'VaccinesSaveLives', 'vaccinated']</td>\n",
       "      <td>449.0</td>\n",
       "      <td>78.0</td>\n",
       "    </tr>\n",
       "    <tr>\n",
       "      <th>3</th>\n",
       "      <td>6018.0</td>\n",
       "      <td>We completely reject the false and malicious reporting by @CNBCTV18News on COVAXIN® supplies to international marke… https://t.co/OXgKYg2YLL</td>\n",
       "      <td>2021-04-08 15:17:19</td>\n",
       "      <td>BharatBiotech</td>\n",
       "      <td>True</td>\n",
       "      <td>Hyderabad, India</td>\n",
       "      <td>None</td>\n",
       "      <td>3309.0</td>\n",
       "      <td>519.0</td>\n",
       "    </tr>\n",
       "    <tr>\n",
       "      <th>4</th>\n",
       "      <td>4851.0</td>\n",
       "      <td>ICMR study shows #COVAXIN neutralises against multiple variants of SARS-CoV-2 and effectively neutralises the doubl… https://t.co/0IYwr0KymJ</td>\n",
       "      <td>2021-04-21 06:54:05</td>\n",
       "      <td>ICMR</td>\n",
       "      <td>True</td>\n",
       "      <td>New Delhi</td>\n",
       "      <td>['COVAXIN']</td>\n",
       "      <td>15777.0</td>\n",
       "      <td>170.0</td>\n",
       "    </tr>\n",
       "    <tr>\n",
       "      <th>5</th>\n",
       "      <td>4105.0</td>\n",
       "      <td>Argentine Health Minister @carlavizzotti and Presidential Adviser @cecilianicolini celebrate the production of… https://t.co/E9cPPA5Twf</td>\n",
       "      <td>2021-04-20 19:54:29</td>\n",
       "      <td>Sputnik V</td>\n",
       "      <td>True</td>\n",
       "      <td>Moscow, Russia</td>\n",
       "      <td>None</td>\n",
       "      <td>1069.0</td>\n",
       "      <td>142.0</td>\n",
       "    </tr>\n",
       "    <tr>\n",
       "      <th>6</th>\n",
       "      <td>2299.0</td>\n",
       "      <td>I see it’s going around with signature cropped....so here is the original:) #covid 19 #vaccine #pfizer #moderna… https://t.co/eoqT74V78A</td>\n",
       "      <td>2021-04-12 21:58:27</td>\n",
       "      <td>dawnymock</td>\n",
       "      <td>False</td>\n",
       "      <td>Fredericton New Brunswick</td>\n",
       "      <td>['covid', 'vaccine', 'pfizer', 'moderna']</td>\n",
       "      <td>100768.0</td>\n",
       "      <td>5002.0</td>\n",
       "    </tr>\n",
       "    <tr>\n",
       "      <th>7</th>\n",
       "      <td>2294.0</td>\n",
       "      <td>It’s 72 hours since @BharatBiotech announced that it will transfer production details to whoever wants to produce… https://t.co/ixrqS87R6X</td>\n",
       "      <td>2021-05-17 05:11:52</td>\n",
       "      <td>B L Santhosh</td>\n",
       "      <td>True</td>\n",
       "      <td>New Delhi, India</td>\n",
       "      <td>None</td>\n",
       "      <td>536.0</td>\n",
       "      <td>302.0</td>\n",
       "    </tr>\n",
       "    <tr>\n",
       "      <th>8</th>\n",
       "      <td>2247.0</td>\n",
       "      <td>New research published in Microbiology &amp;amp; Infectious Diseases, immunologist J. Bart Classen warns #mRNA technology u… https://t.co/OWUTf5ShHO</td>\n",
       "      <td>2021-02-10 15:11:23</td>\n",
       "      <td>Robert F. Kennedy Jr</td>\n",
       "      <td>True</td>\n",
       "      <td>Los Angles, California</td>\n",
       "      <td>['mRNA']</td>\n",
       "      <td>114.0</td>\n",
       "      <td>594.0</td>\n",
       "    </tr>\n",
       "    <tr>\n",
       "      <th>9</th>\n",
       "      <td>2127.0</td>\n",
       "      <td>The Emergency Use Listing approval by WHO validates the international safety and quality standards of COVAXIN®. Bha… https://t.co/pTVhFNaBLT</td>\n",
       "      <td>2021-11-03 13:14:57</td>\n",
       "      <td>BharatBiotech</td>\n",
       "      <td>True</td>\n",
       "      <td>Hyderabad, India</td>\n",
       "      <td>None</td>\n",
       "      <td>3982.0</td>\n",
       "      <td>534.0</td>\n",
       "    </tr>\n",
       "    <tr>\n",
       "      <th>10</th>\n",
       "      <td>1980.0</td>\n",
       "      <td>A batch of fake Sputnik V vaccines was confiscated in Mexico. See this comparison of the genuine #SputnikV with a f… https://t.co/J7PxMq2e1M</td>\n",
       "      <td>2021-03-18 14:43:13</td>\n",
       "      <td>Sputnik V</td>\n",
       "      <td>True</td>\n",
       "      <td>Moscow, Russia</td>\n",
       "      <td>['SputnikV']</td>\n",
       "      <td>678.0</td>\n",
       "      <td>142.0</td>\n",
       "    </tr>\n",
       "    <tr>\n",
       "      <th>11</th>\n",
       "      <td>1930.0</td>\n",
       "      <td>Great news for domestic vaccine #Covaxin — 100% efficacy in phase 3 trials against severe #Covid &amp;amp; 78% clinical eff… https://t.co/X7tEjprGao</td>\n",
       "      <td>2021-04-21 09:35:15</td>\n",
       "      <td>Minhaz Merchant</td>\n",
       "      <td>True</td>\n",
       "      <td>Mumbai</td>\n",
       "      <td>['Covaxin', 'Covid']</td>\n",
       "      <td>1329.0</td>\n",
       "      <td>46.0</td>\n",
       "    </tr>\n",
       "    <tr>\n",
       "      <th>12</th>\n",
       "      <td>1903.0</td>\n",
       "      <td>BREAKING | RDIF: World's 1st combo study in Argentina, supported by RDIF, showed that Sputnik Light (1st shot of… https://t.co/utNXCfcCJ8</td>\n",
       "      <td>2021-10-14 12:43:46</td>\n",
       "      <td>Sputnik V</td>\n",
       "      <td>True</td>\n",
       "      <td>Moscow, Russia</td>\n",
       "      <td>None</td>\n",
       "      <td>3561.0</td>\n",
       "      <td>155.0</td>\n",
       "    </tr>\n",
       "    <tr>\n",
       "      <th>13</th>\n",
       "      <td>1878.0</td>\n",
       "      <td>I haven’t seen any vaccine in the world for any disease going through the level of scrutiny (public, press &amp;amp; politi… https://t.co/2LxfPaKmzz</td>\n",
       "      <td>2021-08-05 20:28:35</td>\n",
       "      <td>Shubhendu</td>\n",
       "      <td>False</td>\n",
       "      <td>New Delhi</td>\n",
       "      <td>None</td>\n",
       "      <td>41913.0</td>\n",
       "      <td>1144.0</td>\n",
       "    </tr>\n",
       "    <tr>\n",
       "      <th>14</th>\n",
       "      <td>1642.0</td>\n",
       "      <td>BREAKING: India, the world’s 2nd most populous nation, became the 60th country to register #SputnikV after positive… https://t.co/54xqOgE8lr</td>\n",
       "      <td>2021-04-12 19:05:21</td>\n",
       "      <td>Sputnik V</td>\n",
       "      <td>True</td>\n",
       "      <td>Moscow, Russia</td>\n",
       "      <td>['SputnikV']</td>\n",
       "      <td>996.0</td>\n",
       "      <td>142.0</td>\n",
       "    </tr>\n",
       "    <tr>\n",
       "      <th>15</th>\n",
       "      <td>1588.0</td>\n",
       "      <td>JUST IN - FDA in an unusual move didn’t take a stance on #Moderna's application for a booster dose, indicating ther… https://t.co/tYK5J6lomh</td>\n",
       "      <td>2021-10-12 16:36:05</td>\n",
       "      <td>Disclose.tv</td>\n",
       "      <td>False</td>\n",
       "      <td>None</td>\n",
       "      <td>['Moderna']</td>\n",
       "      <td>40104.0</td>\n",
       "      <td>750.0</td>\n",
       "    </tr>\n",
       "    <tr>\n",
       "      <th>16</th>\n",
       "      <td>1552.0</td>\n",
       "      <td>#COVAXIN vaccine approved for children aged 2 - 18 ... Another milestone in handling #COVID19 ... Well done scientists .</td>\n",
       "      <td>2021-10-12 08:44:23</td>\n",
       "      <td>B L Santhosh</td>\n",
       "      <td>True</td>\n",
       "      <td>New Delhi, India</td>\n",
       "      <td>['COVAXIN', 'COVID19']</td>\n",
       "      <td>717.0</td>\n",
       "      <td>325.0</td>\n",
       "    </tr>\n",
       "    <tr>\n",
       "      <th>17</th>\n",
       "      <td>1548.0</td>\n",
       "      <td>My husband went to get his 2nd shot of #Covaxin yesterday. He didn't get it, not because there was no #vaccine but… https://t.co/1iiE9F4psV</td>\n",
       "      <td>2021-06-17 06:45:39</td>\n",
       "      <td>Dehradun|NLU</td>\n",
       "      <td>False</td>\n",
       "      <td>Jodhpur|LBSNAA |FSI|ICP</td>\n",
       "      <td>['Covaxin', 'vaccine']</td>\n",
       "      <td>4622.0</td>\n",
       "      <td>1023.0</td>\n",
       "    </tr>\n",
       "    <tr>\n",
       "      <th>18</th>\n",
       "      <td>1530.0</td>\n",
       "      <td>Pfizer has told Australian authorities that they can only supply in July 2022. Send a mail, address a presser, rais… https://t.co/XLWT4XNoCq</td>\n",
       "      <td>2021-05-24 08:13:52</td>\n",
       "      <td>B L Santhosh</td>\n",
       "      <td>True</td>\n",
       "      <td>New Delhi, India</td>\n",
       "      <td>None</td>\n",
       "      <td>544.0</td>\n",
       "      <td>302.0</td>\n",
       "    </tr>\n",
       "    <tr>\n",
       "      <th>19</th>\n",
       "      <td>1439.0</td>\n",
       "      <td>U.S. CDC lists Bharat Biotech's #Covaxin as 'Accepted in Country'</td>\n",
       "      <td>2021-11-09 09:43:37</td>\n",
       "      <td>MeghUpdates🚨™</td>\n",
       "      <td>False</td>\n",
       "      <td>Turn on 🔔</td>\n",
       "      <td>['Covaxin']</td>\n",
       "      <td>2228.0</td>\n",
       "      <td>198.0</td>\n",
       "    </tr>\n",
       "  </tbody>\n",
       "</table>\n",
       "</div>"
      ],
      "text/plain": [
       "    retweets  \\\n",
       "0    12294.0   \n",
       "1    11288.0   \n",
       "2     7695.0   \n",
       "3     6018.0   \n",
       "4     4851.0   \n",
       "5     4105.0   \n",
       "6     2299.0   \n",
       "7     2294.0   \n",
       "8     2247.0   \n",
       "9     2127.0   \n",
       "10    1980.0   \n",
       "11    1930.0   \n",
       "12    1903.0   \n",
       "13    1878.0   \n",
       "14    1642.0   \n",
       "15    1588.0   \n",
       "16    1552.0   \n",
       "17    1548.0   \n",
       "18    1530.0   \n",
       "19    1439.0   \n",
       "\n",
       "                                                                                                                                                text  \\\n",
       "0       This video fits the last almost 2 years into 2 minutes. At #SputnikV we strongly believe that it is only through Va… https://t.co/Ggi7X5qO8x   \n",
       "1       RDIF, Laboratorios Richmond launched production of #SputnikV in Argentina, the first country in Latin America to ma… https://t.co/oEMaUwVR92   \n",
       "2                 Why we need Two Doses of mRNA Vaccine 💉 #vaccines #COVID19 #Pfizer #moderna #VaccinesSaveLives #vaccinated https://t.co/RFRmPAyubD   \n",
       "3       We completely reject the false and malicious reporting by @CNBCTV18News on COVAXIN® supplies to international marke… https://t.co/OXgKYg2YLL   \n",
       "4       ICMR study shows #COVAXIN neutralises against multiple variants of SARS-CoV-2 and effectively neutralises the doubl… https://t.co/0IYwr0KymJ   \n",
       "5            Argentine Health Minister @carlavizzotti and Presidential Adviser @cecilianicolini celebrate the production of… https://t.co/E9cPPA5Twf   \n",
       "6           I see it’s going around with signature cropped....so here is the original:) #covid 19 #vaccine #pfizer #moderna… https://t.co/eoqT74V78A   \n",
       "7         It’s 72 hours since @BharatBiotech announced that it will transfer production details to whoever wants to produce… https://t.co/ixrqS87R6X   \n",
       "8   New research published in Microbiology &amp; Infectious Diseases, immunologist J. Bart Classen warns #mRNA technology u… https://t.co/OWUTf5ShHO   \n",
       "9       The Emergency Use Listing approval by WHO validates the international safety and quality standards of COVAXIN®. Bha… https://t.co/pTVhFNaBLT   \n",
       "10      A batch of fake Sputnik V vaccines was confiscated in Mexico. See this comparison of the genuine #SputnikV with a f… https://t.co/J7PxMq2e1M   \n",
       "11  Great news for domestic vaccine #Covaxin — 100% efficacy in phase 3 trials against severe #Covid &amp; 78% clinical eff… https://t.co/X7tEjprGao   \n",
       "12         BREAKING | RDIF: World's 1st combo study in Argentina, supported by RDIF, showed that Sputnik Light (1st shot of… https://t.co/utNXCfcCJ8   \n",
       "13  I haven’t seen any vaccine in the world for any disease going through the level of scrutiny (public, press &amp; politi… https://t.co/2LxfPaKmzz   \n",
       "14      BREAKING: India, the world’s 2nd most populous nation, became the 60th country to register #SputnikV after positive… https://t.co/54xqOgE8lr   \n",
       "15      JUST IN - FDA in an unusual move didn’t take a stance on #Moderna's application for a booster dose, indicating ther… https://t.co/tYK5J6lomh   \n",
       "16                          #COVAXIN vaccine approved for children aged 2 - 18 ... Another milestone in handling #COVID19 ... Well done scientists .   \n",
       "17       My husband went to get his 2nd shot of #Covaxin yesterday. He didn't get it, not because there was no #vaccine but… https://t.co/1iiE9F4psV   \n",
       "18      Pfizer has told Australian authorities that they can only supply in July 2022. Send a mail, address a presser, rais… https://t.co/XLWT4XNoCq   \n",
       "19                                                                                 U.S. CDC lists Bharat Biotech's #Covaxin as 'Accepted in Country'   \n",
       "\n",
       "                  date             user_name user_verified  \\\n",
       "0  2021-11-11 14:08:00             Sputnik V          True   \n",
       "1  2021-04-20 15:30:23             Sputnik V          True   \n",
       "2  2021-04-01 21:17:51        hotvickkrishna         False   \n",
       "3  2021-04-08 15:17:19         BharatBiotech          True   \n",
       "4  2021-04-21 06:54:05                  ICMR          True   \n",
       "5  2021-04-20 19:54:29             Sputnik V          True   \n",
       "6  2021-04-12 21:58:27             dawnymock         False   \n",
       "7  2021-05-17 05:11:52          B L Santhosh          True   \n",
       "8  2021-02-10 15:11:23  Robert F. Kennedy Jr          True   \n",
       "9  2021-11-03 13:14:57         BharatBiotech          True   \n",
       "10 2021-03-18 14:43:13             Sputnik V          True   \n",
       "11 2021-04-21 09:35:15       Minhaz Merchant          True   \n",
       "12 2021-10-14 12:43:46             Sputnik V          True   \n",
       "13 2021-08-05 20:28:35             Shubhendu         False   \n",
       "14 2021-04-12 19:05:21             Sputnik V          True   \n",
       "15 2021-10-12 16:36:05           Disclose.tv         False   \n",
       "16 2021-10-12 08:44:23          B L Santhosh          True   \n",
       "17 2021-06-17 06:45:39          Dehradun|NLU         False   \n",
       "18 2021-05-24 08:13:52          B L Santhosh          True   \n",
       "19 2021-11-09 09:43:37         MeghUpdates🚨™         False   \n",
       "\n",
       "                user_location  \\\n",
       "0             Moscow, Russia    \n",
       "1             Moscow, Russia    \n",
       "2               Manhattan, NY   \n",
       "3            Hyderabad, India   \n",
       "4                   New Delhi   \n",
       "5             Moscow, Russia    \n",
       "6   Fredericton New Brunswick   \n",
       "7            New Delhi, India   \n",
       "8      Los Angles, California   \n",
       "9            Hyderabad, India   \n",
       "10            Moscow, Russia    \n",
       "11                     Mumbai   \n",
       "12            Moscow, Russia    \n",
       "13                  New Delhi   \n",
       "14            Moscow, Russia    \n",
       "15                       None   \n",
       "16           New Delhi, India   \n",
       "17    Jodhpur|LBSNAA |FSI|ICP   \n",
       "18           New Delhi, India   \n",
       "19                  Turn on 🔔   \n",
       "\n",
       "                                                                           hashtags  \\\n",
       "0                                                                      ['SputnikV']   \n",
       "1                                                                      ['SputnikV']   \n",
       "2   ['vaccines', 'COVID19', 'Pfizer', 'moderna', 'VaccinesSaveLives', 'vaccinated']   \n",
       "3                                                                              None   \n",
       "4                                                                       ['COVAXIN']   \n",
       "5                                                                              None   \n",
       "6                                         ['covid', 'vaccine', 'pfizer', 'moderna']   \n",
       "7                                                                              None   \n",
       "8                                                                          ['mRNA']   \n",
       "9                                                                              None   \n",
       "10                                                                     ['SputnikV']   \n",
       "11                                                             ['Covaxin', 'Covid']   \n",
       "12                                                                             None   \n",
       "13                                                                             None   \n",
       "14                                                                     ['SputnikV']   \n",
       "15                                                                      ['Moderna']   \n",
       "16                                                           ['COVAXIN', 'COVID19']   \n",
       "17                                                           ['Covaxin', 'vaccine']   \n",
       "18                                                                             None   \n",
       "19                                                                      ['Covaxin']   \n",
       "\n",
       "    user_favourites  user_friends  \n",
       "0            3657.0         154.0  \n",
       "1            1069.0         142.0  \n",
       "2             449.0          78.0  \n",
       "3            3309.0         519.0  \n",
       "4           15777.0         170.0  \n",
       "5            1069.0         142.0  \n",
       "6          100768.0        5002.0  \n",
       "7             536.0         302.0  \n",
       "8             114.0         594.0  \n",
       "9            3982.0         534.0  \n",
       "10            678.0         142.0  \n",
       "11           1329.0          46.0  \n",
       "12           3561.0         155.0  \n",
       "13          41913.0        1144.0  \n",
       "14            996.0         142.0  \n",
       "15          40104.0         750.0  \n",
       "16            717.0         325.0  \n",
       "17           4622.0        1023.0  \n",
       "18            544.0         302.0  \n",
       "19           2228.0         198.0  "
      ]
     },
     "execution_count": 27,
     "metadata": {},
     "output_type": "execute_result"
    }
   ],
   "source": [
    "# Identify Active Tweeter and Highest retweet\n",
    "\n",
    "df_vaccine_tweets.select(\"retweets\", \"text\", \"date\", \"user_name\", \"user_verified\", \"user_location\", \"hashtags\", \"user_favourites\", \"user_friends\").orderBy(col(\"retweets\").desc(),col(\"text\").asc()).toPandas().head(20)"
   ]
  },
  {
   "cell_type": "code",
   "execution_count": 28,
   "metadata": {
    "ExecuteTime": {
     "end_time": "2022-02-15T20:24:32.479294Z",
     "start_time": "2022-02-15T20:24:16.593255Z"
    }
   },
   "outputs": [
    {
     "data": {
      "text/html": [
       "<div>\n",
       "<style scoped>\n",
       "    .dataframe tbody tr th:only-of-type {\n",
       "        vertical-align: middle;\n",
       "    }\n",
       "\n",
       "    .dataframe tbody tr th {\n",
       "        vertical-align: top;\n",
       "    }\n",
       "\n",
       "    .dataframe thead th {\n",
       "        text-align: right;\n",
       "    }\n",
       "</style>\n",
       "<table border=\"1\" class=\"dataframe\">\n",
       "  <thead>\n",
       "    <tr style=\"text-align: right;\">\n",
       "      <th></th>\n",
       "      <th>retweets</th>\n",
       "      <th>user_name</th>\n",
       "    </tr>\n",
       "  </thead>\n",
       "  <tbody>\n",
       "    <tr>\n",
       "      <th>0</th>\n",
       "      <td>34525.0</td>\n",
       "      <td>education</td>\n",
       "    </tr>\n",
       "    <tr>\n",
       "      <th>1</th>\n",
       "      <td>28809.0</td>\n",
       "      <td>Infectious Disease Epidemiologist</td>\n",
       "    </tr>\n",
       "    <tr>\n",
       "      <th>2</th>\n",
       "      <td>22666.0</td>\n",
       "      <td>aspiring software craftsman</td>\n",
       "    </tr>\n",
       "    <tr>\n",
       "      <th>3</th>\n",
       "      <td>12294.0</td>\n",
       "      <td>Sputnik V</td>\n",
       "    </tr>\n",
       "    <tr>\n",
       "      <th>4</th>\n",
       "      <td>11288.0</td>\n",
       "      <td>Sputnik V</td>\n",
       "    </tr>\n",
       "    <tr>\n",
       "      <th>5</th>\n",
       "      <td>7695.0</td>\n",
       "      <td>hotvickkrishna</td>\n",
       "    </tr>\n",
       "    <tr>\n",
       "      <th>6</th>\n",
       "      <td>6018.0</td>\n",
       "      <td>BharatBiotech</td>\n",
       "    </tr>\n",
       "    <tr>\n",
       "      <th>7</th>\n",
       "      <td>5479.0</td>\n",
       "      <td>Elder Emo - Swim</td>\n",
       "    </tr>\n",
       "    <tr>\n",
       "      <th>8</th>\n",
       "      <td>5332.0</td>\n",
       "      <td>Elder Emo</td>\n",
       "    </tr>\n",
       "    <tr>\n",
       "      <th>9</th>\n",
       "      <td>4851.0</td>\n",
       "      <td>ICMR</td>\n",
       "    </tr>\n",
       "  </tbody>\n",
       "</table>\n",
       "</div>"
      ],
      "text/plain": [
       "   retweets                           user_name\n",
       "0   34525.0                           education\n",
       "1   28809.0   Infectious Disease Epidemiologist\n",
       "2   22666.0         aspiring software craftsman\n",
       "3   12294.0                           Sputnik V\n",
       "4   11288.0                           Sputnik V\n",
       "5    7695.0                      hotvickkrishna\n",
       "6    6018.0                       BharatBiotech\n",
       "7    5479.0                    Elder Emo - Swim\n",
       "8    5332.0                           Elder Emo\n",
       "9    4851.0                                ICMR"
      ]
     },
     "execution_count": 28,
     "metadata": {},
     "output_type": "execute_result"
    }
   ],
   "source": [
    "# group by username and count number of tweet per user \n",
    "\n",
    "df_results1 = df_vaccine_tweets.select(\"retweets\", \"user_name\").orderBy(col(\"retweets\").desc(),col(\"user_name\").desc()).toPandas().head(10)\n",
    "df_results1"
   ]
  },
  {
   "cell_type": "code",
   "execution_count": 29,
   "metadata": {
    "ExecuteTime": {
     "end_time": "2022-02-15T20:24:34.776835Z",
     "start_time": "2022-02-15T20:24:32.481196Z"
    }
   },
   "outputs": [
    {
     "name": "stdout",
     "output_type": "stream",
     "text": [
      "+---------+--------+\n",
      "|user_name|retweets|\n",
      "+---------+--------+\n",
      "|Sputnik V| 12294.0|\n",
      "|Sputnik V| 11288.0|\n",
      "|Sputnik V|  4105.0|\n",
      "|Sputnik V|  1980.0|\n",
      "|Sputnik V|  1903.0|\n",
      "+---------+--------+\n",
      "only showing top 5 rows\n",
      "\n",
      "+---------+--------+\n",
      "|user_name|retweets|\n",
      "+---------+--------+\n",
      "|     ICMR|  4851.0|\n",
      "|     ICMR|   782.0|\n",
      "|     ICMR|   766.0|\n",
      "+---------+--------+\n",
      "\n"
     ]
    }
   ],
   "source": [
    "# filter and select specfic column based on specic value and get another columns value\n",
    "# choose user name and get their associate retweets\n",
    "\n",
    "result = df_vaccine_tweets.where(col(\"user_name\") == 'Sputnik V').select(\"user_name\", \"retweets\").orderBy(col(\"retweets\").desc())\n",
    "result.show(5)\n",
    "\n",
    "result = df_vaccine_tweets.where(col(\"user_name\") == 'ICMR').select(\"user_name\", \"retweets\").orderBy(col(\"retweets\").desc())\n",
    "result.show(5)"
   ]
  },
  {
   "cell_type": "code",
   "execution_count": 30,
   "metadata": {
    "ExecuteTime": {
     "end_time": "2022-02-15T20:24:39.814732Z",
     "start_time": "2022-02-15T20:24:34.780773Z"
    }
   },
   "outputs": [
    {
     "name": "stdout",
     "output_type": "stream",
     "text": [
      "+-------------+---------+\n",
      "|user_verified|user_cnts|\n",
      "+-------------+---------+\n",
      "|         null|   191212|\n",
      "|        false|   154400|\n",
      "|         true|    16046|\n",
      "+-------------+---------+\n",
      "\n",
      "+-------------+------+\n",
      "|user_verified| count|\n",
      "+-------------+------+\n",
      "|         true| 16046|\n",
      "|        false|154402|\n",
      "|         null|371280|\n",
      "+-------------+------+\n",
      "\n"
     ]
    }
   ],
   "source": [
    "# How many tweets are based on true verified user_name \n",
    "# make sure do not put show at the end of first line, the bar char will not work, it has to be on a seperate line\n",
    "\n",
    "df_verified_results = df_vaccine_tweets.groupBy('user_verified').agg(F.count('user_name').alias('user_cnts')).orderBy('user_verified', asc=False)\n",
    "df_verified_results.show()\n",
    "\n",
    "# group by user verified and see how many of the records are verified\n",
    "df_verified_results2 = df_vaccine_tweets.groupBy(\"user_verified\").count().sort(\"user_verified\", ascending=False)\n",
    "df_verified_results2.show()"
   ]
  },
  {
   "cell_type": "markdown",
   "metadata": {
    "ExecuteTime": {
     "end_time": "2022-01-28T19:50:32.985200Z",
     "start_time": "2022-01-28T19:50:32.978734Z"
    }
   },
   "source": [
    "https://pandas.pydata.org/docs/reference/api/pandas.DataFrame.plot.bar.html"
   ]
  },
  {
   "cell_type": "code",
   "execution_count": 31,
   "metadata": {
    "ExecuteTime": {
     "end_time": "2022-02-15T20:24:44.189875Z",
     "start_time": "2022-02-15T20:24:39.817629Z"
    }
   },
   "outputs": [
    {
     "data": {
      "text/plain": [
       "<AxesSubplot:xlabel='user_verified'>"
      ]
     },
     "execution_count": 31,
     "metadata": {},
     "output_type": "execute_result"
    },
    {
     "data": {
      "image/png": "[encoded data removed]",
      "text/plain": [
       "<Figure size 576x360 with 1 Axes>"
      ]
     },
     "metadata": {
      "image/png": {
       "height": 343,
       "width": 512
      },
      "needs_background": "light"
     },
     "output_type": "display_data"
    }
   ],
   "source": [
    "df_verified_results.toPandas().plot.bar(x='user_verified', y='user_cnts', figsize=(8, 5), color='green')"
   ]
  },
  {
   "cell_type": "markdown",
   "metadata": {},
   "source": [
    "# Need to work on plt to enhance bar chart !!!"
   ]
  },
  {
   "cell_type": "code",
   "execution_count": 32,
   "metadata": {
    "ExecuteTime": {
     "end_time": "2022-02-15T20:24:44.197956Z",
     "start_time": "2022-02-15T20:24:44.191905Z"
    }
   },
   "outputs": [
    {
     "data": {
      "text/plain": [
       "pyspark.sql.dataframe.DataFrame"
      ]
     },
     "execution_count": 32,
     "metadata": {},
     "output_type": "execute_result"
    }
   ],
   "source": [
    "type(df_verified_results)\n",
    "df_verified_results_renamed = df_verified_results\n",
    "\n",
    "# We assign the rest of 'null' belong to another specific group that we call 'others'\n",
    "others = {\n",
    "      'user_verified': 'others'\n",
    "    , 'Users count': df_verified_results_renamed['user_cnts']\n",
    "}"
   ]
  },
  {
   "cell_type": "code",
   "execution_count": 33,
   "metadata": {
    "ExecuteTime": {
     "end_time": "2022-02-15T20:24:44.266099Z",
     "start_time": "2022-02-15T20:24:44.199772Z"
    }
   },
   "outputs": [],
   "source": [
    "#df_verified_results_renamed = df_verified_results_renamed.append(others, ignore_index=True)\n",
    "#fig, axs = plt.subplots(nrows=1, ncols=1, figsize=plt.figaspect(0.8))\n",
    "\n",
    "\n",
    "#plot0 =   axs.bar(x=df_verified_results_renamed['user_verified'],\n",
    "#                  height=df_verified_results_renamed['user_cnts'])\n",
    "#title0 =  axs.set_title('Users counts by Verification', fontsize = 'small')\n",
    "#xlabel0 = axs.set_xlabel('User Verified', fontsize = 'small')\n",
    "#ylabel0 = axs.set_ylabel('Users Counts', fontsize = 'small')\n",
    "#xsticks_label = axs.set_xticklabels(df_verified_results_renamed['user_verified'] \n",
    " #                                      ,rotation = 'vertical', fontsize='small')"
   ]
  },
  {
   "cell_type": "markdown",
   "metadata": {},
   "source": [
    "# Dealing with Missing Values"
   ]
  },
  {
   "cell_type": "markdown",
   "metadata": {},
   "source": [
    "#Replace 0 for null for all integer columns\n",
    "\n",
    "df.na.fill(value=0).show()\n",
    "\n",
    "#Replace 0 for null on only population column \n",
    "\n",
    "df.na.fill(value=0,subset=[\"population\"]).show()\n",
    "\n",
    "#PySpark Replace Null/None Value with Empty String\n",
    "\n",
    "df.na.fill(\"\").show(false) # This replaces all String type columns with empty/blank string for all NULL values.\n",
    "\n",
    "df.na.fill({\"city\": \"unknown\", \"type\": \"\"}) \\\n",
    "    .show()\n",
    "    \n",
    "df.na.fill(\"unknown\",[\"city\"]) \\\n",
    "    .na.fill(\"\",[\"type\"]).show()"
   ]
  },
  {
   "cell_type": "markdown",
   "metadata": {},
   "source": [
    "# TextBlob Sentiment Analysis\n"
   ]
  },
  {
   "cell_type": "markdown",
   "metadata": {},
   "source": [
    "TextBlob’s sentiment analysis processing employs two key metrics: polarity and subjectivity.\n",
    "##### The polarity score is a float within the range [-1.0, 1.0], and it reflects the emotional charge of a statement or passage.\n",
    "##### Subjectivity is a float within the range [0.0, 1.0], where 0.0 is very objective and 1.0 is very subjective. "
   ]
  },
  {
   "cell_type": "code",
   "execution_count": 34,
   "metadata": {
    "ExecuteTime": {
     "end_time": "2022-02-15T20:24:44.467428Z",
     "start_time": "2022-02-15T20:24:44.268294Z"
    }
   },
   "outputs": [
    {
     "data": {
      "text/plain": [
       "Sentiment(polarity=0.46875, subjectivity=0.75)"
      ]
     },
     "execution_count": 34,
     "metadata": {},
     "output_type": "execute_result"
    },
    {
     "data": {
      "text/plain": [
       "Sentiment(polarity=0.4375, subjectivity=0.875)"
      ]
     },
     "execution_count": 34,
     "metadata": {},
     "output_type": "execute_result"
    },
    {
     "data": {
      "text/plain": [
       "'So excited to get my vaccine! 😂'"
      ]
     },
     "execution_count": 34,
     "metadata": {},
     "output_type": "execute_result"
    },
    {
     "data": {
      "text/plain": [
       "Sentiment(polarity=0.46875, subjectivity=0.75)"
      ]
     },
     "execution_count": 34,
     "metadata": {},
     "output_type": "execute_result"
    },
    {
     "name": "stdout",
     "output_type": "stream",
     "text": [
      "This dog 😂\n",
      "This dog \n"
     ]
    }
   ],
   "source": [
    "TextBlob(\"So excited to get my vaccine!\").sentiment\n",
    "TextBlob(\"I see it’s going around with signature cropped....so here is the original:) #covid 19 #vaccine #pfizer\").sentiment\n",
    "\n",
    "text = u'So excited to get my vaccine! \\U0001f602'\n",
    "text\n",
    "TextBlob(text).sentiment\n",
    "\n",
    "\n",
    "text = u'This dog \\U0001f602'\n",
    "print(text) # with emoji\n",
    "\n",
    "emoji_pattern = re.compile(\"[\"\n",
    "        u\"\\U0001F600-\\U0001F64F\"  # emoticons\n",
    "        u\"\\U0001F300-\\U0001F5FF\"  # symbols & pictographs\n",
    "        u\"\\U0001F680-\\U0001F6FF\"  # transport & map symbols\n",
    "        u\"\\U0001F1E0-\\U0001F1FF\"  # flags (iOS)\n",
    "                           \"]+\", flags=re.UNICODE)\n",
    "print(emoji_pattern.sub(r'', text)) # no emoji"
   ]
  },
  {
   "cell_type": "markdown",
   "metadata": {},
   "source": [
    "In order to define a udf, you need to specify the output data type. For instance, if you wanted to apply a function my_func that returned a string, you could create a udf as follows:\n",
    "\n",
    "import pyspark.sql.functions as f\n",
    "\n",
    "my_udf = f.udf(my_func, StringType())\n",
    "\n",
    "df = df.withColumn('new_column', my_udf(f.col(\"some_column_name\")))\n",
    "\n",
    "Apply is only for pandas dataframe, not spark dataframe"
   ]
  },
  {
   "cell_type": "markdown",
   "metadata": {},
   "source": [
    "# Preprocessing Text column\n",
    "\n",
    "### Replace null value with empty string \n"
   ]
  },
  {
   "cell_type": "code",
   "execution_count": 35,
   "metadata": {
    "ExecuteTime": {
     "end_time": "2022-02-15T20:24:44.704359Z",
     "start_time": "2022-02-15T20:24:44.470244Z"
    }
   },
   "outputs": [],
   "source": [
    "#df_vaccine_tweets.select('text').show()\n",
    "\n",
    "#df_vaccine_tweets.select('text').orderBy(col(\"text\").asc()).toPandas().head(3)\n",
    "\n",
    "#df = df_vaccine_tweets.select('text').na.fill({\"text\": \"no comment\"}).toPandas() # pandas dataframe\n",
    "df = df_vaccine_tweets.select('text').na.fill({\"text\": \"no comment\"})"
   ]
  },
  {
   "cell_type": "code",
   "execution_count": 36,
   "metadata": {
    "ExecuteTime": {
     "end_time": "2022-02-15T20:24:44.736681Z",
     "start_time": "2022-02-15T20:24:44.707126Z"
    }
   },
   "outputs": [],
   "source": [
    "# Function to get sentiment\n",
    "\n",
    "def apply_blob(text):\n",
    "    try: \n",
    "        return TextBlob(text).sentiment\n",
    "    except:\n",
    "        return None\n",
    "\n",
    "# After that we will register the function as a Spark UDF:\n",
    "myudf = udf(apply_blob, DoubleType())\n",
    "\n",
    "# Then to apply the function to the whole dataframe we need to write:\n",
    "#df_new = df.withColumn('sentiment', myudf(F.col(\"text\"))).show()  # has to do with partition, spark workers partitionColumn, lowerBound, upperBound, numPartitions"
   ]
  },
  {
   "cell_type": "code",
   "execution_count": 37,
   "metadata": {
    "ExecuteTime": {
     "end_time": "2022-02-15T20:24:44.901034Z",
     "start_time": "2022-02-15T20:24:44.739269Z"
    }
   },
   "outputs": [],
   "source": [
    "#sentiment = udf(lambda x: TextBlob(x).sentiment[0])\n",
    "#spark.udf.register('sentiment', sentiment)\n",
    "#tweets = df.withColumn('sentiment',sentiment('text').cast('double'))\n",
    "#tweets"
   ]
  },
  {
   "cell_type": "code",
   "execution_count": null,
   "metadata": {},
   "outputs": [],
   "source": []
  },
  {
   "cell_type": "code",
   "execution_count": null,
   "metadata": {},
   "outputs": [],
   "source": []
  },
  {
   "cell_type": "markdown",
   "metadata": {},
   "source": [
    "Explore Function Reference: https://spark.apache.org/docs/latest/api/python/reference/api/pyspark.sql.functions.explode.html#:~:text=explode%20(col)%5Bsource%5D,the%20map%20unless%20specified%20otherwise."
   ]
  },
  {
   "cell_type": "code",
   "execution_count": 38,
   "metadata": {
    "ExecuteTime": {
     "end_time": "2022-02-15T20:24:45.059046Z",
     "start_time": "2022-02-15T20:24:44.903622Z"
    }
   },
   "outputs": [
    {
     "data": {
      "text/plain": [
       "DataFrame[a: bigint, intlist: array<bigint>, mapfield: map<string,string>]"
      ]
     },
     "execution_count": 38,
     "metadata": {},
     "output_type": "execute_result"
    }
   ],
   "source": [
    "from pyspark.sql import Row\n",
    "eDF = spark.createDataFrame([Row(a=1, intlist=[1,2,3], mapfield={\"a\": \"b\"})])\n",
    "eDF"
   ]
  },
  {
   "cell_type": "code",
   "execution_count": 39,
   "metadata": {
    "ExecuteTime": {
     "end_time": "2022-02-15T20:24:50.377339Z",
     "start_time": "2022-02-15T20:24:45.061684Z"
    }
   },
   "outputs": [
    {
     "data": {
      "text/plain": [
       "[Row(anInt=1), Row(anInt=2), Row(anInt=3)]"
      ]
     },
     "execution_count": 39,
     "metadata": {},
     "output_type": "execute_result"
    },
    {
     "name": "stdout",
     "output_type": "stream",
     "text": [
      "+---+-----+\n",
      "|key|value|\n",
      "+---+-----+\n",
      "|  a|    b|\n",
      "+---+-----+\n",
      "\n"
     ]
    }
   ],
   "source": [
    "df = eDF.select(explode(eDF.intlist).alias(\"anInt\")).collect()\n",
    "df\n",
    "eDF.select(explode(eDF.mapfield).alias(\"key\", \"value\")).show()"
   ]
  },
  {
   "cell_type": "code",
   "execution_count": null,
   "metadata": {},
   "outputs": [],
   "source": []
  },
  {
   "cell_type": "code",
   "execution_count": null,
   "metadata": {},
   "outputs": [],
   "source": []
  },
  {
   "cell_type": "markdown",
   "metadata": {},
   "source": [
    "# WebScraping (BeautifulSoup) "
   ]
  },
  {
   "cell_type": "markdown",
   "metadata": {},
   "source": [
    "## Amazon Customer Review -- Method 1"
   ]
  },
  {
   "cell_type": "code",
   "execution_count": 4,
   "metadata": {
    "ExecuteTime": {
     "end_time": "2022-02-21T16:33:20.639980Z",
     "start_time": "2022-02-21T16:33:20.620342Z"
    }
   },
   "outputs": [],
   "source": [
    "search_query = \"nike+shoes+men\"\n",
    "base_url = \"https://www.amazon.in/s?k=\""
   ]
  },
  {
   "cell_type": "code",
   "execution_count": 5,
   "metadata": {
    "ExecuteTime": {
     "end_time": "2022-02-21T16:33:21.171200Z",
     "start_time": "2022-02-21T16:33:21.165330Z"
    }
   },
   "outputs": [
    {
     "data": {
      "text/plain": [
       "'https://www.amazon.in/s?k=nike+shoes+men'"
      ]
     },
     "execution_count": 5,
     "metadata": {},
     "output_type": "execute_result"
    }
   ],
   "source": [
    "url = base_url+search_query\n",
    "url"
   ]
  },
  {
   "cell_type": "markdown",
   "metadata": {},
   "source": [
    "## Step 1: Add User-Agents and Referer when sending request to Amazon"
   ]
  },
  {
   "cell_type": "markdown",
   "metadata": {},
   "source": [
    "Ref: https://www.geeksforgeeks.org/http-headers-referer/#:~:text=To%20check%20the%20Referer%20in,Google%20Chrome"
   ]
  },
  {
   "cell_type": "code",
   "execution_count": 6,
   "metadata": {
    "ExecuteTime": {
     "end_time": "2022-02-21T16:33:22.322950Z",
     "start_time": "2022-02-21T16:33:22.318879Z"
    }
   },
   "outputs": [],
   "source": [
    "header={'User-Agent': 'Mozilla/5.0 (Windows NT 10.0; Win64; x64) AppleWebKit/537.36 (KHTML, like Gecko) Chrome/97.0.4692.99 Safari/537.36', 'referer' :'https://www.amazon.com/'}"
   ]
  },
  {
   "cell_type": "code",
   "execution_count": 7,
   "metadata": {
    "ExecuteTime": {
     "end_time": "2022-02-21T16:33:24.355033Z",
     "start_time": "2022-02-21T16:33:22.690865Z"
    }
   },
   "outputs": [],
   "source": [
    "search_response=requests.get(url, headers=header)"
   ]
  },
  {
   "cell_type": "code",
   "execution_count": 8,
   "metadata": {
    "ExecuteTime": {
     "end_time": "2022-02-21T16:33:24.364206Z",
     "start_time": "2022-02-21T16:33:24.358793Z"
    }
   },
   "outputs": [
    {
     "data": {
      "text/plain": [
       "200"
      ]
     },
     "execution_count": 8,
     "metadata": {},
     "output_type": "execute_result"
    }
   ],
   "source": [
    "search_response.status_code"
   ]
  },
  {
   "cell_type": "code",
   "execution_count": 35,
   "metadata": {
    "ExecuteTime": {
     "end_time": "2022-02-21T16:51:54.278474Z",
     "start_time": "2022-02-21T16:51:54.275806Z"
    }
   },
   "outputs": [],
   "source": [
    "#search_response.text"
   ]
  },
  {
   "cell_type": "code",
   "execution_count": 10,
   "metadata": {
    "ExecuteTime": {
     "end_time": "2022-02-21T16:33:24.591131Z",
     "start_time": "2022-02-21T16:33:24.500305Z"
    }
   },
   "outputs": [],
   "source": [
    "cookie=search_response.cookies # can assign to a cookie object to stay away from blocking "
   ]
  },
  {
   "cell_type": "markdown",
   "metadata": {},
   "source": [
    "## Step 2: Function to get the content of the page of required query "
   ]
  },
  {
   "cell_type": "markdown",
   "metadata": {},
   "source": [
    "### A function is used to get the page content and status code for the required query. A status code 200 is required to continue with the process."
   ]
  },
  {
   "cell_type": "code",
   "execution_count": 11,
   "metadata": {
    "ExecuteTime": {
     "end_time": "2022-02-21T16:33:26.379211Z",
     "start_time": "2022-02-21T16:33:26.373006Z"
    }
   },
   "outputs": [],
   "source": [
    "#cookie={} #insert request cookies within(); only used if Amazon blocks content you requested\n",
    "\n",
    "def getAmazonSearch(search_query):\n",
    "    url=\"https://www.amazon.com/s?k=\"+search_query\n",
    "    print(url)\n",
    "    page=requests.get(url,cookies=cookie, headers=header)\n",
    "    if page.status_code==200:\n",
    "        return page\n",
    "    else:\n",
    "        return page.reason # text #status_code"
   ]
  },
  {
   "cell_type": "code",
   "execution_count": 12,
   "metadata": {
    "ExecuteTime": {
     "end_time": "2022-02-21T16:33:27.817466Z",
     "start_time": "2022-02-21T16:33:26.435491Z"
    }
   },
   "outputs": [
    {
     "name": "stdout",
     "output_type": "stream",
     "text": [
      "https://www.amazon.com/s?k=nike+shoes+men\n"
     ]
    },
    {
     "data": {
      "text/plain": [
       "<Response [200]>"
      ]
     },
     "execution_count": 12,
     "metadata": {},
     "output_type": "execute_result"
    }
   ],
   "source": [
    "getAmazonSearch('nike+shoes+men')"
   ]
  },
  {
   "cell_type": "markdown",
   "metadata": {
    "ExecuteTime": {
     "end_time": "2022-02-14T21:00:14.883274Z",
     "start_time": "2022-02-14T21:00:14.284014Z"
    }
   },
   "source": [
    "## Step 3: Function to get the contents of individual product pages using 'data-asin' number (Amazon's unique identification number)"
   ]
  },
  {
   "cell_type": "code",
   "execution_count": 13,
   "metadata": {
    "ExecuteTime": {
     "end_time": "2022-02-21T16:33:29.896574Z",
     "start_time": "2022-02-21T16:33:29.890580Z"
    }
   },
   "outputs": [],
   "source": [
    "def Searchasin(asin):\n",
    "    url=\"https://www.amazon.com/dp/\"+asin # this will take you to the page of that particular product\n",
    "    print(url)\n",
    "    page=requests.get(url, cookies =cookie, headers=header)\n",
    "    if page.status_code==200:\n",
    "        return page\n",
    "    else:\n",
    "        return \"Error\""
   ]
  },
  {
   "cell_type": "code",
   "execution_count": 14,
   "metadata": {
    "ExecuteTime": {
     "end_time": "2022-02-21T16:33:33.691119Z",
     "start_time": "2022-02-21T16:33:31.427631Z"
    }
   },
   "outputs": [
    {
     "name": "stdout",
     "output_type": "stream",
     "text": [
      "https://www.amazon.com/dp/B07Y84WX3F\n"
     ]
    },
    {
     "data": {
      "text/plain": [
       "<Response [200]>"
      ]
     },
     "execution_count": 14,
     "metadata": {},
     "output_type": "execute_result"
    }
   ],
   "source": [
    "Searchasin(\"B07Y84WX3F\")"
   ]
  },
  {
   "cell_type": "markdown",
   "metadata": {},
   "source": [
    "## Step 4: Functions to pass on the link of 'see all customer reviews' and extract the content"
   ]
  },
  {
   "cell_type": "code",
   "execution_count": 15,
   "metadata": {
    "ExecuteTime": {
     "end_time": "2022-02-21T16:33:35.388542Z",
     "start_time": "2022-02-21T16:33:35.384299Z"
    }
   },
   "outputs": [],
   "source": [
    "def Searchreviews(review_link):\n",
    "    url=\"https://www.amazon.com\"+review_link # this will take you to the page of that particular product\n",
    "    print(url)\n",
    "    page=requests.get(url, cookies =cookie, headers=header)\n",
    "    if page.status_code==200:\n",
    "        return page\n",
    "    else:\n",
    "        return \"Error\""
   ]
  },
  {
   "cell_type": "markdown",
   "metadata": {},
   "source": [
    "## Step 5: Get First Page Product Review Extraction"
   ]
  },
  {
   "cell_type": "code",
   "execution_count": 16,
   "metadata": {
    "ExecuteTime": {
     "end_time": "2022-02-21T16:33:38.210183Z",
     "start_time": "2022-02-21T16:33:36.608302Z"
    }
   },
   "outputs": [
    {
     "name": "stdout",
     "output_type": "stream",
     "text": [
      "https://www.amazon.com/s?k=nike+shoes+men\n"
     ]
    }
   ],
   "source": [
    "product_names = [] # create empty list to store all product names\n",
    "response = getAmazonSearch('nike+shoes+men')\n",
    "soup = BeautifulSoup(response.content)\n",
    "for i in soup.findAll(\"span\",{'class': 'a-size-base-plus a-color-base a-text-normal'}): # find this tag by 'inspecting' on the product name which will be common for all the product on that page\n",
    "     product_names.append(i.text) # adding the product names to the list"
   ]
  },
  {
   "cell_type": "code",
   "execution_count": 32,
   "metadata": {
    "ExecuteTime": {
     "end_time": "2022-02-21T16:45:27.818564Z",
     "start_time": "2022-02-21T16:45:27.814215Z"
    }
   },
   "outputs": [],
   "source": [
    "#product_names"
   ]
  },
  {
   "cell_type": "code",
   "execution_count": 18,
   "metadata": {
    "ExecuteTime": {
     "end_time": "2022-02-21T16:33:38.273526Z",
     "start_time": "2022-02-21T16:33:38.220437Z"
    }
   },
   "outputs": [
    {
     "data": {
      "text/plain": [
       "64"
      ]
     },
     "execution_count": 18,
     "metadata": {},
     "output_type": "execute_result"
    }
   ],
   "source": [
    "len(product_names)"
   ]
  },
  {
   "cell_type": "markdown",
   "metadata": {},
   "source": [
    "## Step 6: Method of Extracting 'data-asin' numbers are similar to that of product names. Only the tag details have to be changed in findall()"
   ]
  },
  {
   "cell_type": "code",
   "execution_count": 19,
   "metadata": {
    "ExecuteTime": {
     "end_time": "2022-02-21T16:33:41.156421Z",
     "start_time": "2022-02-21T16:33:39.382143Z"
    }
   },
   "outputs": [
    {
     "name": "stdout",
     "output_type": "stream",
     "text": [
      "https://www.amazon.com/s?k=nike+shoes+men\n"
     ]
    }
   ],
   "source": [
    "data_asin=[] # create empty list to store all the asin number \n",
    "response=getAmazonSearch('nike+shoes+men')\n",
    "soup=BeautifulSoup(response.content)\n",
    "# search 'data-asin; in search bar and from there, you can see class (should be the same for all products on that page)\n",
    "for i in soup.findAll(\"div\", {'class': \"sg-col-4-of-12 s-result-item s-asin sg-col-4-of-16 sg-col s-widget-spacing-small sg-col-4-of-20\"}):\n",
    "    data_asin.append(i['data-asin'])"
   ]
  },
  {
   "cell_type": "code",
   "execution_count": 20,
   "metadata": {
    "ExecuteTime": {
     "end_time": "2022-02-21T16:33:41.161978Z",
     "start_time": "2022-02-21T16:33:41.158514Z"
    }
   },
   "outputs": [
    {
     "data": {
      "text/plain": [
       "200"
      ]
     },
     "execution_count": 20,
     "metadata": {},
     "output_type": "execute_result"
    }
   ],
   "source": [
    "response.status_code"
   ]
  },
  {
   "cell_type": "code",
   "execution_count": 33,
   "metadata": {
    "ExecuteTime": {
     "end_time": "2022-02-21T16:45:39.620559Z",
     "start_time": "2022-02-21T16:45:39.617988Z"
    }
   },
   "outputs": [],
   "source": [
    "#data_asin"
   ]
  },
  {
   "cell_type": "code",
   "execution_count": 22,
   "metadata": {
    "ExecuteTime": {
     "end_time": "2022-02-21T16:33:44.358008Z",
     "start_time": "2022-02-21T16:33:44.352507Z"
    }
   },
   "outputs": [
    {
     "data": {
      "text/plain": [
       "48"
      ]
     },
     "execution_count": 22,
     "metadata": {},
     "output_type": "execute_result"
    }
   ],
   "source": [
    "len(data_asin)"
   ]
  },
  {
   "cell_type": "markdown",
   "metadata": {},
   "source": [
    "## Step 7: By passing the data-asin numbers, we can extract the 'see all customer reviews' link for each product in the page "
   ]
  },
  {
   "cell_type": "code",
   "execution_count": 23,
   "metadata": {
    "ExecuteTime": {
     "end_time": "2022-02-21T16:35:46.766362Z",
     "start_time": "2022-02-21T16:33:45.602321Z"
    }
   },
   "outputs": [
    {
     "name": "stdout",
     "output_type": "stream",
     "text": [
      "https://www.amazon.com/dp/B07NLC4K3S\n",
      "https://www.amazon.com/dp/B07RDMCC5G\n",
      "https://www.amazon.com/dp/B07RDMBC5L\n",
      "https://www.amazon.com/dp/B08GJ43LTF\n",
      "https://www.amazon.com/dp/B07RFNMHL5\n",
      "https://www.amazon.com/dp/B07H8HZ38D\n",
      "https://www.amazon.com/dp/B01CB0NXGO\n",
      "https://www.amazon.com/dp/B00XWNW11I\n",
      "https://www.amazon.com/dp/B00770CAOA\n",
      "https://www.amazon.com/dp/B07Y84WX3F\n",
      "https://www.amazon.com/dp/B06X9BMJG2\n",
      "https://www.amazon.com/dp/B095MHQV31\n",
      "https://www.amazon.com/dp/B00Q6ZC7PY\n",
      "https://www.amazon.com/dp/B08JLRYT26\n",
      "https://www.amazon.com/dp/B07RGM63KN\n",
      "https://www.amazon.com/dp/B078HR7VJM\n",
      "https://www.amazon.com/dp/B07MVPX37T\n",
      "https://www.amazon.com/dp/B013Y6PJZM\n",
      "https://www.amazon.com/dp/B071K77K9Y\n",
      "https://www.amazon.com/dp/B083FR5WFB\n",
      "https://www.amazon.com/dp/B07HGC1B9V\n",
      "https://www.amazon.com/dp/B07QQSXLBK\n",
      "https://www.amazon.com/dp/B08HR8HNSX\n",
      "https://www.amazon.com/dp/B08Q8RLYYC\n",
      "https://www.amazon.com/dp/B08QB4FZ6J\n",
      "https://www.amazon.com/dp/B07HDST9S8\n",
      "https://www.amazon.com/dp/B0784PBPQ3\n",
      "https://www.amazon.com/dp/B001CPY30U\n",
      "https://www.amazon.com/dp/B07NN3HVKZ\n",
      "https://www.amazon.com/dp/B004LBKDY2\n",
      "https://www.amazon.com/dp/B096H6RRC4\n",
      "https://www.amazon.com/dp/B07H84PMGS\n",
      "https://www.amazon.com/dp/B07RFNNWJZ\n",
      "https://www.amazon.com/dp/B07DSDD6PC\n",
      "https://www.amazon.com/dp/B07FKBPWNZ\n",
      "https://www.amazon.com/dp/B08PKGLC51\n",
      "https://www.amazon.com/dp/B07HYGRFZF\n",
      "https://www.amazon.com/dp/B07YKPHW37\n",
      "https://www.amazon.com/dp/B078Y99XB8\n",
      "https://www.amazon.com/dp/B013CU1OFE\n",
      "https://www.amazon.com/dp/B002JK6QTS\n",
      "https://www.amazon.com/dp/B07DCNCPTR\n",
      "https://www.amazon.com/dp/B07Q6S5SK4\n",
      "https://www.amazon.com/dp/B0032TCEH8\n",
      "https://www.amazon.com/dp/B0845YCP5W\n",
      "https://www.amazon.com/dp/B096H51SKY\n",
      "https://www.amazon.com/dp/B07ZTVNPXM\n",
      "https://www.amazon.com/dp/B08P35F1X9\n"
     ]
    }
   ],
   "source": [
    "links= [] # create an empty list to store review links\n",
    "\n",
    "for i in range(len(data_asin)):\n",
    "    response=Searchasin(data_asin[i]) # use above defined asin function to loop each asin 48 times\n",
    "    soup=BeautifulSoup(response.content)\n",
    "    #'inspect' on the 'see all review'\n",
    "    for i in soup.findAll(\"a\", {'data-hook': \"see-all-reviews-link-foot\"}): \n",
    "        links.append(i['href'])"
   ]
  },
  {
   "cell_type": "code",
   "execution_count": 24,
   "metadata": {
    "ExecuteTime": {
     "end_time": "2022-02-21T16:35:46.775190Z",
     "start_time": "2022-02-21T16:35:46.769051Z"
    }
   },
   "outputs": [
    {
     "data": {
      "text/plain": [
       "95"
      ]
     },
     "execution_count": 24,
     "metadata": {},
     "output_type": "execute_result"
    },
    {
     "data": {
      "text/plain": [
       "'/Nike-Mens-Revolution-Wide-Running/product-reviews/B085LTY56B/ref=cm_cr_dp_d_show_all_btm?ie=UTF8&reviewerType=all_reviews'"
      ]
     },
     "execution_count": 24,
     "metadata": {},
     "output_type": "execute_result"
    }
   ],
   "source": [
    "len(links)\n",
    "links[0]"
   ]
  },
  {
   "cell_type": "markdown",
   "metadata": {},
   "source": [
    "## Step 8: Now we have the 'see all review' links. Using this link along with a page number, we can extract the reviews in any number of pages for all the products "
   ]
  },
  {
   "cell_type": "code",
   "execution_count": 25,
   "metadata": {
    "ExecuteTime": {
     "end_time": "2022-02-21T16:35:46.915543Z",
     "start_time": "2022-02-21T16:35:46.777503Z"
    }
   },
   "outputs": [],
   "source": [
    "#links\n",
    "#for j in range(len(links)):\n",
    " #   print(links[j])"
   ]
  },
  {
   "cell_type": "markdown",
   "metadata": {},
   "source": [
    "#### Solution -- AttributeError: 'str' object has no attribute 'content'\n",
    "\n",
    "https://stackoverflow.com/questions/60575687/how-to-fix-for-the-attributeerror-str-object-has-no-attribute-content-pyt"
   ]
  },
  {
   "cell_type": "code",
   "execution_count": 26,
   "metadata": {
    "ExecuteTime": {
     "end_time": "2022-02-21T16:38:50.941371Z",
     "start_time": "2022-02-21T16:35:46.918711Z"
    }
   },
   "outputs": [
    {
     "name": "stdout",
     "output_type": "stream",
     "text": [
      "https://www.amazon.com/Nike-Mens-Revolution-Wide-Running/product-reviews/B085LTY56B/ref=cm_cr_dp_d_show_all_btm?ie=UTF8&reviewerType=all_reviews&pageNumber=0\n",
      "https://www.amazon.com/Nike-Mens-Revolution-Wide-Running/product-reviews/B085LTY56B/ref=cm_cr_dp_d_show_all_btm?ie=UTF8&reviewerType=all_reviews&pageNumber=1\n",
      "https://www.amazon.com/Nike-Mens-Revolution-Wide-Running/product-reviews/B085LTY56B/ref=cm_cr_dp_d_show_all_btm?ie=UTF8&reviewerType=all_reviews&pageNumber=2\n",
      "https://www.amazon.com/Nike-Mens-Revolution-Wide-Running/product-reviews/B085LTY56B/ref=cm_cr_dp_d_show_all_btm?ie=UTF8&reviewerType=all_reviews&pageNumber=0\n",
      "https://www.amazon.com/Nike-Mens-Revolution-Wide-Running/product-reviews/B085LTY56B/ref=cm_cr_dp_d_show_all_btm?ie=UTF8&reviewerType=all_reviews&pageNumber=1\n",
      "https://www.amazon.com/Nike-Mens-Revolution-Wide-Running/product-reviews/B085LTY56B/ref=cm_cr_dp_d_show_all_btm?ie=UTF8&reviewerType=all_reviews&pageNumber=2\n",
      "https://www.amazon.com/Nike-Mens-Monarch-Cross-Trainer/product-reviews/B07JQKM2SP/ref=cm_cr_dp_d_show_all_btm?ie=UTF8&reviewerType=all_reviews&pageNumber=0\n",
      "https://www.amazon.com/Nike-Mens-Monarch-Cross-Trainer/product-reviews/B07JQKM2SP/ref=cm_cr_dp_d_show_all_btm?ie=UTF8&reviewerType=all_reviews&pageNumber=1\n",
      "https://www.amazon.com/Nike-Mens-Monarch-Cross-Trainer/product-reviews/B07JQKM2SP/ref=cm_cr_dp_d_show_all_btm?ie=UTF8&reviewerType=all_reviews&pageNumber=2\n",
      "https://www.amazon.com/Nike-Mens-Monarch-Cross-Trainer/product-reviews/B07JQKM2SP/ref=cm_cr_dp_d_show_all_btm?ie=UTF8&reviewerType=all_reviews&pageNumber=0\n",
      "https://www.amazon.com/Nike-Mens-Monarch-Cross-Trainer/product-reviews/B07JQKM2SP/ref=cm_cr_dp_d_show_all_btm?ie=UTF8&reviewerType=all_reviews&pageNumber=1\n",
      "https://www.amazon.com/Nike-Mens-Monarch-Cross-Trainer/product-reviews/B07JQKM2SP/ref=cm_cr_dp_d_show_all_btm?ie=UTF8&reviewerType=all_reviews&pageNumber=2\n",
      "https://www.amazon.com/Nike-Mens-Flex-Experience-Shoe/product-reviews/B07RLY3BFZ/ref=cm_cr_dp_d_show_all_btm?ie=UTF8&reviewerType=all_reviews&pageNumber=0\n",
      "https://www.amazon.com/Nike-Mens-Flex-Experience-Shoe/product-reviews/B07RLY3BFZ/ref=cm_cr_dp_d_show_all_btm?ie=UTF8&reviewerType=all_reviews&pageNumber=1\n",
      "https://www.amazon.com/Nike-Mens-Flex-Experience-Shoe/product-reviews/B07RLY3BFZ/ref=cm_cr_dp_d_show_all_btm?ie=UTF8&reviewerType=all_reviews&pageNumber=2\n",
      "https://www.amazon.com/Nike-Mens-Flex-Experience-Shoe/product-reviews/B07RLY3BFZ/ref=cm_cr_dp_d_show_all_btm?ie=UTF8&reviewerType=all_reviews&pageNumber=0\n",
      "https://www.amazon.com/Nike-Mens-Flex-Experience-Shoe/product-reviews/B07RLY3BFZ/ref=cm_cr_dp_d_show_all_btm?ie=UTF8&reviewerType=all_reviews&pageNumber=1\n",
      "https://www.amazon.com/Nike-Mens-Flex-Experience-Shoe/product-reviews/B07RLY3BFZ/ref=cm_cr_dp_d_show_all_btm?ie=UTF8&reviewerType=all_reviews&pageNumber=2\n",
      "https://www.amazon.com/Nike-CQ9246-103-Mens-Tennis-Shoe/product-reviews/B08R4RJTD9/ref=cm_cr_dp_d_show_all_btm?ie=UTF8&reviewerType=all_reviews&pageNumber=0\n",
      "https://www.amazon.com/Nike-CQ9246-103-Mens-Tennis-Shoe/product-reviews/B08R4RJTD9/ref=cm_cr_dp_d_show_all_btm?ie=UTF8&reviewerType=all_reviews&pageNumber=1\n",
      "https://www.amazon.com/Nike-CQ9246-103-Mens-Tennis-Shoe/product-reviews/B08R4RJTD9/ref=cm_cr_dp_d_show_all_btm?ie=UTF8&reviewerType=all_reviews&pageNumber=2\n",
      "https://www.amazon.com/Nike-CQ9246-103-Mens-Tennis-Shoe/product-reviews/B08R4RJTD9/ref=cm_cr_dp_d_show_all_btm?ie=UTF8&reviewerType=all_reviews&pageNumber=0\n",
      "https://www.amazon.com/Nike-CQ9246-103-Mens-Tennis-Shoe/product-reviews/B08R4RJTD9/ref=cm_cr_dp_d_show_all_btm?ie=UTF8&reviewerType=all_reviews&pageNumber=1\n",
      "https://www.amazon.com/Nike-CQ9246-103-Mens-Tennis-Shoe/product-reviews/B08R4RJTD9/ref=cm_cr_dp_d_show_all_btm?ie=UTF8&reviewerType=all_reviews&pageNumber=2\n",
      "https://www.amazon.com/Nike-Mens-Control-Cross-Trainer/product-reviews/B07RDMBS9J/ref=cm_cr_dp_d_show_all_btm?ie=UTF8&reviewerType=all_reviews&pageNumber=0\n",
      "https://www.amazon.com/Nike-Mens-Control-Cross-Trainer/product-reviews/B07RDMBS9J/ref=cm_cr_dp_d_show_all_btm?ie=UTF8&reviewerType=all_reviews&pageNumber=1\n",
      "https://www.amazon.com/Nike-Mens-Control-Cross-Trainer/product-reviews/B07RDMBS9J/ref=cm_cr_dp_d_show_all_btm?ie=UTF8&reviewerType=all_reviews&pageNumber=2\n",
      "https://www.amazon.com/Nike-Mens-Control-Cross-Trainer/product-reviews/B07RDMBS9J/ref=cm_cr_dp_d_show_all_btm?ie=UTF8&reviewerType=all_reviews&pageNumber=0\n",
      "https://www.amazon.com/Nike-Mens-Control-Cross-Trainer/product-reviews/B07RDMBS9J/ref=cm_cr_dp_d_show_all_btm?ie=UTF8&reviewerType=all_reviews&pageNumber=1\n",
      "https://www.amazon.com/Nike-Mens-Control-Cross-Trainer/product-reviews/B07RDMBS9J/ref=cm_cr_dp_d_show_all_btm?ie=UTF8&reviewerType=all_reviews&pageNumber=2\n",
      "https://www.amazon.com/Nike-Mens-Pegasus-Running-Shoes/product-reviews/B07VRKLDQQ/ref=cm_cr_dp_d_show_all_btm?ie=UTF8&reviewerType=all_reviews&pageNumber=0\n",
      "https://www.amazon.com/Nike-Mens-Pegasus-Running-Shoes/product-reviews/B07VRKLDQQ/ref=cm_cr_dp_d_show_all_btm?ie=UTF8&reviewerType=all_reviews&pageNumber=1\n",
      "https://www.amazon.com/Nike-Mens-Pegasus-Running-Shoes/product-reviews/B07VRKLDQQ/ref=cm_cr_dp_d_show_all_btm?ie=UTF8&reviewerType=all_reviews&pageNumber=2\n",
      "https://www.amazon.com/Nike-Mens-Pegasus-Running-Shoes/product-reviews/B07VRKLDQQ/ref=cm_cr_dp_d_show_all_btm?ie=UTF8&reviewerType=all_reviews&pageNumber=0\n",
      "https://www.amazon.com/Nike-Mens-Pegasus-Running-Shoes/product-reviews/B07VRKLDQQ/ref=cm_cr_dp_d_show_all_btm?ie=UTF8&reviewerType=all_reviews&pageNumber=1\n",
      "https://www.amazon.com/Nike-Mens-Pegasus-Running-Shoes/product-reviews/B07VRKLDQQ/ref=cm_cr_dp_d_show_all_btm?ie=UTF8&reviewerType=all_reviews&pageNumber=2\n",
      "https://www.amazon.com/Nike-Mens-Air-Torch-Running/product-reviews/B09FJ33RJ6/ref=cm_cr_dp_d_show_all_btm?ie=UTF8&reviewerType=all_reviews&pageNumber=0\n",
      "https://www.amazon.com/Nike-Mens-Air-Torch-Running/product-reviews/B09FJ33RJ6/ref=cm_cr_dp_d_show_all_btm?ie=UTF8&reviewerType=all_reviews&pageNumber=1\n",
      "https://www.amazon.com/Nike-Mens-Air-Torch-Running/product-reviews/B09FJ33RJ6/ref=cm_cr_dp_d_show_all_btm?ie=UTF8&reviewerType=all_reviews&pageNumber=2\n",
      "https://www.amazon.com/Nike-Mens-Air-Torch-Running/product-reviews/B09FJ33RJ6/ref=cm_cr_dp_d_show_all_btm?ie=UTF8&reviewerType=all_reviews&pageNumber=0\n",
      "https://www.amazon.com/Nike-Mens-Air-Torch-Running/product-reviews/B09FJ33RJ6/ref=cm_cr_dp_d_show_all_btm?ie=UTF8&reviewerType=all_reviews&pageNumber=1\n",
      "https://www.amazon.com/Nike-Mens-Air-Torch-Running/product-reviews/B09FJ33RJ6/ref=cm_cr_dp_d_show_all_btm?ie=UTF8&reviewerType=all_reviews&pageNumber=2\n",
      "https://www.amazon.com/Sneakers-Breathable-Comfortable-Lightweight-Cushioning/product-reviews/B078H9Z1S5/ref=cm_cr_dp_d_show_all_btm?ie=UTF8&reviewerType=all_reviews&pageNumber=0\n",
      "https://www.amazon.com/Sneakers-Breathable-Comfortable-Lightweight-Cushioning/product-reviews/B078H9Z1S5/ref=cm_cr_dp_d_show_all_btm?ie=UTF8&reviewerType=all_reviews&pageNumber=1\n",
      "https://www.amazon.com/Sneakers-Breathable-Comfortable-Lightweight-Cushioning/product-reviews/B078H9Z1S5/ref=cm_cr_dp_d_show_all_btm?ie=UTF8&reviewerType=all_reviews&pageNumber=2\n",
      "https://www.amazon.com/Sneakers-Breathable-Comfortable-Lightweight-Cushioning/product-reviews/B078H9Z1S5/ref=cm_cr_dp_d_show_all_btm?ie=UTF8&reviewerType=all_reviews&pageNumber=0\n",
      "https://www.amazon.com/Sneakers-Breathable-Comfortable-Lightweight-Cushioning/product-reviews/B078H9Z1S5/ref=cm_cr_dp_d_show_all_btm?ie=UTF8&reviewerType=all_reviews&pageNumber=1\n",
      "https://www.amazon.com/Sneakers-Breathable-Comfortable-Lightweight-Cushioning/product-reviews/B078H9Z1S5/ref=cm_cr_dp_d_show_all_btm?ie=UTF8&reviewerType=all_reviews&pageNumber=2\n",
      "https://www.amazon.com/Nike-Mens-Killshot-Leather-Sneaker/product-reviews/B086H3GG86/ref=cm_cr_dp_d_show_all_btm?ie=UTF8&reviewerType=all_reviews&pageNumber=0\n",
      "https://www.amazon.com/Nike-Mens-Killshot-Leather-Sneaker/product-reviews/B086H3GG86/ref=cm_cr_dp_d_show_all_btm?ie=UTF8&reviewerType=all_reviews&pageNumber=1\n",
      "https://www.amazon.com/Nike-Mens-Killshot-Leather-Sneaker/product-reviews/B086H3GG86/ref=cm_cr_dp_d_show_all_btm?ie=UTF8&reviewerType=all_reviews&pageNumber=2\n",
      "https://www.amazon.com/Nike-Mens-Killshot-Leather-Sneaker/product-reviews/B086H3GG86/ref=cm_cr_dp_d_show_all_btm?ie=UTF8&reviewerType=all_reviews&pageNumber=0\n"
     ]
    },
    {
     "name": "stdout",
     "output_type": "stream",
     "text": [
      "https://www.amazon.com/Nike-Mens-Killshot-Leather-Sneaker/product-reviews/B086H3GG86/ref=cm_cr_dp_d_show_all_btm?ie=UTF8&reviewerType=all_reviews&pageNumber=1\n",
      "https://www.amazon.com/Nike-Mens-Killshot-Leather-Sneaker/product-reviews/B086H3GG86/ref=cm_cr_dp_d_show_all_btm?ie=UTF8&reviewerType=all_reviews&pageNumber=2\n",
      "https://www.amazon.com/Nike-CI9981-003-Mens-Running-Shoe/product-reviews/B08695BVVR/ref=cm_cr_dp_d_show_all_btm?ie=UTF8&reviewerType=all_reviews&pageNumber=0\n",
      "https://www.amazon.com/Nike-CI9981-003-Mens-Running-Shoe/product-reviews/B08695BVVR/ref=cm_cr_dp_d_show_all_btm?ie=UTF8&reviewerType=all_reviews&pageNumber=1\n",
      "https://www.amazon.com/Nike-CI9981-003-Mens-Running-Shoe/product-reviews/B08695BVVR/ref=cm_cr_dp_d_show_all_btm?ie=UTF8&reviewerType=all_reviews&pageNumber=2\n",
      "https://www.amazon.com/Nike-CI9981-003-Mens-Running-Shoe/product-reviews/B08695BVVR/ref=cm_cr_dp_d_show_all_btm?ie=UTF8&reviewerType=all_reviews&pageNumber=0\n",
      "https://www.amazon.com/Nike-CI9981-003-Mens-Running-Shoe/product-reviews/B08695BVVR/ref=cm_cr_dp_d_show_all_btm?ie=UTF8&reviewerType=all_reviews&pageNumber=1\n",
      "https://www.amazon.com/Nike-CI9981-003-Mens-Running-Shoe/product-reviews/B08695BVVR/ref=cm_cr_dp_d_show_all_btm?ie=UTF8&reviewerType=all_reviews&pageNumber=2\n",
      "https://www.amazon.com/NIKE-2017-Running-Shoes-Mens/product-reviews/B01M7OTB04/ref=cm_cr_dp_d_show_all_btm?ie=UTF8&reviewerType=all_reviews&pageNumber=0\n",
      "https://www.amazon.com/NIKE-2017-Running-Shoes-Mens/product-reviews/B01M7OTB04/ref=cm_cr_dp_d_show_all_btm?ie=UTF8&reviewerType=all_reviews&pageNumber=1\n",
      "https://www.amazon.com/NIKE-2017-Running-Shoes-Mens/product-reviews/B01M7OTB04/ref=cm_cr_dp_d_show_all_btm?ie=UTF8&reviewerType=all_reviews&pageNumber=2\n",
      "https://www.amazon.com/NIKE-2017-Running-Shoes-Mens/product-reviews/B01M7OTB04/ref=cm_cr_dp_d_show_all_btm?ie=UTF8&reviewerType=all_reviews&pageNumber=0\n",
      "https://www.amazon.com/NIKE-2017-Running-Shoes-Mens/product-reviews/B01M7OTB04/ref=cm_cr_dp_d_show_all_btm?ie=UTF8&reviewerType=all_reviews&pageNumber=1\n",
      "https://www.amazon.com/NIKE-2017-Running-Shoes-Mens/product-reviews/B01M7OTB04/ref=cm_cr_dp_d_show_all_btm?ie=UTF8&reviewerType=all_reviews&pageNumber=2\n",
      "https://www.amazon.com/Nike-Court-Vision-Black-Royal/product-reviews/B095MKY6QL/ref=cm_cr_dp_d_show_all_btm?ie=UTF8&reviewerType=all_reviews&pageNumber=0\n",
      "https://www.amazon.com/Nike-Court-Vision-Black-Royal/product-reviews/B095MKY6QL/ref=cm_cr_dp_d_show_all_btm?ie=UTF8&reviewerType=all_reviews&pageNumber=1\n",
      "https://www.amazon.com/Nike-Court-Vision-Black-Royal/product-reviews/B095MKY6QL/ref=cm_cr_dp_d_show_all_btm?ie=UTF8&reviewerType=all_reviews&pageNumber=2\n",
      "https://www.amazon.com/Nike-Court-Vision-Black-Royal/product-reviews/B095MKY6QL/ref=cm_cr_dp_d_show_all_btm?ie=UTF8&reviewerType=all_reviews&pageNumber=0\n",
      "https://www.amazon.com/Nike-Court-Vision-Black-Royal/product-reviews/B095MKY6QL/ref=cm_cr_dp_d_show_all_btm?ie=UTF8&reviewerType=all_reviews&pageNumber=1\n",
      "https://www.amazon.com/Nike-Court-Vision-Black-Royal/product-reviews/B095MKY6QL/ref=cm_cr_dp_d_show_all_btm?ie=UTF8&reviewerType=all_reviews&pageNumber=2\n",
      "https://www.amazon.com/Nike-Mens-Visi-Basketball-Shoe/product-reviews/B013L0IA6Q/ref=cm_cr_dp_d_show_all_btm?ie=UTF8&reviewerType=all_reviews&pageNumber=0\n",
      "https://www.amazon.com/Nike-Mens-Visi-Basketball-Shoe/product-reviews/B013L0IA6Q/ref=cm_cr_dp_d_show_all_btm?ie=UTF8&reviewerType=all_reviews&pageNumber=1\n",
      "https://www.amazon.com/Nike-Mens-Visi-Basketball-Shoe/product-reviews/B013L0IA6Q/ref=cm_cr_dp_d_show_all_btm?ie=UTF8&reviewerType=all_reviews&pageNumber=2\n",
      "https://www.amazon.com/Nike-Mens-Visi-Basketball-Shoe/product-reviews/B013L0IA6Q/ref=cm_cr_dp_d_show_all_btm?ie=UTF8&reviewerType=all_reviews&pageNumber=0\n",
      "https://www.amazon.com/Nike-Mens-Visi-Basketball-Shoe/product-reviews/B013L0IA6Q/ref=cm_cr_dp_d_show_all_btm?ie=UTF8&reviewerType=all_reviews&pageNumber=1\n",
      "https://www.amazon.com/Nike-Mens-Visi-Basketball-Shoe/product-reviews/B013L0IA6Q/ref=cm_cr_dp_d_show_all_btm?ie=UTF8&reviewerType=all_reviews&pageNumber=2\n",
      "https://www.amazon.com/Nike-Mens-Kyrie-Flytrap-Basketball/product-reviews/B08PJF6NBX/ref=cm_cr_dp_d_show_all_btm?ie=UTF8&reviewerType=all_reviews&pageNumber=0\n",
      "https://www.amazon.com/Nike-Mens-Kyrie-Flytrap-Basketball/product-reviews/B08PJF6NBX/ref=cm_cr_dp_d_show_all_btm?ie=UTF8&reviewerType=all_reviews&pageNumber=1\n",
      "https://www.amazon.com/Nike-Mens-Kyrie-Flytrap-Basketball/product-reviews/B08PJF6NBX/ref=cm_cr_dp_d_show_all_btm?ie=UTF8&reviewerType=all_reviews&pageNumber=2\n",
      "https://www.amazon.com/Nike-Mens-Kyrie-Flytrap-Basketball/product-reviews/B08PJF6NBX/ref=cm_cr_dp_d_show_all_btm?ie=UTF8&reviewerType=all_reviews&pageNumber=0\n",
      "https://www.amazon.com/Nike-Mens-Kyrie-Flytrap-Basketball/product-reviews/B08PJF6NBX/ref=cm_cr_dp_d_show_all_btm?ie=UTF8&reviewerType=all_reviews&pageNumber=1\n",
      "https://www.amazon.com/Nike-Mens-Kyrie-Flytrap-Basketball/product-reviews/B08PJF6NBX/ref=cm_cr_dp_d_show_all_btm?ie=UTF8&reviewerType=all_reviews&pageNumber=2\n",
      "https://www.amazon.com/Nike-Mens-Court-Vision-Sneaker/product-reviews/B07NMZBF7V/ref=cm_cr_dp_d_show_all_btm?ie=UTF8&reviewerType=all_reviews&pageNumber=0\n",
      "https://www.amazon.com/Nike-Mens-Court-Vision-Sneaker/product-reviews/B07NMZBF7V/ref=cm_cr_dp_d_show_all_btm?ie=UTF8&reviewerType=all_reviews&pageNumber=1\n",
      "https://www.amazon.com/Nike-Mens-Court-Vision-Sneaker/product-reviews/B07NMZBF7V/ref=cm_cr_dp_d_show_all_btm?ie=UTF8&reviewerType=all_reviews&pageNumber=2\n",
      "https://www.amazon.com/Nike-Mens-Court-Vision-Sneaker/product-reviews/B07NMZBF7V/ref=cm_cr_dp_d_show_all_btm?ie=UTF8&reviewerType=all_reviews&pageNumber=0\n",
      "https://www.amazon.com/Nike-Mens-Court-Vision-Sneaker/product-reviews/B07NMZBF7V/ref=cm_cr_dp_d_show_all_btm?ie=UTF8&reviewerType=all_reviews&pageNumber=1\n",
      "https://www.amazon.com/Nike-Mens-Court-Vision-Sneaker/product-reviews/B07NMZBF7V/ref=cm_cr_dp_d_show_all_btm?ie=UTF8&reviewerType=all_reviews&pageNumber=2\n",
      "https://www.amazon.com/Nike-Mens-Ebernon-Basketball-Shoe/product-reviews/B07MLG9PP1/ref=cm_cr_dp_d_show_all_btm?ie=UTF8&reviewerType=all_reviews&pageNumber=0\n",
      "https://www.amazon.com/Nike-Mens-Ebernon-Basketball-Shoe/product-reviews/B07MLG9PP1/ref=cm_cr_dp_d_show_all_btm?ie=UTF8&reviewerType=all_reviews&pageNumber=1\n",
      "https://www.amazon.com/Nike-Mens-Ebernon-Basketball-Shoe/product-reviews/B07MLG9PP1/ref=cm_cr_dp_d_show_all_btm?ie=UTF8&reviewerType=all_reviews&pageNumber=2\n",
      "https://www.amazon.com/Nike-Mens-Ebernon-Basketball-Shoe/product-reviews/B07MLG9PP1/ref=cm_cr_dp_d_show_all_btm?ie=UTF8&reviewerType=all_reviews&pageNumber=0\n",
      "https://www.amazon.com/Nike-Mens-Ebernon-Basketball-Shoe/product-reviews/B07MLG9PP1/ref=cm_cr_dp_d_show_all_btm?ie=UTF8&reviewerType=all_reviews&pageNumber=1\n",
      "https://www.amazon.com/Nike-Mens-Ebernon-Basketball-Shoe/product-reviews/B07MLG9PP1/ref=cm_cr_dp_d_show_all_btm?ie=UTF8&reviewerType=all_reviews&pageNumber=2\n",
      "https://www.amazon.com/Nike-React-Element-Running-Shoes/product-reviews/B08414RV14/ref=cm_cr_dp_d_show_all_btm?ie=UTF8&reviewerType=all_reviews&pageNumber=0\n",
      "https://www.amazon.com/Nike-React-Element-Running-Shoes/product-reviews/B08414RV14/ref=cm_cr_dp_d_show_all_btm?ie=UTF8&reviewerType=all_reviews&pageNumber=1\n",
      "https://www.amazon.com/Nike-React-Element-Running-Shoes/product-reviews/B08414RV14/ref=cm_cr_dp_d_show_all_btm?ie=UTF8&reviewerType=all_reviews&pageNumber=2\n",
      "https://www.amazon.com/Nike-React-Element-Running-Shoes/product-reviews/B08414RV14/ref=cm_cr_dp_d_show_all_btm?ie=UTF8&reviewerType=all_reviews&pageNumber=0\n",
      "https://www.amazon.com/Nike-React-Element-Running-Shoes/product-reviews/B08414RV14/ref=cm_cr_dp_d_show_all_btm?ie=UTF8&reviewerType=all_reviews&pageNumber=1\n",
      "https://www.amazon.com/Nike-React-Element-Running-Shoes/product-reviews/B08414RV14/ref=cm_cr_dp_d_show_all_btm?ie=UTF8&reviewerType=all_reviews&pageNumber=2\n",
      "https://www.amazon.com/NIKE-Air-Force-Mens-Trainers/product-reviews/B00UBN6G0O/ref=cm_cr_dp_d_show_all_btm?ie=UTF8&reviewerType=all_reviews&pageNumber=0\n",
      "https://www.amazon.com/NIKE-Air-Force-Mens-Trainers/product-reviews/B00UBN6G0O/ref=cm_cr_dp_d_show_all_btm?ie=UTF8&reviewerType=all_reviews&pageNumber=1\n",
      "https://www.amazon.com/NIKE-Air-Force-Mens-Trainers/product-reviews/B00UBN6G0O/ref=cm_cr_dp_d_show_all_btm?ie=UTF8&reviewerType=all_reviews&pageNumber=2\n"
     ]
    },
    {
     "name": "stdout",
     "output_type": "stream",
     "text": [
      "https://www.amazon.com/NIKE-Air-Force-Mens-Trainers/product-reviews/B00UBN6G0O/ref=cm_cr_dp_d_show_all_btm?ie=UTF8&reviewerType=all_reviews&pageNumber=0\n",
      "https://www.amazon.com/NIKE-Air-Force-Mens-Trainers/product-reviews/B00UBN6G0O/ref=cm_cr_dp_d_show_all_btm?ie=UTF8&reviewerType=all_reviews&pageNumber=1\n",
      "https://www.amazon.com/NIKE-Air-Force-Mens-Trainers/product-reviews/B00UBN6G0O/ref=cm_cr_dp_d_show_all_btm?ie=UTF8&reviewerType=all_reviews&pageNumber=2\n",
      "https://www.amazon.com/NIKE-Mens-2018-Running-Shoe/product-reviews/B000M5CRC2/ref=cm_cr_dp_d_show_all_btm?ie=UTF8&reviewerType=all_reviews&pageNumber=0\n",
      "https://www.amazon.com/NIKE-Mens-2018-Running-Shoe/product-reviews/B000M5CRC2/ref=cm_cr_dp_d_show_all_btm?ie=UTF8&reviewerType=all_reviews&pageNumber=1\n",
      "https://www.amazon.com/NIKE-Mens-2018-Running-Shoe/product-reviews/B000M5CRC2/ref=cm_cr_dp_d_show_all_btm?ie=UTF8&reviewerType=all_reviews&pageNumber=2\n",
      "https://www.amazon.com/NIKE-Mens-2018-Running-Shoe/product-reviews/B000M5CRC2/ref=cm_cr_dp_d_show_all_btm?ie=UTF8&reviewerType=all_reviews&pageNumber=0\n",
      "https://www.amazon.com/NIKE-Mens-2018-Running-Shoe/product-reviews/B000M5CRC2/ref=cm_cr_dp_d_show_all_btm?ie=UTF8&reviewerType=all_reviews&pageNumber=1\n",
      "https://www.amazon.com/NIKE-Mens-2018-Running-Shoe/product-reviews/B000M5CRC2/ref=cm_cr_dp_d_show_all_btm?ie=UTF8&reviewerType=all_reviews&pageNumber=2\n",
      "https://www.amazon.com/Nike-BQ9646-Mens-Running-Shoe/product-reviews/B085WQZCT5/ref=cm_cr_dp_d_show_all_btm?ie=UTF8&reviewerType=all_reviews&pageNumber=0\n",
      "https://www.amazon.com/Nike-BQ9646-Mens-Running-Shoe/product-reviews/B085WQZCT5/ref=cm_cr_dp_d_show_all_btm?ie=UTF8&reviewerType=all_reviews&pageNumber=1\n",
      "https://www.amazon.com/Nike-BQ9646-Mens-Running-Shoe/product-reviews/B085WQZCT5/ref=cm_cr_dp_d_show_all_btm?ie=UTF8&reviewerType=all_reviews&pageNumber=2\n",
      "https://www.amazon.com/Nike-BQ9646-Mens-Running-Shoe/product-reviews/B085WQZCT5/ref=cm_cr_dp_d_show_all_btm?ie=UTF8&reviewerType=all_reviews&pageNumber=0\n",
      "https://www.amazon.com/Nike-BQ9646-Mens-Running-Shoe/product-reviews/B085WQZCT5/ref=cm_cr_dp_d_show_all_btm?ie=UTF8&reviewerType=all_reviews&pageNumber=1\n",
      "https://www.amazon.com/Nike-BQ9646-Mens-Running-Shoe/product-reviews/B085WQZCT5/ref=cm_cr_dp_d_show_all_btm?ie=UTF8&reviewerType=all_reviews&pageNumber=2\n",
      "https://www.amazon.com/Nike-Mens-Court-Lite-Sneaker/product-reviews/B07LBFCFB4/ref=cm_cr_dp_d_show_all_btm?ie=UTF8&reviewerType=all_reviews&pageNumber=0\n",
      "https://www.amazon.com/Nike-Mens-Court-Lite-Sneaker/product-reviews/B07LBFCFB4/ref=cm_cr_dp_d_show_all_btm?ie=UTF8&reviewerType=all_reviews&pageNumber=1\n",
      "https://www.amazon.com/Nike-Mens-Court-Lite-Sneaker/product-reviews/B07LBFCFB4/ref=cm_cr_dp_d_show_all_btm?ie=UTF8&reviewerType=all_reviews&pageNumber=2\n",
      "https://www.amazon.com/Nike-Mens-Court-Lite-Sneaker/product-reviews/B07LBFCFB4/ref=cm_cr_dp_d_show_all_btm?ie=UTF8&reviewerType=all_reviews&pageNumber=0\n",
      "https://www.amazon.com/Nike-Mens-Court-Lite-Sneaker/product-reviews/B07LBFCFB4/ref=cm_cr_dp_d_show_all_btm?ie=UTF8&reviewerType=all_reviews&pageNumber=1\n",
      "https://www.amazon.com/Nike-Mens-Court-Lite-Sneaker/product-reviews/B07LBFCFB4/ref=cm_cr_dp_d_show_all_btm?ie=UTF8&reviewerType=all_reviews&pageNumber=2\n",
      "https://www.amazon.com/Nike-BQ6806-100-Mens-Basketball-Shoes/product-reviews/B081VC9NPZ/ref=cm_cr_dp_d_show_all_btm?ie=UTF8&reviewerType=all_reviews&pageNumber=0\n",
      "https://www.amazon.com/Nike-BQ6806-100-Mens-Basketball-Shoes/product-reviews/B081VC9NPZ/ref=cm_cr_dp_d_show_all_btm?ie=UTF8&reviewerType=all_reviews&pageNumber=1\n",
      "https://www.amazon.com/Nike-BQ6806-100-Mens-Basketball-Shoes/product-reviews/B081VC9NPZ/ref=cm_cr_dp_d_show_all_btm?ie=UTF8&reviewerType=all_reviews&pageNumber=2\n",
      "https://www.amazon.com/Nike-BQ6806-100-Mens-Basketball-Shoes/product-reviews/B081VC9NPZ/ref=cm_cr_dp_d_show_all_btm?ie=UTF8&reviewerType=all_reviews&pageNumber=0\n",
      "https://www.amazon.com/Nike-BQ6806-100-Mens-Basketball-Shoes/product-reviews/B081VC9NPZ/ref=cm_cr_dp_d_show_all_btm?ie=UTF8&reviewerType=all_reviews&pageNumber=1\n",
      "https://www.amazon.com/Nike-BQ6806-100-Mens-Basketball-Shoes/product-reviews/B081VC9NPZ/ref=cm_cr_dp_d_show_all_btm?ie=UTF8&reviewerType=all_reviews&pageNumber=2\n",
      "https://www.amazon.com/Nike-Mens-Race-Running-Shoe/product-reviews/B08D8CLMN3/ref=cm_cr_dp_d_show_all_btm?ie=UTF8&reviewerType=all_reviews&pageNumber=0\n",
      "https://www.amazon.com/Nike-Mens-Race-Running-Shoe/product-reviews/B08D8CLMN3/ref=cm_cr_dp_d_show_all_btm?ie=UTF8&reviewerType=all_reviews&pageNumber=1\n",
      "https://www.amazon.com/Nike-Mens-Race-Running-Shoe/product-reviews/B08D8CLMN3/ref=cm_cr_dp_d_show_all_btm?ie=UTF8&reviewerType=all_reviews&pageNumber=2\n",
      "https://www.amazon.com/Nike-Mens-Race-Running-Shoe/product-reviews/B08D8CLMN3/ref=cm_cr_dp_d_show_all_btm?ie=UTF8&reviewerType=all_reviews&pageNumber=0\n",
      "https://www.amazon.com/Nike-Mens-Race-Running-Shoe/product-reviews/B08D8CLMN3/ref=cm_cr_dp_d_show_all_btm?ie=UTF8&reviewerType=all_reviews&pageNumber=1\n",
      "https://www.amazon.com/Nike-Mens-Race-Running-Shoe/product-reviews/B08D8CLMN3/ref=cm_cr_dp_d_show_all_btm?ie=UTF8&reviewerType=all_reviews&pageNumber=2\n",
      "https://www.amazon.com/Nike-Mens-Stroke-Running-Shoe/product-reviews/B08R4PWDTK/ref=cm_cr_dp_d_show_all_btm?ie=UTF8&reviewerType=all_reviews&pageNumber=0\n",
      "https://www.amazon.com/Nike-Mens-Stroke-Running-Shoe/product-reviews/B08R4PWDTK/ref=cm_cr_dp_d_show_all_btm?ie=UTF8&reviewerType=all_reviews&pageNumber=1\n",
      "https://www.amazon.com/Nike-Mens-Stroke-Running-Shoe/product-reviews/B08R4PWDTK/ref=cm_cr_dp_d_show_all_btm?ie=UTF8&reviewerType=all_reviews&pageNumber=2\n",
      "https://www.amazon.com/Nike-Mens-Stroke-Running-Shoe/product-reviews/B08R4PWDTK/ref=cm_cr_dp_d_show_all_btm?ie=UTF8&reviewerType=all_reviews&pageNumber=0\n",
      "https://www.amazon.com/Nike-Mens-Stroke-Running-Shoe/product-reviews/B08R4PWDTK/ref=cm_cr_dp_d_show_all_btm?ie=UTF8&reviewerType=all_reviews&pageNumber=1\n",
      "https://www.amazon.com/Nike-Mens-Stroke-Running-Shoe/product-reviews/B08R4PWDTK/ref=cm_cr_dp_d_show_all_btm?ie=UTF8&reviewerType=all_reviews&pageNumber=2\n",
      "https://www.amazon.com/Nike-Mens-Force-07-Basketball/product-reviews/B0829L4VC6/ref=cm_cr_dp_d_show_all_btm?ie=UTF8&reviewerType=all_reviews&pageNumber=0\n",
      "https://www.amazon.com/Nike-Mens-Force-07-Basketball/product-reviews/B0829L4VC6/ref=cm_cr_dp_d_show_all_btm?ie=UTF8&reviewerType=all_reviews&pageNumber=1\n",
      "https://www.amazon.com/Nike-Mens-Force-07-Basketball/product-reviews/B0829L4VC6/ref=cm_cr_dp_d_show_all_btm?ie=UTF8&reviewerType=all_reviews&pageNumber=2\n",
      "https://www.amazon.com/Nike-Mens-Force-07-Basketball/product-reviews/B0829L4VC6/ref=cm_cr_dp_d_show_all_btm?ie=UTF8&reviewerType=all_reviews&pageNumber=0\n",
      "https://www.amazon.com/Nike-Mens-Force-07-Basketball/product-reviews/B0829L4VC6/ref=cm_cr_dp_d_show_all_btm?ie=UTF8&reviewerType=all_reviews&pageNumber=1\n",
      "https://www.amazon.com/Nike-Mens-Force-07-Basketball/product-reviews/B0829L4VC6/ref=cm_cr_dp_d_show_all_btm?ie=UTF8&reviewerType=all_reviews&pageNumber=2\n",
      "https://www.amazon.com/Nike-AQ8306-Mens-Fitness-Shoes/product-reviews/B07S2DR5JT/ref=cm_cr_dp_d_show_all_btm?ie=UTF8&reviewerType=all_reviews&pageNumber=0\n",
      "https://www.amazon.com/Nike-AQ8306-Mens-Fitness-Shoes/product-reviews/B07S2DR5JT/ref=cm_cr_dp_d_show_all_btm?ie=UTF8&reviewerType=all_reviews&pageNumber=1\n",
      "https://www.amazon.com/Nike-AQ8306-Mens-Fitness-Shoes/product-reviews/B07S2DR5JT/ref=cm_cr_dp_d_show_all_btm?ie=UTF8&reviewerType=all_reviews&pageNumber=2\n",
      "https://www.amazon.com/Nike-AQ8306-Mens-Fitness-Shoes/product-reviews/B07S2DR5JT/ref=cm_cr_dp_d_show_all_btm?ie=UTF8&reviewerType=all_reviews&pageNumber=0\n",
      "https://www.amazon.com/Nike-AQ8306-Mens-Fitness-Shoes/product-reviews/B07S2DR5JT/ref=cm_cr_dp_d_show_all_btm?ie=UTF8&reviewerType=all_reviews&pageNumber=1\n",
      "https://www.amazon.com/Nike-AQ8306-Mens-Fitness-Shoes/product-reviews/B07S2DR5JT/ref=cm_cr_dp_d_show_all_btm?ie=UTF8&reviewerType=all_reviews&pageNumber=2\n",
      "https://www.amazon.com/Nike-AH8050-Mens-Gymnastics-Shoes/product-reviews/B07FCQGVJF/ref=cm_cr_dp_d_show_all_btm?ie=UTF8&reviewerType=all_reviews&pageNumber=0\n",
      "https://www.amazon.com/Nike-AH8050-Mens-Gymnastics-Shoes/product-reviews/B07FCQGVJF/ref=cm_cr_dp_d_show_all_btm?ie=UTF8&reviewerType=all_reviews&pageNumber=1\n",
      "https://www.amazon.com/Nike-AH8050-Mens-Gymnastics-Shoes/product-reviews/B07FCQGVJF/ref=cm_cr_dp_d_show_all_btm?ie=UTF8&reviewerType=all_reviews&pageNumber=2\n"
     ]
    },
    {
     "name": "stdout",
     "output_type": "stream",
     "text": [
      "https://www.amazon.com/Nike-AH8050-Mens-Gymnastics-Shoes/product-reviews/B07FCQGVJF/ref=cm_cr_dp_d_show_all_btm?ie=UTF8&reviewerType=all_reviews&pageNumber=0\n",
      "https://www.amazon.com/Nike-AH8050-Mens-Gymnastics-Shoes/product-reviews/B07FCQGVJF/ref=cm_cr_dp_d_show_all_btm?ie=UTF8&reviewerType=all_reviews&pageNumber=1\n",
      "https://www.amazon.com/Nike-AH8050-Mens-Gymnastics-Shoes/product-reviews/B07FCQGVJF/ref=cm_cr_dp_d_show_all_btm?ie=UTF8&reviewerType=all_reviews&pageNumber=2\n",
      "https://www.amazon.com/Nike-Torch-Mens-Running-Shoes/product-reviews/B07C5FL5PJ/ref=cm_cr_dp_d_show_all_btm?ie=UTF8&reviewerType=all_reviews&pageNumber=0\n",
      "https://www.amazon.com/Nike-Torch-Mens-Running-Shoes/product-reviews/B07C5FL5PJ/ref=cm_cr_dp_d_show_all_btm?ie=UTF8&reviewerType=all_reviews&pageNumber=1\n",
      "https://www.amazon.com/Nike-Torch-Mens-Running-Shoes/product-reviews/B07C5FL5PJ/ref=cm_cr_dp_d_show_all_btm?ie=UTF8&reviewerType=all_reviews&pageNumber=2\n",
      "https://www.amazon.com/Nike-Torch-Mens-Running-Shoes/product-reviews/B07C5FL5PJ/ref=cm_cr_dp_d_show_all_btm?ie=UTF8&reviewerType=all_reviews&pageNumber=0\n",
      "https://www.amazon.com/Nike-Torch-Mens-Running-Shoes/product-reviews/B07C5FL5PJ/ref=cm_cr_dp_d_show_all_btm?ie=UTF8&reviewerType=all_reviews&pageNumber=1\n",
      "https://www.amazon.com/Nike-Torch-Mens-Running-Shoes/product-reviews/B07C5FL5PJ/ref=cm_cr_dp_d_show_all_btm?ie=UTF8&reviewerType=all_reviews&pageNumber=2\n",
      "https://www.amazon.com/Nike-Mens-Court-Vision-Sneaker/product-reviews/B07NMZ5Q5N/ref=cm_cr_dp_d_show_all_btm?ie=UTF8&reviewerType=all_reviews&pageNumber=0\n",
      "https://www.amazon.com/Nike-Mens-Court-Vision-Sneaker/product-reviews/B07NMZ5Q5N/ref=cm_cr_dp_d_show_all_btm?ie=UTF8&reviewerType=all_reviews&pageNumber=1\n",
      "https://www.amazon.com/Nike-Mens-Court-Vision-Sneaker/product-reviews/B07NMZ5Q5N/ref=cm_cr_dp_d_show_all_btm?ie=UTF8&reviewerType=all_reviews&pageNumber=2\n",
      "https://www.amazon.com/Nike-Mens-Court-Vision-Sneaker/product-reviews/B07NMZ5Q5N/ref=cm_cr_dp_d_show_all_btm?ie=UTF8&reviewerType=all_reviews&pageNumber=0\n",
      "https://www.amazon.com/Nike-Mens-Court-Vision-Sneaker/product-reviews/B07NMZ5Q5N/ref=cm_cr_dp_d_show_all_btm?ie=UTF8&reviewerType=all_reviews&pageNumber=1\n",
      "https://www.amazon.com/Nike-Mens-Court-Vision-Sneaker/product-reviews/B07NMZ5Q5N/ref=cm_cr_dp_d_show_all_btm?ie=UTF8&reviewerType=all_reviews&pageNumber=2\n",
      "https://www.amazon.com/Nike-Mens-Monarch-Cross-Trainer/product-reviews/B07RFNMZWM/ref=cm_cr_dp_d_show_all_btm?ie=UTF8&reviewerType=all_reviews&pageNumber=0\n",
      "https://www.amazon.com/Nike-Mens-Monarch-Cross-Trainer/product-reviews/B07RFNMZWM/ref=cm_cr_dp_d_show_all_btm?ie=UTF8&reviewerType=all_reviews&pageNumber=1\n",
      "https://www.amazon.com/Nike-Mens-Monarch-Cross-Trainer/product-reviews/B07RFNMZWM/ref=cm_cr_dp_d_show_all_btm?ie=UTF8&reviewerType=all_reviews&pageNumber=2\n",
      "https://www.amazon.com/Nike-Mens-Monarch-Cross-Trainer/product-reviews/B07RFNMZWM/ref=cm_cr_dp_d_show_all_btm?ie=UTF8&reviewerType=all_reviews&pageNumber=0\n",
      "https://www.amazon.com/Nike-Mens-Monarch-Cross-Trainer/product-reviews/B07RFNMZWM/ref=cm_cr_dp_d_show_all_btm?ie=UTF8&reviewerType=all_reviews&pageNumber=1\n",
      "https://www.amazon.com/Nike-Mens-Monarch-Cross-Trainer/product-reviews/B07RFNMZWM/ref=cm_cr_dp_d_show_all_btm?ie=UTF8&reviewerType=all_reviews&pageNumber=2\n",
      "https://www.amazon.com/Nike-Precision-Basketball-Shoes-CW3403-004/product-reviews/B0968GV25L/ref=cm_cr_dp_d_show_all_btm?ie=UTF8&reviewerType=all_reviews&pageNumber=0\n",
      "https://www.amazon.com/Nike-Precision-Basketball-Shoes-CW3403-004/product-reviews/B0968GV25L/ref=cm_cr_dp_d_show_all_btm?ie=UTF8&reviewerType=all_reviews&pageNumber=1\n",
      "https://www.amazon.com/Nike-Precision-Basketball-Shoes-CW3403-004/product-reviews/B0968GV25L/ref=cm_cr_dp_d_show_all_btm?ie=UTF8&reviewerType=all_reviews&pageNumber=2\n",
      "https://www.amazon.com/Nike-Precision-Basketball-Shoes-CW3403-004/product-reviews/B0968GV25L/ref=cm_cr_dp_d_show_all_btm?ie=UTF8&reviewerType=all_reviews&pageNumber=0\n",
      "https://www.amazon.com/Nike-Precision-Basketball-Shoes-CW3403-004/product-reviews/B0968GV25L/ref=cm_cr_dp_d_show_all_btm?ie=UTF8&reviewerType=all_reviews&pageNumber=1\n",
      "https://www.amazon.com/Nike-Precision-Basketball-Shoes-CW3403-004/product-reviews/B0968GV25L/ref=cm_cr_dp_d_show_all_btm?ie=UTF8&reviewerType=all_reviews&pageNumber=2\n",
      "https://www.amazon.com/Nike-Mens-Downshifter-9-Sneaker/product-reviews/B07LBG49LJ/ref=cm_cr_dp_d_show_all_btm?ie=UTF8&reviewerType=all_reviews&pageNumber=0\n",
      "https://www.amazon.com/Nike-Mens-Downshifter-9-Sneaker/product-reviews/B07LBG49LJ/ref=cm_cr_dp_d_show_all_btm?ie=UTF8&reviewerType=all_reviews&pageNumber=1\n",
      "https://www.amazon.com/Nike-Mens-Downshifter-9-Sneaker/product-reviews/B07LBG49LJ/ref=cm_cr_dp_d_show_all_btm?ie=UTF8&reviewerType=all_reviews&pageNumber=2\n",
      "https://www.amazon.com/Nike-Mens-Downshifter-9-Sneaker/product-reviews/B07LBG49LJ/ref=cm_cr_dp_d_show_all_btm?ie=UTF8&reviewerType=all_reviews&pageNumber=0\n",
      "https://www.amazon.com/Nike-Mens-Downshifter-9-Sneaker/product-reviews/B07LBG49LJ/ref=cm_cr_dp_d_show_all_btm?ie=UTF8&reviewerType=all_reviews&pageNumber=1\n",
      "https://www.amazon.com/Nike-Mens-Downshifter-9-Sneaker/product-reviews/B07LBG49LJ/ref=cm_cr_dp_d_show_all_btm?ie=UTF8&reviewerType=all_reviews&pageNumber=2\n",
      "https://www.amazon.com/Nike-Mens-Court-Royale-Sneaker/product-reviews/B07LBD5P4D/ref=cm_cr_dp_d_show_all_btm?ie=UTF8&reviewerType=all_reviews&pageNumber=0\n",
      "https://www.amazon.com/Nike-Mens-Court-Royale-Sneaker/product-reviews/B07LBD5P4D/ref=cm_cr_dp_d_show_all_btm?ie=UTF8&reviewerType=all_reviews&pageNumber=1\n",
      "https://www.amazon.com/Nike-Mens-Court-Royale-Sneaker/product-reviews/B07LBD5P4D/ref=cm_cr_dp_d_show_all_btm?ie=UTF8&reviewerType=all_reviews&pageNumber=2\n",
      "https://www.amazon.com/Nike-Mens-Court-Royale-Sneaker/product-reviews/B07LBD5P4D/ref=cm_cr_dp_d_show_all_btm?ie=UTF8&reviewerType=all_reviews&pageNumber=0\n",
      "https://www.amazon.com/Nike-Mens-Court-Royale-Sneaker/product-reviews/B07LBD5P4D/ref=cm_cr_dp_d_show_all_btm?ie=UTF8&reviewerType=all_reviews&pageNumber=1\n",
      "https://www.amazon.com/Nike-Mens-Court-Royale-Sneaker/product-reviews/B07LBD5P4D/ref=cm_cr_dp_d_show_all_btm?ie=UTF8&reviewerType=all_reviews&pageNumber=2\n",
      "https://www.amazon.com/Nike-AO0266-012-Mens-Low-Top-Sneakers/product-reviews/B07QM2NWY7/ref=cm_cr_dp_d_show_all_btm?ie=UTF8&reviewerType=all_reviews&pageNumber=0\n",
      "https://www.amazon.com/Nike-AO0266-012-Mens-Low-Top-Sneakers/product-reviews/B07QM2NWY7/ref=cm_cr_dp_d_show_all_btm?ie=UTF8&reviewerType=all_reviews&pageNumber=1\n",
      "https://www.amazon.com/Nike-AO0266-012-Mens-Low-Top-Sneakers/product-reviews/B07QM2NWY7/ref=cm_cr_dp_d_show_all_btm?ie=UTF8&reviewerType=all_reviews&pageNumber=2\n",
      "https://www.amazon.com/Nike-AO0266-012-Mens-Low-Top-Sneakers/product-reviews/B07QM2NWY7/ref=cm_cr_dp_d_show_all_btm?ie=UTF8&reviewerType=all_reviews&pageNumber=0\n",
      "https://www.amazon.com/Nike-AO0266-012-Mens-Low-Top-Sneakers/product-reviews/B07QM2NWY7/ref=cm_cr_dp_d_show_all_btm?ie=UTF8&reviewerType=all_reviews&pageNumber=1\n",
      "https://www.amazon.com/Nike-AO0266-012-Mens-Low-Top-Sneakers/product-reviews/B07QM2NWY7/ref=cm_cr_dp_d_show_all_btm?ie=UTF8&reviewerType=all_reviews&pageNumber=2\n",
      "https://www.amazon.com/Nike-Mens-Flex-Control-Sneaker/product-reviews/B07H7SF7TL/ref=cm_cr_dp_d_show_all_btm?ie=UTF8&reviewerType=all_reviews&pageNumber=0\n",
      "https://www.amazon.com/Nike-Mens-Flex-Control-Sneaker/product-reviews/B07H7SF7TL/ref=cm_cr_dp_d_show_all_btm?ie=UTF8&reviewerType=all_reviews&pageNumber=1\n",
      "https://www.amazon.com/Nike-Mens-Flex-Control-Sneaker/product-reviews/B07H7SF7TL/ref=cm_cr_dp_d_show_all_btm?ie=UTF8&reviewerType=all_reviews&pageNumber=2\n",
      "https://www.amazon.com/Nike-Mens-Flex-Control-Sneaker/product-reviews/B07H7SF7TL/ref=cm_cr_dp_d_show_all_btm?ie=UTF8&reviewerType=all_reviews&pageNumber=0\n",
      "https://www.amazon.com/Nike-Mens-Flex-Control-Sneaker/product-reviews/B07H7SF7TL/ref=cm_cr_dp_d_show_all_btm?ie=UTF8&reviewerType=all_reviews&pageNumber=1\n",
      "https://www.amazon.com/Nike-Mens-Flex-Control-Sneaker/product-reviews/B07H7SF7TL/ref=cm_cr_dp_d_show_all_btm?ie=UTF8&reviewerType=all_reviews&pageNumber=2\n",
      "https://www.amazon.com/Nike-AA7403-Mens-Running-Shoes/product-reviews/B07G8GZ2XF/ref=cm_cr_dp_d_show_all_btm?ie=UTF8&reviewerType=all_reviews&pageNumber=0\n",
      "https://www.amazon.com/Nike-AA7403-Mens-Running-Shoes/product-reviews/B07G8GZ2XF/ref=cm_cr_dp_d_show_all_btm?ie=UTF8&reviewerType=all_reviews&pageNumber=1\n"
     ]
    },
    {
     "name": "stdout",
     "output_type": "stream",
     "text": [
      "https://www.amazon.com/Nike-AA7403-Mens-Running-Shoes/product-reviews/B07G8GZ2XF/ref=cm_cr_dp_d_show_all_btm?ie=UTF8&reviewerType=all_reviews&pageNumber=2\n",
      "https://www.amazon.com/Nike-AA7403-Mens-Running-Shoes/product-reviews/B07G8GZ2XF/ref=cm_cr_dp_d_show_all_btm?ie=UTF8&reviewerType=all_reviews&pageNumber=0\n",
      "https://www.amazon.com/Nike-AA7403-Mens-Running-Shoes/product-reviews/B07G8GZ2XF/ref=cm_cr_dp_d_show_all_btm?ie=UTF8&reviewerType=all_reviews&pageNumber=1\n",
      "https://www.amazon.com/Nike-AA7403-Mens-Running-Shoes/product-reviews/B07G8GZ2XF/ref=cm_cr_dp_d_show_all_btm?ie=UTF8&reviewerType=all_reviews&pageNumber=2\n",
      "https://www.amazon.com/Nike-687977-Mens-Low-Top-Sneakers/product-reviews/B081KMGGKM/ref=cm_cr_dp_d_show_all_btm?ie=UTF8&reviewerType=all_reviews&pageNumber=0\n",
      "https://www.amazon.com/Nike-687977-Mens-Low-Top-Sneakers/product-reviews/B081KMGGKM/ref=cm_cr_dp_d_show_all_btm?ie=UTF8&reviewerType=all_reviews&pageNumber=1\n",
      "https://www.amazon.com/Nike-687977-Mens-Low-Top-Sneakers/product-reviews/B081KMGGKM/ref=cm_cr_dp_d_show_all_btm?ie=UTF8&reviewerType=all_reviews&pageNumber=2\n",
      "https://www.amazon.com/Nike-687977-Mens-Low-Top-Sneakers/product-reviews/B081KMGGKM/ref=cm_cr_dp_d_show_all_btm?ie=UTF8&reviewerType=all_reviews&pageNumber=0\n",
      "https://www.amazon.com/Nike-687977-Mens-Low-Top-Sneakers/product-reviews/B081KMGGKM/ref=cm_cr_dp_d_show_all_btm?ie=UTF8&reviewerType=all_reviews&pageNumber=1\n",
      "https://www.amazon.com/Nike-687977-Mens-Low-Top-Sneakers/product-reviews/B081KMGGKM/ref=cm_cr_dp_d_show_all_btm?ie=UTF8&reviewerType=all_reviews&pageNumber=2\n",
      "https://www.amazon.com/Nike-Trey-VIII-Basketball-Ck2090-002/product-reviews/B08BNB2Q4B/ref=cm_cr_dp_d_show_all_btm?ie=UTF8&reviewerType=all_reviews&pageNumber=0\n",
      "https://www.amazon.com/Nike-Trey-VIII-Basketball-Ck2090-002/product-reviews/B08BNB2Q4B/ref=cm_cr_dp_d_show_all_btm?ie=UTF8&reviewerType=all_reviews&pageNumber=1\n",
      "https://www.amazon.com/Nike-Trey-VIII-Basketball-Ck2090-002/product-reviews/B08BNB2Q4B/ref=cm_cr_dp_d_show_all_btm?ie=UTF8&reviewerType=all_reviews&pageNumber=2\n",
      "https://www.amazon.com/Nike-Trey-VIII-Basketball-Ck2090-002/product-reviews/B08BNB2Q4B/ref=cm_cr_dp_d_show_all_btm?ie=UTF8&reviewerType=all_reviews&pageNumber=0\n",
      "https://www.amazon.com/Nike-Trey-VIII-Basketball-Ck2090-002/product-reviews/B08BNB2Q4B/ref=cm_cr_dp_d_show_all_btm?ie=UTF8&reviewerType=all_reviews&pageNumber=1\n",
      "https://www.amazon.com/Nike-Trey-VIII-Basketball-Ck2090-002/product-reviews/B08BNB2Q4B/ref=cm_cr_dp_d_show_all_btm?ie=UTF8&reviewerType=all_reviews&pageNumber=2\n",
      "https://www.amazon.com/NIKE-Mens-Free-Flyknit-Running/product-reviews/B07BFMNZ7K/ref=cm_cr_dp_d_show_all_btm?ie=UTF8&reviewerType=all_reviews&pageNumber=0\n",
      "https://www.amazon.com/NIKE-Mens-Free-Flyknit-Running/product-reviews/B07BFMNZ7K/ref=cm_cr_dp_d_show_all_btm?ie=UTF8&reviewerType=all_reviews&pageNumber=1\n",
      "https://www.amazon.com/NIKE-Mens-Free-Flyknit-Running/product-reviews/B07BFMNZ7K/ref=cm_cr_dp_d_show_all_btm?ie=UTF8&reviewerType=all_reviews&pageNumber=2\n",
      "https://www.amazon.com/NIKE-Mens-Free-Flyknit-Running/product-reviews/B07BFMNZ7K/ref=cm_cr_dp_d_show_all_btm?ie=UTF8&reviewerType=all_reviews&pageNumber=0\n",
      "https://www.amazon.com/NIKE-Mens-Free-Flyknit-Running/product-reviews/B07BFMNZ7K/ref=cm_cr_dp_d_show_all_btm?ie=UTF8&reviewerType=all_reviews&pageNumber=1\n",
      "https://www.amazon.com/NIKE-Mens-Free-Flyknit-Running/product-reviews/B07BFMNZ7K/ref=cm_cr_dp_d_show_all_btm?ie=UTF8&reviewerType=all_reviews&pageNumber=2\n",
      "https://www.amazon.com/Nike-Mens-Running-Training-Shoes/product-reviews/B07NW2TLXX/ref=cm_cr_dp_d_show_all_btm?ie=UTF8&reviewerType=all_reviews&pageNumber=0\n",
      "https://www.amazon.com/Nike-Mens-Running-Training-Shoes/product-reviews/B07NW2TLXX/ref=cm_cr_dp_d_show_all_btm?ie=UTF8&reviewerType=all_reviews&pageNumber=1\n",
      "https://www.amazon.com/Nike-Mens-Running-Training-Shoes/product-reviews/B07NW2TLXX/ref=cm_cr_dp_d_show_all_btm?ie=UTF8&reviewerType=all_reviews&pageNumber=2\n",
      "https://www.amazon.com/Nike-Mens-Running-Training-Shoes/product-reviews/B07NW2TLXX/ref=cm_cr_dp_d_show_all_btm?ie=UTF8&reviewerType=all_reviews&pageNumber=0\n",
      "https://www.amazon.com/Nike-Mens-Running-Training-Shoes/product-reviews/B07NW2TLXX/ref=cm_cr_dp_d_show_all_btm?ie=UTF8&reviewerType=all_reviews&pageNumber=1\n",
      "https://www.amazon.com/Nike-Mens-Running-Training-Shoes/product-reviews/B07NW2TLXX/ref=cm_cr_dp_d_show_all_btm?ie=UTF8&reviewerType=all_reviews&pageNumber=2\n",
      "https://www.amazon.com/Nike-Womens-Training-Basketball-Shoe/product-reviews/B01LWRFXMD/ref=cm_cr_dp_d_show_all_btm?ie=UTF8&reviewerType=all_reviews&pageNumber=0\n",
      "https://www.amazon.com/Nike-Womens-Training-Basketball-Shoe/product-reviews/B01LWRFXMD/ref=cm_cr_dp_d_show_all_btm?ie=UTF8&reviewerType=all_reviews&pageNumber=1\n",
      "https://www.amazon.com/Nike-Womens-Training-Basketball-Shoe/product-reviews/B01LWRFXMD/ref=cm_cr_dp_d_show_all_btm?ie=UTF8&reviewerType=all_reviews&pageNumber=2\n",
      "https://www.amazon.com/Nike-Womens-Training-Basketball-Shoe/product-reviews/B01LWRFXMD/ref=cm_cr_dp_d_show_all_btm?ie=UTF8&reviewerType=all_reviews&pageNumber=0\n",
      "https://www.amazon.com/Nike-Womens-Training-Basketball-Shoe/product-reviews/B01LWRFXMD/ref=cm_cr_dp_d_show_all_btm?ie=UTF8&reviewerType=all_reviews&pageNumber=1\n",
      "https://www.amazon.com/Nike-Womens-Training-Basketball-Shoe/product-reviews/B01LWRFXMD/ref=cm_cr_dp_d_show_all_btm?ie=UTF8&reviewerType=all_reviews&pageNumber=2\n",
      "https://www.amazon.com/NIKE-Black-Reax-TR-Cross-Trainers/product-reviews/B079J3GWCX/ref=cm_cr_dp_d_show_all_btm?ie=UTF8&reviewerType=all_reviews&pageNumber=0\n",
      "https://www.amazon.com/NIKE-Black-Reax-TR-Cross-Trainers/product-reviews/B079J3GWCX/ref=cm_cr_dp_d_show_all_btm?ie=UTF8&reviewerType=all_reviews&pageNumber=1\n",
      "https://www.amazon.com/NIKE-Black-Reax-TR-Cross-Trainers/product-reviews/B079J3GWCX/ref=cm_cr_dp_d_show_all_btm?ie=UTF8&reviewerType=all_reviews&pageNumber=2\n",
      "https://www.amazon.com/NIKE-Black-Reax-TR-Cross-Trainers/product-reviews/B079J3GWCX/ref=cm_cr_dp_d_show_all_btm?ie=UTF8&reviewerType=all_reviews&pageNumber=0\n",
      "https://www.amazon.com/NIKE-Black-Reax-TR-Cross-Trainers/product-reviews/B079J3GWCX/ref=cm_cr_dp_d_show_all_btm?ie=UTF8&reviewerType=all_reviews&pageNumber=1\n",
      "https://www.amazon.com/NIKE-Black-Reax-TR-Cross-Trainers/product-reviews/B079J3GWCX/ref=cm_cr_dp_d_show_all_btm?ie=UTF8&reviewerType=all_reviews&pageNumber=2\n",
      "https://www.amazon.com/Nike-BQ3063-Mens-Fitness-Shoes/product-reviews/B07VNSTHZQ/ref=cm_cr_dp_d_show_all_btm?ie=UTF8&reviewerType=all_reviews&pageNumber=0\n",
      "https://www.amazon.com/Nike-BQ3063-Mens-Fitness-Shoes/product-reviews/B07VNSTHZQ/ref=cm_cr_dp_d_show_all_btm?ie=UTF8&reviewerType=all_reviews&pageNumber=1\n",
      "https://www.amazon.com/Nike-BQ3063-Mens-Fitness-Shoes/product-reviews/B07VNSTHZQ/ref=cm_cr_dp_d_show_all_btm?ie=UTF8&reviewerType=all_reviews&pageNumber=2\n",
      "https://www.amazon.com/Nike-BQ3063-Mens-Fitness-Shoes/product-reviews/B07VNSTHZQ/ref=cm_cr_dp_d_show_all_btm?ie=UTF8&reviewerType=all_reviews&pageNumber=0\n",
      "https://www.amazon.com/Nike-BQ3063-Mens-Fitness-Shoes/product-reviews/B07VNSTHZQ/ref=cm_cr_dp_d_show_all_btm?ie=UTF8&reviewerType=all_reviews&pageNumber=1\n",
      "https://www.amazon.com/Nike-BQ3063-Mens-Fitness-Shoes/product-reviews/B07VNSTHZQ/ref=cm_cr_dp_d_show_all_btm?ie=UTF8&reviewerType=all_reviews&pageNumber=2\n",
      "https://www.amazon.com/NIKE-Air-Max-Zero-BR/product-reviews/B06ZZY3D7M/ref=cm_cr_dp_d_show_all_btm?ie=UTF8&reviewerType=all_reviews&pageNumber=0\n",
      "https://www.amazon.com/NIKE-Air-Max-Zero-BR/product-reviews/B06ZZY3D7M/ref=cm_cr_dp_d_show_all_btm?ie=UTF8&reviewerType=all_reviews&pageNumber=1\n",
      "https://www.amazon.com/NIKE-Air-Max-Zero-BR/product-reviews/B06ZZY3D7M/ref=cm_cr_dp_d_show_all_btm?ie=UTF8&reviewerType=all_reviews&pageNumber=2\n",
      "https://www.amazon.com/NIKE-Air-Max-Zero-BR/product-reviews/B06ZZY3D7M/ref=cm_cr_dp_d_show_all_btm?ie=UTF8&reviewerType=all_reviews&pageNumber=0\n",
      "https://www.amazon.com/NIKE-Air-Max-Zero-BR/product-reviews/B06ZZY3D7M/ref=cm_cr_dp_d_show_all_btm?ie=UTF8&reviewerType=all_reviews&pageNumber=1\n",
      "https://www.amazon.com/NIKE-Air-Max-Zero-BR/product-reviews/B06ZZY3D7M/ref=cm_cr_dp_d_show_all_btm?ie=UTF8&reviewerType=all_reviews&pageNumber=2\n",
      "https://www.amazon.com/Nike-Mens-Gymnastics-Shoes/product-reviews/B08XPN34KK/ref=cm_cr_dp_d_show_all_btm?ie=UTF8&reviewerType=all_reviews&pageNumber=0\n"
     ]
    },
    {
     "name": "stdout",
     "output_type": "stream",
     "text": [
      "https://www.amazon.com/Nike-Mens-Gymnastics-Shoes/product-reviews/B08XPN34KK/ref=cm_cr_dp_d_show_all_btm?ie=UTF8&reviewerType=all_reviews&pageNumber=1\n",
      "https://www.amazon.com/Nike-Mens-Gymnastics-Shoes/product-reviews/B08XPN34KK/ref=cm_cr_dp_d_show_all_btm?ie=UTF8&reviewerType=all_reviews&pageNumber=2\n",
      "https://www.amazon.com/Nike-Mens-Gymnastics-Shoes/product-reviews/B08XPN34KK/ref=cm_cr_dp_d_show_all_btm?ie=UTF8&reviewerType=all_reviews&pageNumber=0\n",
      "https://www.amazon.com/Nike-Mens-Gymnastics-Shoes/product-reviews/B08XPN34KK/ref=cm_cr_dp_d_show_all_btm?ie=UTF8&reviewerType=all_reviews&pageNumber=1\n",
      "https://www.amazon.com/Nike-Mens-Gymnastics-Shoes/product-reviews/B08XPN34KK/ref=cm_cr_dp_d_show_all_btm?ie=UTF8&reviewerType=all_reviews&pageNumber=2\n",
      "https://www.amazon.com/Nike-Precision-Basketball-Shoes-CW3403-002/product-reviews/B096HXT1F3/ref=cm_cr_dp_d_show_all_btm?ie=UTF8&reviewerType=all_reviews&pageNumber=0\n",
      "https://www.amazon.com/Nike-Precision-Basketball-Shoes-CW3403-002/product-reviews/B096HXT1F3/ref=cm_cr_dp_d_show_all_btm?ie=UTF8&reviewerType=all_reviews&pageNumber=1\n",
      "https://www.amazon.com/Nike-Precision-Basketball-Shoes-CW3403-002/product-reviews/B096HXT1F3/ref=cm_cr_dp_d_show_all_btm?ie=UTF8&reviewerType=all_reviews&pageNumber=2\n",
      "https://www.amazon.com/Nike-Precision-Basketball-Shoes-CW3403-002/product-reviews/B096HXT1F3/ref=cm_cr_dp_d_show_all_btm?ie=UTF8&reviewerType=all_reviews&pageNumber=0\n",
      "https://www.amazon.com/Nike-Precision-Basketball-Shoes-CW3403-002/product-reviews/B096HXT1F3/ref=cm_cr_dp_d_show_all_btm?ie=UTF8&reviewerType=all_reviews&pageNumber=1\n",
      "https://www.amazon.com/Nike-Precision-Basketball-Shoes-CW3403-002/product-reviews/B096HXT1F3/ref=cm_cr_dp_d_show_all_btm?ie=UTF8&reviewerType=all_reviews&pageNumber=2\n",
      "https://www.amazon.com/Nike-AQ1189-Mens-Fitness-Shoes/product-reviews/B07VQGQVX5/ref=cm_cr_dp_d_show_all_btm?ie=UTF8&reviewerType=all_reviews&pageNumber=0\n",
      "https://www.amazon.com/Nike-AQ1189-Mens-Fitness-Shoes/product-reviews/B07VQGQVX5/ref=cm_cr_dp_d_show_all_btm?ie=UTF8&reviewerType=all_reviews&pageNumber=1\n",
      "https://www.amazon.com/Nike-AQ1189-Mens-Fitness-Shoes/product-reviews/B07VQGQVX5/ref=cm_cr_dp_d_show_all_btm?ie=UTF8&reviewerType=all_reviews&pageNumber=2\n",
      "https://www.amazon.com/Nike-AQ1189-Mens-Fitness-Shoes/product-reviews/B07VQGQVX5/ref=cm_cr_dp_d_show_all_btm?ie=UTF8&reviewerType=all_reviews&pageNumber=0\n",
      "https://www.amazon.com/Nike-AQ1189-Mens-Fitness-Shoes/product-reviews/B07VQGQVX5/ref=cm_cr_dp_d_show_all_btm?ie=UTF8&reviewerType=all_reviews&pageNumber=1\n",
      "https://www.amazon.com/Nike-AQ1189-Mens-Fitness-Shoes/product-reviews/B07VQGQVX5/ref=cm_cr_dp_d_show_all_btm?ie=UTF8&reviewerType=all_reviews&pageNumber=2\n",
      "https://www.amazon.com/Nike-Mens-Mid-Top-Trainers-Running/product-reviews/B08Q9YFD82/ref=cm_cr_dp_d_show_all_btm?ie=UTF8&reviewerType=all_reviews&pageNumber=0\n",
      "https://www.amazon.com/Nike-Mens-Mid-Top-Trainers-Running/product-reviews/B08Q9YFD82/ref=cm_cr_dp_d_show_all_btm?ie=UTF8&reviewerType=all_reviews&pageNumber=1\n",
      "https://www.amazon.com/Nike-Mens-Mid-Top-Trainers-Running/product-reviews/B08Q9YFD82/ref=cm_cr_dp_d_show_all_btm?ie=UTF8&reviewerType=all_reviews&pageNumber=2\n"
     ]
    }
   ],
   "source": [
    "reviews=[]\n",
    "for j in range(len(links)):\n",
    "    # insert how many page of review you'd like to loop\n",
    "    for k in range(2):\n",
    "        response=Searchreviews(links[j]+'&pageNumber='+ str(k))\n",
    "        soup=BeautifulSoup(response.content)\n",
    "        for i in soup.findAll(\"span\", {'data-hook':\"review-body\"}):\n",
    "            reviews.append(i.text)"
   ]
  },
  {
   "cell_type": "code",
   "execution_count": 27,
   "metadata": {
    "ExecuteTime": {
     "end_time": "2022-02-21T16:38:50.953646Z",
     "start_time": "2022-02-21T16:38:50.945363Z"
    }
   },
   "outputs": [
    {
     "data": {
      "text/plain": [
       "2826"
      ]
     },
     "execution_count": 27,
     "metadata": {},
     "output_type": "execute_result"
    }
   ],
   "source": [
    "len(reviews)"
   ]
  },
  {
   "cell_type": "markdown",
   "metadata": {},
   "source": [
    "## Step 9: Place Reviews in Data Frame and Export to CSV in Directory"
   ]
  },
  {
   "cell_type": "code",
   "execution_count": 28,
   "metadata": {
    "ExecuteTime": {
     "end_time": "2022-02-21T16:38:51.161034Z",
     "start_time": "2022-02-21T16:38:50.956226Z"
    }
   },
   "outputs": [],
   "source": [
    "rev={'reviews': reviews} #building dictionary \n",
    "review_data = pd.DataFrame.from_dict(rev) # create pd dataframe out of reviews\n",
    "pd.set_option('max_colwidth', 800) #how wide the column is"
   ]
  },
  {
   "cell_type": "code",
   "execution_count": 29,
   "metadata": {
    "ExecuteTime": {
     "end_time": "2022-02-21T16:38:51.319540Z",
     "start_time": "2022-02-21T16:38:51.163844Z"
    }
   },
   "outputs": [
    {
     "data": {
      "text/html": [
       "<div>\n",
       "<style scoped>\n",
       "    .dataframe tbody tr th:only-of-type {\n",
       "        vertical-align: middle;\n",
       "    }\n",
       "\n",
       "    .dataframe tbody tr th {\n",
       "        vertical-align: top;\n",
       "    }\n",
       "\n",
       "    .dataframe thead th {\n",
       "        text-align: right;\n",
       "    }\n",
       "</style>\n",
       "<table border=\"1\" class=\"dataframe\">\n",
       "  <thead>\n",
       "    <tr style=\"text-align: right;\">\n",
       "      <th></th>\n",
       "      <th>reviews</th>\n",
       "    </tr>\n",
       "  </thead>\n",
       "  <tbody>\n",
       "    <tr>\n",
       "      <th>0</th>\n",
       "      <td>\\n\\n  First off, these shoes are insanely comfortable, and fit perfectly. However, the \"bubble\" traction pattern on the bottom of the shoe makes a loud snap / pop when you walk, at literally the volume of popping bubble packaging. Numerous people have commented on this, it's completely unmistakable. This goes for nearly all surfaces. Really odd design choice, or maybe it was just my size (12.5).\\n\\n</td>\n",
       "    </tr>\n",
       "    <tr>\n",
       "      <th>1</th>\n",
       "      <td>\\n\\n  I’m not a marathon runner and in fact I’m far from it, run about 2 miles 4-5 days a week and was looking to replace my current new balances but wanted to try something new because all I buy are NB’s. These shoes, to me, were stunning. Minute I put them on, felt comfortable, light, but the sole is deceivingly thick. But not so much that it feels like your trucking around in some basketball shoes. These also on an aesthetic level...god do they pop. I knew they were fresh as hell the moment I put them on but I got 5 compliments the first day I wore these around just to break them in. Probably going to get another pair just for walking around. I’m not some expert runner so there may be flaws to my untrained eye but I am beyond impressed with these. I go around to different brands wit...</td>\n",
       "    </tr>\n",
       "    <tr>\n",
       "      <th>2</th>\n",
       "      <td>\\n\\n  I dont know if the JV in the label means something but these shoes DID NOT FIT!! I bought them for my boyfriend as a bday gift. I doubled checked his other pairs of sneakers and they all are 8.5Shoes were too small! It hurt his toes when he tried them on. I want to return them for refund but I am not im the US at the moment and my deadline is Feb 23.\\n\\n</td>\n",
       "    </tr>\n",
       "    <tr>\n",
       "      <th>3</th>\n",
       "      <td>\\n\\n  One shoe had a loud smack every time my son walked. Like it was suctioning down to the floor. We even put tape at the bottOm to pin point area And it continued doing it. Waiting on replacement I do not know if I will be billed twice as my son took shoes to dads house and have them a good wear down in 3 days and he never told me about problem till he was home\\n\\n</td>\n",
       "    </tr>\n",
       "    <tr>\n",
       "      <th>4</th>\n",
       "      <td>\\n\\n  Coming from nike air pegasus and air vomeros...which were nice, this one does not have any Nike air unit. But for casual walking the dog etc, these are perfect at 1/3 the price of the high end premium nikes. The best pro about this shoe is the nike heel lock design that was also included on the Air Vomeros...best design for the heel in my opinion(easy to slip on and stays locked down in place while running or walking). Can't wait to see what the Revolution 6 will look like.\\n\\n</td>\n",
       "    </tr>\n",
       "  </tbody>\n",
       "</table>\n",
       "</div>"
      ],
      "text/plain": [
       "                                                                                                                                                                                                                                                                                                                                                                                                                                                                                                                                                                                                                                                                                                                                                                                                                           reviews\n",
       "0                                                                                                                                                                                                                                                                                                                                                                                                               \\n\\n  First off, these shoes are insanely comfortable, and fit perfectly. However, the \"bubble\" traction pattern on the bottom of the shoe makes a loud snap / pop when you walk, at literally the volume of popping bubble packaging. Numerous people have commented on this, it's completely unmistakable. This goes for nearly all surfaces. Really odd design choice, or maybe it was just my size (12.5).\\n\\n\n",
       "1  \\n\\n  I’m not a marathon runner and in fact I’m far from it, run about 2 miles 4-5 days a week and was looking to replace my current new balances but wanted to try something new because all I buy are NB’s. These shoes, to me, were stunning. Minute I put them on, felt comfortable, light, but the sole is deceivingly thick. But not so much that it feels like your trucking around in some basketball shoes. These also on an aesthetic level...god do they pop. I knew they were fresh as hell the moment I put them on but I got 5 compliments the first day I wore these around just to break them in. Probably going to get another pair just for walking around. I’m not some expert runner so there may be flaws to my untrained eye but I am beyond impressed with these. I go around to different brands wit...\n",
       "2                                                                                                                                                                                                                                                                                                                                                                                                                                                       \\n\\n  I dont know if the JV in the label means something but these shoes DID NOT FIT!! I bought them for my boyfriend as a bday gift. I doubled checked his other pairs of sneakers and they all are 8.5Shoes were too small! It hurt his toes when he tried them on. I want to return them for refund but I am not im the US at the moment and my deadline is Feb 23.\\n\\n\n",
       "3                                                                                                                                                                                                                                                                                                                                                                                                                                               \\n\\n  One shoe had a loud smack every time my son walked. Like it was suctioning down to the floor. We even put tape at the bottOm to pin point area And it continued doing it. Waiting on replacement I do not know if I will be billed twice as my son took shoes to dads house and have them a good wear down in 3 days and he never told me about problem till he was home\\n\\n\n",
       "4                                                                                                                                                                                                                                                                                                                         \\n\\n  Coming from nike air pegasus and air vomeros...which were nice, this one does not have any Nike air unit. But for casual walking the dog etc, these are perfect at 1/3 the price of the high end premium nikes. The best pro about this shoe is the nike heel lock design that was also included on the Air Vomeros...best design for the heel in my opinion(easy to slip on and stays locked down in place while running or walking). Can't wait to see what the Revolution 6 will look like.\\n\\n"
      ]
     },
     "execution_count": 29,
     "metadata": {},
     "output_type": "execute_result"
    }
   ],
   "source": [
    "review_data.head(5)\n",
    "review_data.shape"
   ]
  },
  {
   "cell_type": "code",
   "execution_count": 31,
   "metadata": {
    "ExecuteTime": {
     "end_time": "2022-02-21T16:38:52.036794Z",
     "start_time": "2022-02-21T16:38:51.382729Z"
    }
   },
   "outputs": [],
   "source": [
    "review_data.to_csv('/home/AC27802/Scraping_Amazon_reviews.csv', index=False) #converting the dataframe to a csv file in the home directory"
   ]
  },
  {
   "cell_type": "code",
   "execution_count": null,
   "metadata": {
    "ExecuteTime": {
     "start_time": "2022-02-21T16:33:54.678Z"
    }
   },
   "outputs": [],
   "source": []
  },
  {
   "cell_type": "markdown",
   "metadata": {},
   "source": [
    "## Amazon Customer Review -- Method 2"
   ]
  },
  {
   "cell_type": "code",
   "execution_count": null,
   "metadata": {},
   "outputs": [],
   "source": []
  },
  {
   "cell_type": "code",
   "execution_count": null,
   "metadata": {},
   "outputs": [],
   "source": []
  },
  {
   "cell_type": "code",
   "execution_count": null,
   "metadata": {},
   "outputs": [],
   "source": []
  },
  {
   "cell_type": "code",
   "execution_count": null,
   "metadata": {},
   "outputs": [],
   "source": []
  },
  {
   "cell_type": "code",
   "execution_count": null,
   "metadata": {},
   "outputs": [],
   "source": []
  },
  {
   "cell_type": "code",
   "execution_count": null,
   "metadata": {},
   "outputs": [],
   "source": []
  },
  {
   "cell_type": "markdown",
   "metadata": {},
   "source": [
    "### Reference:\n",
    "https://www.fullstaxx.com/2021/05/12/scraping-amazon-python/\n",
    "\n",
    "https://www.youtube.com/watch?v=5secVgADRpA"
   ]
  },
  {
   "cell_type": "code",
   "execution_count": null,
   "metadata": {},
   "outputs": [],
   "source": []
  },
  {
   "cell_type": "code",
   "execution_count": null,
   "metadata": {},
   "outputs": [],
   "source": []
  },
  {
   "cell_type": "markdown",
   "metadata": {},
   "source": [
    "# Zillow Housing Scraping"
   ]
  },
  {
   "cell_type": "markdown",
   "metadata": {},
   "source": [
    "## Step 1: Add User-Agents and Referer when sending request to Web Page"
   ]
  },
  {
   "cell_type": "code",
   "execution_count": 19,
   "metadata": {
    "ExecuteTime": {
     "end_time": "2022-02-21T20:55:06.546661Z",
     "start_time": "2022-02-21T20:55:06.542490Z"
    }
   },
   "outputs": [],
   "source": [
    "header={'user-agent': 'Mozilla/5.0 (Windows NT 10.0; Win64; x64) AppleWebKit/537.36 (KHTML, like Gecko) Chrome/97.0.4692.99 Safari/537.36', 'Referer': 'https://63c073113b7dc61aebc39f05a71f403c.safeframe.googlesyndication.com/'}"
   ]
  },
  {
   "cell_type": "code",
   "execution_count": 20,
   "metadata": {
    "ExecuteTime": {
     "end_time": "2022-02-21T20:55:07.393703Z",
     "start_time": "2022-02-21T20:55:07.389869Z"
    }
   },
   "outputs": [],
   "source": [
    "url='https://www.zillow.com/homes/Denver,-CO_rb/'"
   ]
  },
  {
   "cell_type": "code",
   "execution_count": 21,
   "metadata": {
    "ExecuteTime": {
     "end_time": "2022-02-21T20:55:08.157753Z",
     "start_time": "2022-02-21T20:55:07.883476Z"
    }
   },
   "outputs": [
    {
     "data": {
      "text/plain": [
       "200"
      ]
     },
     "execution_count": 21,
     "metadata": {},
     "output_type": "execute_result"
    }
   ],
   "source": [
    "willow_html = requests.get(url=url, headers=header)\n",
    "willow_html.status_code"
   ]
  },
  {
   "cell_type": "code",
   "execution_count": 22,
   "metadata": {
    "ExecuteTime": {
     "end_time": "2022-02-21T20:55:08.507783Z",
     "start_time": "2022-02-21T20:55:08.503624Z"
    }
   },
   "outputs": [],
   "source": [
    "cookie=willow_html.cookies # can assign to a cookie object to stay away from blocking "
   ]
  },
  {
   "cell_type": "code",
   "execution_count": 23,
   "metadata": {
    "ExecuteTime": {
     "end_time": "2022-02-21T20:55:09.934989Z",
     "start_time": "2022-02-21T20:55:09.572286Z"
    }
   },
   "outputs": [
    {
     "data": {
      "text/plain": [
       "200"
      ]
     },
     "execution_count": 23,
     "metadata": {},
     "output_type": "execute_result"
    }
   ],
   "source": [
    "willow_html = requests.get(url=url, cookies=cookie, headers=header)\n",
    "willow_html.status_code"
   ]
  },
  {
   "cell_type": "code",
   "execution_count": 24,
   "metadata": {
    "ExecuteTime": {
     "end_time": "2022-02-21T20:55:11.003926Z",
     "start_time": "2022-02-21T20:55:10.992249Z"
    }
   },
   "outputs": [
    {
     "data": {
      "text/plain": [
       "<html><head><meta content=\"noindex, nofollow\" name=\"robots\"/><link href=\"https://www.zillowstatic.com/vstatic/80d5e73/static/css/z-pages/captcha.css\" media=\"screen\" rel=\"stylesheet\" type=\"text/css\"/><script>\n",
       "        window._pxAppId = 'PXHYx10rg3';\n",
       "        window._pxJsClientSrc = '/HYx10rg3/init.js';\n",
       "        window._pxHostUrl = '/HYx10rg3/xhr';\n",
       "        window._pxFirstPartyEnabled = true;\n",
       "        window._pxreCaptchaTheme='light';\n",
       "    </script><script src=\"https://captcha.px-cdn.net/PXHYx10rg3/captcha.js?a=c&amp;m=0\" type=\"text/javascript\"></script>\n",
       "<script>\n",
       "        function getQueryString(name, url) {\n",
       "            if (!url) url = window.location.href;\n",
       "            name = name.replace(/[\\[\\]]/g, \"\\\\$&\");\n",
       "            var regex = new RegExp(\"[?&]\" + name + \"(=([^&#]*)|&|#|$)\"),\n",
       "                results = regex.exec(url);\n",
       "            if (!results) return null;\n",
       "            if (!results[2]) return '';\n",
       "            return decodeURIComponent(results[2].replace(/\\+/g, \" \"));\n",
       "        }\n",
       "        document.addEventListener(\"DOMContentLoaded\", function(e) {\n",
       "            var uuidVerifyRegExp = /^\\{?[0-9a-fA-F]{8}-[0-9a-fA-F]{4}-[0-9a-fA-F]{4}-[0-9a-fA-F]{4}-[0-9a-fA-F]{12}\\}?$/i;\n",
       "            document.getElementById(\"uuid\").innerText = \"UUID: \" + uuidVerifyRegExp.exec(getQueryString(\"uuid\"));\n",
       "        });\n",
       "\n",
       "        function handleCaptcha(response) {\n",
       "            var vid = getQueryString(\"vid\"); // getQueryString is implemented below\n",
       "            var uuid = getQueryString(\"uuid\");\n",
       "            var name = '_pxCaptcha';\n",
       "            var cookieValue =  btoa(JSON.stringify({r:response,v:vid,u:uuid}));\n",
       "            var cookieParts = [name, '=', cookieValue, '; path=/'];\n",
       "            cookieParts.push('; domain=' + window.location.hostname);\n",
       "            cookieParts.push('; max-age=10');//expire after 10 seconds\n",
       "            document.cookie = cookieParts.join('');\n",
       "            var originalURL = getOriginalUrl(\"url\");\n",
       "            var originalHost = window.location.host;\n",
       "            var newHref = window.location.protocol + \"//\" + originalHost;\n",
       "            originalURL = originalURL || '/';\n",
       "            newHref = newHref + originalURL;\n",
       "            window.location.href = newHref;\n",
       "        }\n",
       "\n",
       "        function getOriginalUrl(name) {\n",
       "            var url = getQueryString(name);\n",
       "            if (!url) return null;\n",
       "            var regExMatcher = new RegExp(\"(([^&#@]*)|&|#|$)\");\n",
       "            var matches = regExMatcher.exec(url);\n",
       "            if (!matches) return null;\n",
       "            return matches[0];\n",
       "        }\n",
       "    </script></head><body><main class=\"zsg-layout-content\"><div class=\"error-content-block\"><div class=\"error-text-content\"><!-- <h1>Captcha</h1> --><h5>Please verify you're a human to continue.</h5><div class=\"captcha-container\" id=\"content\"><div data-callback=\"handleCaptcha\" id=\"px-captcha\"></div><img alt=\"Zillow\" height=\"14\" src=\"https://www.zillowstatic.com/static/logos/logo-65x14.png\" width=\"65\"/></div></div></div></main><h4 class=\"uuid-string zsg-fineprint\" id=\"uuid\"></h4></body></html><!-- H:001  T:1ms  S:2605  R:Mon Feb 21 12:55:09 PST 2022  B:5.0.68720.2-hotfix_2022-02-15.1baa2a8~hotfix-platform-for-2022-02-15.ae46f80d -->"
      ]
     },
     "execution_count": 24,
     "metadata": {},
     "output_type": "execute_result"
    }
   ],
   "source": [
    "bsojb = BeautifulSoup(willow_html.content, 'lxml')\n",
    "bsojb"
   ]
  },
  {
   "cell_type": "code",
   "execution_count": null,
   "metadata": {},
   "outputs": [],
   "source": [
    " #https://www.youtube.com/watch?v=pzptMqULnyE"
   ]
  },
  {
   "cell_type": "code",
   "execution_count": null,
   "metadata": {},
   "outputs": [],
   "source": []
  },
  {
   "cell_type": "code",
   "execution_count": null,
   "metadata": {},
   "outputs": [],
   "source": []
  },
  {
   "cell_type": "code",
   "execution_count": null,
   "metadata": {},
   "outputs": [],
   "source": []
  }
 ],
 "metadata": {
  "kernelspec": {
   "display_name": "Python 3.6 PySpark 2.4",
   "language": "python",
   "name": "pyspark3.6"
  },
  "language_info": {
   "codemirror_mode": {
    "name": "ipython",
    "version": 3
   },
   "file_extension": ".py",
   "mimetype": "text/x-python",
   "name": "python",
   "nbconvert_exporter": "python",
   "pygments_lexer": "ipython3",
   "version": "3.6.10"
  }
 },
 "nbformat": 4,
 "nbformat_minor": 2
}
